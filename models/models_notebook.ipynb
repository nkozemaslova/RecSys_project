{
  "cells": [
    {
      "cell_type": "code",
      "execution_count": null,
      "metadata": {
        "id": "JH7vmbwvYK8o"
      },
      "outputs": [],
      "source": [
        "import numpy as np\n",
        "import pandas as pd\n",
        "import math\n",
        "\n",
        "import matplotlib.pyplot as plt\n",
        "import seaborn as sns\n",
        "\n",
        "plt.style.use('ggplot')    \n",
        "%matplotlib inline \n",
        "\n",
        "from sklearn.cluster import KMeans\n",
        "from sklearn.metrics.pairwise import sigmoid_kernel\n",
        "from sklearn.metrics.pairwise import cosine_similarity\n",
        "from sklearn import preprocessing\n",
        "from sklearn.model_selection import train_test_split\n",
        "from tqdm import tqdm_notebook\n",
        "from scipy.linalg import svd\n",
        "\n",
        "import warnings\n",
        "warnings.filterwarnings('ignore')"
      ]
    },
    {
      "cell_type": "markdown",
      "metadata": {
        "id": "-vId9vsKZLvM"
      },
      "source": [
        "## Загрузка и объединение датасетов"
      ]
    },
    {
      "cell_type": "code",
      "execution_count": null,
      "metadata": {
        "colab": {
          "base_uri": "https://localhost:8080/",
          "height": 438
        },
        "id": "5cwq0cCMYRhc",
        "outputId": "6a866b58-83ba-42f7-eecf-809be2502fbe"
      },
      "outputs": [
        {
          "output_type": "execute_result",
          "data": {
            "text/plain": [
              "   genre        artist_name                        track_name  \\\n",
              "0  Movie     Henri Salvador       C'est beau de faire un Show   \n",
              "1  Movie  Martin & les fées  Perdu d'avance (par Gad Elmaleh)   \n",
              "2  Movie    Joseph Williams    Don't Let Me Be Lonely Tonight   \n",
              "3  Movie     Henri Salvador    Dis-moi Monsieur Gordon Cooper   \n",
              "4  Movie       Fabien Nataf                         Ouverture   \n",
              "\n",
              "                 track_id  popularity  acousticness  danceability  \\\n",
              "0  0BRjO6ga9RKCKjfDqeFgWV           0         0.611         0.389   \n",
              "1  0BjC1NfoEOOusryehmNudP           1         0.246         0.590   \n",
              "2  0CoSDzoNIKCRs124s9uTVy           3         0.952         0.663   \n",
              "3  0Gc6TVm52BwZD07Ki6tIvf           0         0.703         0.240   \n",
              "4  0IuslXpMROHdEPvSl1fTQK           4         0.950         0.331   \n",
              "\n",
              "   duration_ms  energy  instrumentalness key  liveness  loudness   mode  \\\n",
              "0        99373   0.910             0.000  C#    0.3460    -1.828  Major   \n",
              "1       137373   0.737             0.000  F#    0.1510    -5.559  Minor   \n",
              "2       170267   0.131             0.000   C    0.1030   -13.879  Minor   \n",
              "3       152427   0.326             0.000  C#    0.0985   -12.178  Major   \n",
              "4        82625   0.225             0.123   F    0.2020   -21.150  Major   \n",
              "\n",
              "   speechiness    tempo time_signature  valence  \n",
              "0       0.0525  166.969            4/4    0.814  \n",
              "1       0.0868  174.003            4/4    0.816  \n",
              "2       0.0362   99.488            5/4    0.368  \n",
              "3       0.0395  171.758            4/4    0.227  \n",
              "4       0.0456  140.576            4/4    0.390  "
            ],
            "text/html": [
              "\n",
              "  <div id=\"df-550264c7-5080-4a6f-a876-344d20b44713\">\n",
              "    <div class=\"colab-df-container\">\n",
              "      <div>\n",
              "<style scoped>\n",
              "    .dataframe tbody tr th:only-of-type {\n",
              "        vertical-align: middle;\n",
              "    }\n",
              "\n",
              "    .dataframe tbody tr th {\n",
              "        vertical-align: top;\n",
              "    }\n",
              "\n",
              "    .dataframe thead th {\n",
              "        text-align: right;\n",
              "    }\n",
              "</style>\n",
              "<table border=\"1\" class=\"dataframe\">\n",
              "  <thead>\n",
              "    <tr style=\"text-align: right;\">\n",
              "      <th></th>\n",
              "      <th>genre</th>\n",
              "      <th>artist_name</th>\n",
              "      <th>track_name</th>\n",
              "      <th>track_id</th>\n",
              "      <th>popularity</th>\n",
              "      <th>acousticness</th>\n",
              "      <th>danceability</th>\n",
              "      <th>duration_ms</th>\n",
              "      <th>energy</th>\n",
              "      <th>instrumentalness</th>\n",
              "      <th>key</th>\n",
              "      <th>liveness</th>\n",
              "      <th>loudness</th>\n",
              "      <th>mode</th>\n",
              "      <th>speechiness</th>\n",
              "      <th>tempo</th>\n",
              "      <th>time_signature</th>\n",
              "      <th>valence</th>\n",
              "    </tr>\n",
              "  </thead>\n",
              "  <tbody>\n",
              "    <tr>\n",
              "      <th>0</th>\n",
              "      <td>Movie</td>\n",
              "      <td>Henri Salvador</td>\n",
              "      <td>C'est beau de faire un Show</td>\n",
              "      <td>0BRjO6ga9RKCKjfDqeFgWV</td>\n",
              "      <td>0</td>\n",
              "      <td>0.611</td>\n",
              "      <td>0.389</td>\n",
              "      <td>99373</td>\n",
              "      <td>0.910</td>\n",
              "      <td>0.000</td>\n",
              "      <td>C#</td>\n",
              "      <td>0.3460</td>\n",
              "      <td>-1.828</td>\n",
              "      <td>Major</td>\n",
              "      <td>0.0525</td>\n",
              "      <td>166.969</td>\n",
              "      <td>4/4</td>\n",
              "      <td>0.814</td>\n",
              "    </tr>\n",
              "    <tr>\n",
              "      <th>1</th>\n",
              "      <td>Movie</td>\n",
              "      <td>Martin &amp; les fées</td>\n",
              "      <td>Perdu d'avance (par Gad Elmaleh)</td>\n",
              "      <td>0BjC1NfoEOOusryehmNudP</td>\n",
              "      <td>1</td>\n",
              "      <td>0.246</td>\n",
              "      <td>0.590</td>\n",
              "      <td>137373</td>\n",
              "      <td>0.737</td>\n",
              "      <td>0.000</td>\n",
              "      <td>F#</td>\n",
              "      <td>0.1510</td>\n",
              "      <td>-5.559</td>\n",
              "      <td>Minor</td>\n",
              "      <td>0.0868</td>\n",
              "      <td>174.003</td>\n",
              "      <td>4/4</td>\n",
              "      <td>0.816</td>\n",
              "    </tr>\n",
              "    <tr>\n",
              "      <th>2</th>\n",
              "      <td>Movie</td>\n",
              "      <td>Joseph Williams</td>\n",
              "      <td>Don't Let Me Be Lonely Tonight</td>\n",
              "      <td>0CoSDzoNIKCRs124s9uTVy</td>\n",
              "      <td>3</td>\n",
              "      <td>0.952</td>\n",
              "      <td>0.663</td>\n",
              "      <td>170267</td>\n",
              "      <td>0.131</td>\n",
              "      <td>0.000</td>\n",
              "      <td>C</td>\n",
              "      <td>0.1030</td>\n",
              "      <td>-13.879</td>\n",
              "      <td>Minor</td>\n",
              "      <td>0.0362</td>\n",
              "      <td>99.488</td>\n",
              "      <td>5/4</td>\n",
              "      <td>0.368</td>\n",
              "    </tr>\n",
              "    <tr>\n",
              "      <th>3</th>\n",
              "      <td>Movie</td>\n",
              "      <td>Henri Salvador</td>\n",
              "      <td>Dis-moi Monsieur Gordon Cooper</td>\n",
              "      <td>0Gc6TVm52BwZD07Ki6tIvf</td>\n",
              "      <td>0</td>\n",
              "      <td>0.703</td>\n",
              "      <td>0.240</td>\n",
              "      <td>152427</td>\n",
              "      <td>0.326</td>\n",
              "      <td>0.000</td>\n",
              "      <td>C#</td>\n",
              "      <td>0.0985</td>\n",
              "      <td>-12.178</td>\n",
              "      <td>Major</td>\n",
              "      <td>0.0395</td>\n",
              "      <td>171.758</td>\n",
              "      <td>4/4</td>\n",
              "      <td>0.227</td>\n",
              "    </tr>\n",
              "    <tr>\n",
              "      <th>4</th>\n",
              "      <td>Movie</td>\n",
              "      <td>Fabien Nataf</td>\n",
              "      <td>Ouverture</td>\n",
              "      <td>0IuslXpMROHdEPvSl1fTQK</td>\n",
              "      <td>4</td>\n",
              "      <td>0.950</td>\n",
              "      <td>0.331</td>\n",
              "      <td>82625</td>\n",
              "      <td>0.225</td>\n",
              "      <td>0.123</td>\n",
              "      <td>F</td>\n",
              "      <td>0.2020</td>\n",
              "      <td>-21.150</td>\n",
              "      <td>Major</td>\n",
              "      <td>0.0456</td>\n",
              "      <td>140.576</td>\n",
              "      <td>4/4</td>\n",
              "      <td>0.390</td>\n",
              "    </tr>\n",
              "  </tbody>\n",
              "</table>\n",
              "</div>\n",
              "      <button class=\"colab-df-convert\" onclick=\"convertToInteractive('df-550264c7-5080-4a6f-a876-344d20b44713')\"\n",
              "              title=\"Convert this dataframe to an interactive table.\"\n",
              "              style=\"display:none;\">\n",
              "        \n",
              "  <svg xmlns=\"http://www.w3.org/2000/svg\" height=\"24px\"viewBox=\"0 0 24 24\"\n",
              "       width=\"24px\">\n",
              "    <path d=\"M0 0h24v24H0V0z\" fill=\"none\"/>\n",
              "    <path d=\"M18.56 5.44l.94 2.06.94-2.06 2.06-.94-2.06-.94-.94-2.06-.94 2.06-2.06.94zm-11 1L8.5 8.5l.94-2.06 2.06-.94-2.06-.94L8.5 2.5l-.94 2.06-2.06.94zm10 10l.94 2.06.94-2.06 2.06-.94-2.06-.94-.94-2.06-.94 2.06-2.06.94z\"/><path d=\"M17.41 7.96l-1.37-1.37c-.4-.4-.92-.59-1.43-.59-.52 0-1.04.2-1.43.59L10.3 9.45l-7.72 7.72c-.78.78-.78 2.05 0 2.83L4 21.41c.39.39.9.59 1.41.59.51 0 1.02-.2 1.41-.59l7.78-7.78 2.81-2.81c.8-.78.8-2.07 0-2.86zM5.41 20L4 18.59l7.72-7.72 1.47 1.35L5.41 20z\"/>\n",
              "  </svg>\n",
              "      </button>\n",
              "      \n",
              "  <style>\n",
              "    .colab-df-container {\n",
              "      display:flex;\n",
              "      flex-wrap:wrap;\n",
              "      gap: 12px;\n",
              "    }\n",
              "\n",
              "    .colab-df-convert {\n",
              "      background-color: #E8F0FE;\n",
              "      border: none;\n",
              "      border-radius: 50%;\n",
              "      cursor: pointer;\n",
              "      display: none;\n",
              "      fill: #1967D2;\n",
              "      height: 32px;\n",
              "      padding: 0 0 0 0;\n",
              "      width: 32px;\n",
              "    }\n",
              "\n",
              "    .colab-df-convert:hover {\n",
              "      background-color: #E2EBFA;\n",
              "      box-shadow: 0px 1px 2px rgba(60, 64, 67, 0.3), 0px 1px 3px 1px rgba(60, 64, 67, 0.15);\n",
              "      fill: #174EA6;\n",
              "    }\n",
              "\n",
              "    [theme=dark] .colab-df-convert {\n",
              "      background-color: #3B4455;\n",
              "      fill: #D2E3FC;\n",
              "    }\n",
              "\n",
              "    [theme=dark] .colab-df-convert:hover {\n",
              "      background-color: #434B5C;\n",
              "      box-shadow: 0px 1px 3px 1px rgba(0, 0, 0, 0.15);\n",
              "      filter: drop-shadow(0px 1px 2px rgba(0, 0, 0, 0.3));\n",
              "      fill: #FFFFFF;\n",
              "    }\n",
              "  </style>\n",
              "\n",
              "      <script>\n",
              "        const buttonEl =\n",
              "          document.querySelector('#df-550264c7-5080-4a6f-a876-344d20b44713 button.colab-df-convert');\n",
              "        buttonEl.style.display =\n",
              "          google.colab.kernel.accessAllowed ? 'block' : 'none';\n",
              "\n",
              "        async function convertToInteractive(key) {\n",
              "          const element = document.querySelector('#df-550264c7-5080-4a6f-a876-344d20b44713');\n",
              "          const dataTable =\n",
              "            await google.colab.kernel.invokeFunction('convertToInteractive',\n",
              "                                                     [key], {});\n",
              "          if (!dataTable) return;\n",
              "\n",
              "          const docLinkHtml = 'Like what you see? Visit the ' +\n",
              "            '<a target=\"_blank\" href=https://colab.research.google.com/notebooks/data_table.ipynb>data table notebook</a>'\n",
              "            + ' to learn more about interactive tables.';\n",
              "          element.innerHTML = '';\n",
              "          dataTable['output_type'] = 'display_data';\n",
              "          await google.colab.output.renderOutput(dataTable, element);\n",
              "          const docLink = document.createElement('div');\n",
              "          docLink.innerHTML = docLinkHtml;\n",
              "          element.appendChild(docLink);\n",
              "        }\n",
              "      </script>\n",
              "    </div>\n",
              "  </div>\n",
              "  "
            ]
          },
          "metadata": {},
          "execution_count": 2
        }
      ],
      "source": [
        "df = pd.read_csv('https://github.com/nkozemaslova/Data_2022/releases/download/data3/SpotifyFeatures.csv')\n",
        "df.head()"
      ]
    },
    {
      "cell_type": "code",
      "execution_count": null,
      "metadata": {
        "id": "QgSeF8BveD12"
      },
      "outputs": [],
      "source": [
        "df2 = pd.read_csv('https://github.com/nkozemaslova/Data_2022/releases/download/data4/spotify_dataset.csv', \n",
        "                         skiprows=1,\n",
        "                         names=['user_id', 'artistname', 'trackname', 'playlistname'],\n",
        "                         on_bad_lines='skip')"
      ]
    },
    {
      "cell_type": "code",
      "execution_count": null,
      "metadata": {
        "id": "oFpYP1s3xSSO"
      },
      "outputs": [],
      "source": [
        "# Переименовали колонку \"artistname\" во втором датасете на \"artist_name\"\n",
        "df2 = df2.rename(columns={'artistname': 'artist_name'})\n",
        "\n",
        "# Переименовали колнку \"trackname\" во втором датасете на \"track_name\"\n",
        "df2 = df2.rename(columns={'trackname': 'track_name'})"
      ]
    },
    {
      "cell_type": "code",
      "execution_count": null,
      "metadata": {
        "colab": {
          "base_uri": "https://localhost:8080/"
        },
        "id": "oyb59PMsrn8q",
        "outputId": "b921aa34-d4f6-4c42-9b32-b32976edecdd"
      },
      "outputs": [
        {
          "output_type": "execute_result",
          "data": {
            "text/plain": [
              "(232725, 18)"
            ]
          },
          "metadata": {},
          "execution_count": 5
        }
      ],
      "source": [
        "#размер первого датасета\n",
        "df.shape"
      ]
    },
    {
      "cell_type": "code",
      "execution_count": null,
      "metadata": {
        "colab": {
          "base_uri": "https://localhost:8080/"
        },
        "id": "log5QZThZyz5",
        "outputId": "52b5efa7-293e-4da1-8ef6-01293344cadd"
      },
      "outputs": [
        {
          "output_type": "execute_result",
          "data": {
            "text/plain": [
              "(12901979, 4)"
            ]
          },
          "metadata": {},
          "execution_count": 6
        }
      ],
      "source": [
        "#размер второго датасета\n",
        "df2.shape"
      ]
    },
    {
      "cell_type": "code",
      "execution_count": null,
      "metadata": {
        "id": "Y2-EwP6lxIic"
      },
      "outputs": [],
      "source": [
        "#объединенный датасет\n",
        "data = pd.merge(df, df2, on=['artist_name', 'track_name'], how='inner')"
      ]
    },
    {
      "cell_type": "code",
      "execution_count": null,
      "metadata": {
        "colab": {
          "base_uri": "https://localhost:8080/"
        },
        "id": "-dLzZ94MvrGg",
        "outputId": "ec69c6c0-b9ef-404b-c5cd-1bb3067c1abf"
      },
      "outputs": [
        {
          "output_type": "execute_result",
          "data": {
            "text/plain": [
              "(6208521, 20)"
            ]
          },
          "metadata": {},
          "execution_count": 8
        }
      ],
      "source": [
        "#размер датасета\n",
        "data.shape"
      ]
    },
    {
      "cell_type": "markdown",
      "metadata": {
        "id": "zj3FNSNmal1D"
      },
      "source": [
        "## EDA"
      ]
    },
    {
      "cell_type": "code",
      "execution_count": null,
      "metadata": {
        "colab": {
          "base_uri": "https://localhost:8080/"
        },
        "id": "FFty2Z4Q3cQ0",
        "outputId": "d1a9640b-5d84-4139-fba0-90dd0df18898"
      },
      "outputs": [
        {
          "output_type": "stream",
          "name": "stdout",
          "text": [
            "<class 'pandas.core.frame.DataFrame'>\n",
            "Int64Index: 6208521 entries, 0 to 6208520\n",
            "Data columns (total 20 columns):\n",
            " #   Column            Dtype  \n",
            "---  ------            -----  \n",
            " 0   genre             object \n",
            " 1   artist_name       object \n",
            " 2   track_name        object \n",
            " 3   track_id          object \n",
            " 4   popularity        int64  \n",
            " 5   acousticness      float64\n",
            " 6   danceability      float64\n",
            " 7   duration_ms       int64  \n",
            " 8   energy            float64\n",
            " 9   instrumentalness  float64\n",
            " 10  key               object \n",
            " 11  liveness          float64\n",
            " 12  loudness          float64\n",
            " 13  mode              object \n",
            " 14  speechiness       float64\n",
            " 15  tempo             float64\n",
            " 16  time_signature    object \n",
            " 17  valence           float64\n",
            " 18  user_id           object \n",
            " 19  playlistname      object \n",
            "dtypes: float64(9), int64(2), object(9)\n",
            "memory usage: 994.7+ MB\n"
          ]
        }
      ],
      "source": [
        "#Общая информация\n",
        "data.info()"
      ]
    },
    {
      "cell_type": "code",
      "execution_count": null,
      "metadata": {
        "id": "uEYLF35C4r-t"
      },
      "outputs": [],
      "source": [
        "pd.options.display.float_format = \"{:.3f}\".format #приводим данные в удобный формат"
      ]
    },
    {
      "cell_type": "code",
      "execution_count": null,
      "metadata": {
        "colab": {
          "base_uri": "https://localhost:8080/",
          "height": 297
        },
        "id": "y_QBYOUH4oen",
        "outputId": "00217451-edf1-4bc5-9838-250a2c031776"
      },
      "outputs": [
        {
          "output_type": "execute_result",
          "data": {
            "text/plain": [
              "       popularity  acousticness  danceability  duration_ms      energy  \\\n",
              "count 6208521.000   6208521.000   6208521.000  6208521.000 6208521.000   \n",
              "mean       59.298         0.197         0.575   243832.400       0.684   \n",
              "std        11.853         0.265         0.155    68271.196       0.209   \n",
              "min         0.000         0.000         0.057    21707.000       0.000   \n",
              "25%        52.000         0.009         0.472   204707.000       0.553   \n",
              "50%        60.000         0.064         0.579   234493.000       0.724   \n",
              "75%        68.000         0.288         0.684   271107.000       0.849   \n",
              "max        86.000         0.996         0.987  3815787.000       0.999   \n",
              "\n",
              "       instrumentalness    liveness    loudness  speechiness       tempo  \\\n",
              "count       6208521.000 6208521.000 6208521.000  6208521.000 6208521.000   \n",
              "mean              0.080       0.192      -7.247        0.080     121.071   \n",
              "std               0.212       0.155       3.658        0.092      28.367   \n",
              "min               0.000       0.010     -47.669        0.022      31.689   \n",
              "25%               0.000       0.094      -8.836        0.034      99.354   \n",
              "50%               0.000       0.129      -6.383        0.045     119.994   \n",
              "75%               0.008       0.250      -4.788        0.081     138.077   \n",
              "max               0.994       1.000       1.949        0.965     242.903   \n",
              "\n",
              "          valence  \n",
              "count 6208521.000  \n",
              "mean        0.514  \n",
              "std         0.240  \n",
              "min         0.000  \n",
              "25%         0.324  \n",
              "50%         0.515  \n",
              "75%         0.705  \n",
              "max         1.000  "
            ],
            "text/html": [
              "\n",
              "  <div id=\"df-31ba2e73-f274-4631-815c-33cf9bb0c236\">\n",
              "    <div class=\"colab-df-container\">\n",
              "      <div>\n",
              "<style scoped>\n",
              "    .dataframe tbody tr th:only-of-type {\n",
              "        vertical-align: middle;\n",
              "    }\n",
              "\n",
              "    .dataframe tbody tr th {\n",
              "        vertical-align: top;\n",
              "    }\n",
              "\n",
              "    .dataframe thead th {\n",
              "        text-align: right;\n",
              "    }\n",
              "</style>\n",
              "<table border=\"1\" class=\"dataframe\">\n",
              "  <thead>\n",
              "    <tr style=\"text-align: right;\">\n",
              "      <th></th>\n",
              "      <th>popularity</th>\n",
              "      <th>acousticness</th>\n",
              "      <th>danceability</th>\n",
              "      <th>duration_ms</th>\n",
              "      <th>energy</th>\n",
              "      <th>instrumentalness</th>\n",
              "      <th>liveness</th>\n",
              "      <th>loudness</th>\n",
              "      <th>speechiness</th>\n",
              "      <th>tempo</th>\n",
              "      <th>valence</th>\n",
              "    </tr>\n",
              "  </thead>\n",
              "  <tbody>\n",
              "    <tr>\n",
              "      <th>count</th>\n",
              "      <td>6208521.000</td>\n",
              "      <td>6208521.000</td>\n",
              "      <td>6208521.000</td>\n",
              "      <td>6208521.000</td>\n",
              "      <td>6208521.000</td>\n",
              "      <td>6208521.000</td>\n",
              "      <td>6208521.000</td>\n",
              "      <td>6208521.000</td>\n",
              "      <td>6208521.000</td>\n",
              "      <td>6208521.000</td>\n",
              "      <td>6208521.000</td>\n",
              "    </tr>\n",
              "    <tr>\n",
              "      <th>mean</th>\n",
              "      <td>59.298</td>\n",
              "      <td>0.197</td>\n",
              "      <td>0.575</td>\n",
              "      <td>243832.400</td>\n",
              "      <td>0.684</td>\n",
              "      <td>0.080</td>\n",
              "      <td>0.192</td>\n",
              "      <td>-7.247</td>\n",
              "      <td>0.080</td>\n",
              "      <td>121.071</td>\n",
              "      <td>0.514</td>\n",
              "    </tr>\n",
              "    <tr>\n",
              "      <th>std</th>\n",
              "      <td>11.853</td>\n",
              "      <td>0.265</td>\n",
              "      <td>0.155</td>\n",
              "      <td>68271.196</td>\n",
              "      <td>0.209</td>\n",
              "      <td>0.212</td>\n",
              "      <td>0.155</td>\n",
              "      <td>3.658</td>\n",
              "      <td>0.092</td>\n",
              "      <td>28.367</td>\n",
              "      <td>0.240</td>\n",
              "    </tr>\n",
              "    <tr>\n",
              "      <th>min</th>\n",
              "      <td>0.000</td>\n",
              "      <td>0.000</td>\n",
              "      <td>0.057</td>\n",
              "      <td>21707.000</td>\n",
              "      <td>0.000</td>\n",
              "      <td>0.000</td>\n",
              "      <td>0.010</td>\n",
              "      <td>-47.669</td>\n",
              "      <td>0.022</td>\n",
              "      <td>31.689</td>\n",
              "      <td>0.000</td>\n",
              "    </tr>\n",
              "    <tr>\n",
              "      <th>25%</th>\n",
              "      <td>52.000</td>\n",
              "      <td>0.009</td>\n",
              "      <td>0.472</td>\n",
              "      <td>204707.000</td>\n",
              "      <td>0.553</td>\n",
              "      <td>0.000</td>\n",
              "      <td>0.094</td>\n",
              "      <td>-8.836</td>\n",
              "      <td>0.034</td>\n",
              "      <td>99.354</td>\n",
              "      <td>0.324</td>\n",
              "    </tr>\n",
              "    <tr>\n",
              "      <th>50%</th>\n",
              "      <td>60.000</td>\n",
              "      <td>0.064</td>\n",
              "      <td>0.579</td>\n",
              "      <td>234493.000</td>\n",
              "      <td>0.724</td>\n",
              "      <td>0.000</td>\n",
              "      <td>0.129</td>\n",
              "      <td>-6.383</td>\n",
              "      <td>0.045</td>\n",
              "      <td>119.994</td>\n",
              "      <td>0.515</td>\n",
              "    </tr>\n",
              "    <tr>\n",
              "      <th>75%</th>\n",
              "      <td>68.000</td>\n",
              "      <td>0.288</td>\n",
              "      <td>0.684</td>\n",
              "      <td>271107.000</td>\n",
              "      <td>0.849</td>\n",
              "      <td>0.008</td>\n",
              "      <td>0.250</td>\n",
              "      <td>-4.788</td>\n",
              "      <td>0.081</td>\n",
              "      <td>138.077</td>\n",
              "      <td>0.705</td>\n",
              "    </tr>\n",
              "    <tr>\n",
              "      <th>max</th>\n",
              "      <td>86.000</td>\n",
              "      <td>0.996</td>\n",
              "      <td>0.987</td>\n",
              "      <td>3815787.000</td>\n",
              "      <td>0.999</td>\n",
              "      <td>0.994</td>\n",
              "      <td>1.000</td>\n",
              "      <td>1.949</td>\n",
              "      <td>0.965</td>\n",
              "      <td>242.903</td>\n",
              "      <td>1.000</td>\n",
              "    </tr>\n",
              "  </tbody>\n",
              "</table>\n",
              "</div>\n",
              "      <button class=\"colab-df-convert\" onclick=\"convertToInteractive('df-31ba2e73-f274-4631-815c-33cf9bb0c236')\"\n",
              "              title=\"Convert this dataframe to an interactive table.\"\n",
              "              style=\"display:none;\">\n",
              "        \n",
              "  <svg xmlns=\"http://www.w3.org/2000/svg\" height=\"24px\"viewBox=\"0 0 24 24\"\n",
              "       width=\"24px\">\n",
              "    <path d=\"M0 0h24v24H0V0z\" fill=\"none\"/>\n",
              "    <path d=\"M18.56 5.44l.94 2.06.94-2.06 2.06-.94-2.06-.94-.94-2.06-.94 2.06-2.06.94zm-11 1L8.5 8.5l.94-2.06 2.06-.94-2.06-.94L8.5 2.5l-.94 2.06-2.06.94zm10 10l.94 2.06.94-2.06 2.06-.94-2.06-.94-.94-2.06-.94 2.06-2.06.94z\"/><path d=\"M17.41 7.96l-1.37-1.37c-.4-.4-.92-.59-1.43-.59-.52 0-1.04.2-1.43.59L10.3 9.45l-7.72 7.72c-.78.78-.78 2.05 0 2.83L4 21.41c.39.39.9.59 1.41.59.51 0 1.02-.2 1.41-.59l7.78-7.78 2.81-2.81c.8-.78.8-2.07 0-2.86zM5.41 20L4 18.59l7.72-7.72 1.47 1.35L5.41 20z\"/>\n",
              "  </svg>\n",
              "      </button>\n",
              "      \n",
              "  <style>\n",
              "    .colab-df-container {\n",
              "      display:flex;\n",
              "      flex-wrap:wrap;\n",
              "      gap: 12px;\n",
              "    }\n",
              "\n",
              "    .colab-df-convert {\n",
              "      background-color: #E8F0FE;\n",
              "      border: none;\n",
              "      border-radius: 50%;\n",
              "      cursor: pointer;\n",
              "      display: none;\n",
              "      fill: #1967D2;\n",
              "      height: 32px;\n",
              "      padding: 0 0 0 0;\n",
              "      width: 32px;\n",
              "    }\n",
              "\n",
              "    .colab-df-convert:hover {\n",
              "      background-color: #E2EBFA;\n",
              "      box-shadow: 0px 1px 2px rgba(60, 64, 67, 0.3), 0px 1px 3px 1px rgba(60, 64, 67, 0.15);\n",
              "      fill: #174EA6;\n",
              "    }\n",
              "\n",
              "    [theme=dark] .colab-df-convert {\n",
              "      background-color: #3B4455;\n",
              "      fill: #D2E3FC;\n",
              "    }\n",
              "\n",
              "    [theme=dark] .colab-df-convert:hover {\n",
              "      background-color: #434B5C;\n",
              "      box-shadow: 0px 1px 3px 1px rgba(0, 0, 0, 0.15);\n",
              "      filter: drop-shadow(0px 1px 2px rgba(0, 0, 0, 0.3));\n",
              "      fill: #FFFFFF;\n",
              "    }\n",
              "  </style>\n",
              "\n",
              "      <script>\n",
              "        const buttonEl =\n",
              "          document.querySelector('#df-31ba2e73-f274-4631-815c-33cf9bb0c236 button.colab-df-convert');\n",
              "        buttonEl.style.display =\n",
              "          google.colab.kernel.accessAllowed ? 'block' : 'none';\n",
              "\n",
              "        async function convertToInteractive(key) {\n",
              "          const element = document.querySelector('#df-31ba2e73-f274-4631-815c-33cf9bb0c236');\n",
              "          const dataTable =\n",
              "            await google.colab.kernel.invokeFunction('convertToInteractive',\n",
              "                                                     [key], {});\n",
              "          if (!dataTable) return;\n",
              "\n",
              "          const docLinkHtml = 'Like what you see? Visit the ' +\n",
              "            '<a target=\"_blank\" href=https://colab.research.google.com/notebooks/data_table.ipynb>data table notebook</a>'\n",
              "            + ' to learn more about interactive tables.';\n",
              "          element.innerHTML = '';\n",
              "          dataTable['output_type'] = 'display_data';\n",
              "          await google.colab.output.renderOutput(dataTable, element);\n",
              "          const docLink = document.createElement('div');\n",
              "          docLink.innerHTML = docLinkHtml;\n",
              "          element.appendChild(docLink);\n",
              "        }\n",
              "      </script>\n",
              "    </div>\n",
              "  </div>\n",
              "  "
            ]
          },
          "metadata": {},
          "execution_count": 11
        }
      ],
      "source": [
        "data.describe()"
      ]
    },
    {
      "cell_type": "code",
      "execution_count": null,
      "metadata": {
        "colab": {
          "base_uri": "https://localhost:8080/"
        },
        "id": "r-XHQXRs3drK",
        "outputId": "9011806f-ea7a-444a-cedd-6b404f6d1a59"
      },
      "outputs": [
        {
          "data": {
            "text/html": [
              "\n",
              "  <div id=\"df-47fc6bf7-a531-4bf1-bf8b-3421e16a46bb\">\n",
              "    <div class=\"colab-df-container\">\n",
              "      <div>\n",
              "<style scoped>\n",
              "    .dataframe tbody tr th:only-of-type {\n",
              "        vertical-align: middle;\n",
              "    }\n",
              "\n",
              "    .dataframe tbody tr th {\n",
              "        vertical-align: top;\n",
              "    }\n",
              "\n",
              "    .dataframe thead th {\n",
              "        text-align: right;\n",
              "    }\n",
              "</style>\n",
              "<table border=\"1\" class=\"dataframe\">\n",
              "  <thead>\n",
              "    <tr style=\"text-align: right;\">\n",
              "      <th></th>\n",
              "      <th>genre</th>\n",
              "      <th>artist_name</th>\n",
              "      <th>track_name</th>\n",
              "      <th>track_id</th>\n",
              "      <th>key</th>\n",
              "      <th>mode</th>\n",
              "      <th>time_signature</th>\n",
              "      <th>user_id</th>\n",
              "      <th>playlistname</th>\n",
              "    </tr>\n",
              "  </thead>\n",
              "  <tbody>\n",
              "    <tr>\n",
              "      <th>count</th>\n",
              "      <td>6208521</td>\n",
              "      <td>6208521</td>\n",
              "      <td>6208521</td>\n",
              "      <td>6208521</td>\n",
              "      <td>6208521</td>\n",
              "      <td>6208521</td>\n",
              "      <td>6208521</td>\n",
              "      <td>6208521</td>\n",
              "      <td>6208500</td>\n",
              "    </tr>\n",
              "    <tr>\n",
              "      <th>unique</th>\n",
              "      <td>27</td>\n",
              "      <td>7940</td>\n",
              "      <td>55660</td>\n",
              "      <td>64337</td>\n",
              "      <td>12</td>\n",
              "      <td>2</td>\n",
              "      <td>5</td>\n",
              "      <td>15095</td>\n",
              "      <td>94826</td>\n",
              "    </tr>\n",
              "    <tr>\n",
              "      <th>top</th>\n",
              "      <td>Rock</td>\n",
              "      <td>Radiohead</td>\n",
              "      <td>Little Talks</td>\n",
              "      <td>3a2tuvXCHbW5nuUckuHkKT</td>\n",
              "      <td>C</td>\n",
              "      <td>Major</td>\n",
              "      <td>4/4</td>\n",
              "      <td>4398de6902abde3351347b048fcdc287</td>\n",
              "      <td>Starred</td>\n",
              "    </tr>\n",
              "    <tr>\n",
              "      <th>freq</th>\n",
              "      <td>879715</td>\n",
              "      <td>60622</td>\n",
              "      <td>11275</td>\n",
              "      <td>11275</td>\n",
              "      <td>754916</td>\n",
              "      <td>4128968</td>\n",
              "      <td>5806959</td>\n",
              "      <td>18778</td>\n",
              "      <td>744176</td>\n",
              "    </tr>\n",
              "  </tbody>\n",
              "</table>\n",
              "</div>\n",
              "      <button class=\"colab-df-convert\" onclick=\"convertToInteractive('df-47fc6bf7-a531-4bf1-bf8b-3421e16a46bb')\"\n",
              "              title=\"Convert this dataframe to an interactive table.\"\n",
              "              style=\"display:none;\">\n",
              "        \n",
              "  <svg xmlns=\"http://www.w3.org/2000/svg\" height=\"24px\"viewBox=\"0 0 24 24\"\n",
              "       width=\"24px\">\n",
              "    <path d=\"M0 0h24v24H0V0z\" fill=\"none\"/>\n",
              "    <path d=\"M18.56 5.44l.94 2.06.94-2.06 2.06-.94-2.06-.94-.94-2.06-.94 2.06-2.06.94zm-11 1L8.5 8.5l.94-2.06 2.06-.94-2.06-.94L8.5 2.5l-.94 2.06-2.06.94zm10 10l.94 2.06.94-2.06 2.06-.94-2.06-.94-.94-2.06-.94 2.06-2.06.94z\"/><path d=\"M17.41 7.96l-1.37-1.37c-.4-.4-.92-.59-1.43-.59-.52 0-1.04.2-1.43.59L10.3 9.45l-7.72 7.72c-.78.78-.78 2.05 0 2.83L4 21.41c.39.39.9.59 1.41.59.51 0 1.02-.2 1.41-.59l7.78-7.78 2.81-2.81c.8-.78.8-2.07 0-2.86zM5.41 20L4 18.59l7.72-7.72 1.47 1.35L5.41 20z\"/>\n",
              "  </svg>\n",
              "      </button>\n",
              "      \n",
              "  <style>\n",
              "    .colab-df-container {\n",
              "      display:flex;\n",
              "      flex-wrap:wrap;\n",
              "      gap: 12px;\n",
              "    }\n",
              "\n",
              "    .colab-df-convert {\n",
              "      background-color: #E8F0FE;\n",
              "      border: none;\n",
              "      border-radius: 50%;\n",
              "      cursor: pointer;\n",
              "      display: none;\n",
              "      fill: #1967D2;\n",
              "      height: 32px;\n",
              "      padding: 0 0 0 0;\n",
              "      width: 32px;\n",
              "    }\n",
              "\n",
              "    .colab-df-convert:hover {\n",
              "      background-color: #E2EBFA;\n",
              "      box-shadow: 0px 1px 2px rgba(60, 64, 67, 0.3), 0px 1px 3px 1px rgba(60, 64, 67, 0.15);\n",
              "      fill: #174EA6;\n",
              "    }\n",
              "\n",
              "    [theme=dark] .colab-df-convert {\n",
              "      background-color: #3B4455;\n",
              "      fill: #D2E3FC;\n",
              "    }\n",
              "\n",
              "    [theme=dark] .colab-df-convert:hover {\n",
              "      background-color: #434B5C;\n",
              "      box-shadow: 0px 1px 3px 1px rgba(0, 0, 0, 0.15);\n",
              "      filter: drop-shadow(0px 1px 2px rgba(0, 0, 0, 0.3));\n",
              "      fill: #FFFFFF;\n",
              "    }\n",
              "  </style>\n",
              "\n",
              "      <script>\n",
              "        const buttonEl =\n",
              "          document.querySelector('#df-47fc6bf7-a531-4bf1-bf8b-3421e16a46bb button.colab-df-convert');\n",
              "        buttonEl.style.display =\n",
              "          google.colab.kernel.accessAllowed ? 'block' : 'none';\n",
              "\n",
              "        async function convertToInteractive(key) {\n",
              "          const element = document.querySelector('#df-47fc6bf7-a531-4bf1-bf8b-3421e16a46bb');\n",
              "          const dataTable =\n",
              "            await google.colab.kernel.invokeFunction('convertToInteractive',\n",
              "                                                     [key], {});\n",
              "          if (!dataTable) return;\n",
              "\n",
              "          const docLinkHtml = 'Like what you see? Visit the ' +\n",
              "            '<a target=\"_blank\" href=https://colab.research.google.com/notebooks/data_table.ipynb>data table notebook</a>'\n",
              "            + ' to learn more about interactive tables.';\n",
              "          element.innerHTML = '';\n",
              "          dataTable['output_type'] = 'display_data';\n",
              "          await google.colab.output.renderOutput(dataTable, element);\n",
              "          const docLink = document.createElement('div');\n",
              "          docLink.innerHTML = docLinkHtml;\n",
              "          element.appendChild(docLink);\n",
              "        }\n",
              "      </script>\n",
              "    </div>\n",
              "  </div>\n",
              "  "
            ],
            "text/plain": [
              "          genre artist_name    track_name                track_id      key  \\\n",
              "count   6208521     6208521       6208521                 6208521  6208521   \n",
              "unique       27        7940         55660                   64337       12   \n",
              "top        Rock   Radiohead  Little Talks  3a2tuvXCHbW5nuUckuHkKT        C   \n",
              "freq     879715       60622         11275                   11275   754916   \n",
              "\n",
              "           mode time_signature                           user_id playlistname  \n",
              "count   6208521        6208521                           6208521      6208500  \n",
              "unique        2              5                             15095        94826  \n",
              "top       Major            4/4  4398de6902abde3351347b048fcdc287      Starred  \n",
              "freq    4128968        5806959                             18778       744176  "
            ]
          },
          "execution_count": 13,
          "metadata": {},
          "output_type": "execute_result"
        }
      ],
      "source": [
        "data.describe(include = 'object')"
      ]
    },
    {
      "cell_type": "code",
      "execution_count": null,
      "metadata": {
        "colab": {
          "base_uri": "https://localhost:8080/"
        },
        "id": "QvuNrroK3qvH",
        "outputId": "251047cb-e9fd-4475-a54d-1f3a1d26cdd1"
      },
      "outputs": [
        {
          "data": {
            "text/plain": [
              "genre                0\n",
              "artist_name          0\n",
              "track_name           0\n",
              "track_id             0\n",
              "popularity           0\n",
              "acousticness         0\n",
              "danceability         0\n",
              "duration_ms          0\n",
              "energy               0\n",
              "instrumentalness     0\n",
              "key                  0\n",
              "liveness             0\n",
              "loudness             0\n",
              "mode                 0\n",
              "speechiness          0\n",
              "tempo                0\n",
              "time_signature       0\n",
              "valence              0\n",
              "user_id              0\n",
              "playlistname        21\n",
              "dtype: int64"
            ]
          },
          "execution_count": 14,
          "metadata": {},
          "output_type": "execute_result"
        }
      ],
      "source": [
        "data.isnull().sum()"
      ]
    },
    {
      "cell_type": "code",
      "execution_count": null,
      "metadata": {
        "colab": {
          "base_uri": "https://localhost:8080/"
        },
        "id": "Er-W9ev33w6x",
        "outputId": "c7b88816-ce27-4292-cccc-5a53b2cda47f"
      },
      "outputs": [
        {
          "data": {
            "text/plain": [
              "1"
            ]
          },
          "execution_count": 15,
          "metadata": {},
          "output_type": "execute_result"
        }
      ],
      "source": [
        "#Поиск дубликатов:\n",
        "data.duplicated().sum()"
      ]
    },
    {
      "cell_type": "code",
      "execution_count": null,
      "metadata": {
        "id": "IlUFD18o329k"
      },
      "outputs": [],
      "source": [
        "data.drop_duplicates(inplace = True)"
      ]
    },
    {
      "cell_type": "code",
      "execution_count": null,
      "metadata": {
        "colab": {
          "base_uri": "https://localhost:8080/"
        },
        "id": "MpSNZrZ5yDkS",
        "outputId": "fe55f5a4-7e6a-4183-b0fb-342ceb4f45a3"
      },
      "outputs": [
        {
          "data": {
            "text/plain": [
              "15095"
            ]
          },
          "execution_count": 17,
          "metadata": {},
          "output_type": "execute_result"
        }
      ],
      "source": [
        "#количество уникальных пользователей в датасете\n",
        "len(data.user_id.unique())"
      ]
    },
    {
      "cell_type": "code",
      "execution_count": null,
      "metadata": {
        "colab": {
          "base_uri": "https://localhost:8080/"
        },
        "id": "hcd24d888Hw0",
        "outputId": "26426382-ce54-40c7-a9b1-cbd3b05bd713"
      },
      "outputs": [
        {
          "data": {
            "text/html": [
              "\n",
              "  <div id=\"df-92574d6c-a645-4e60-844e-47433f9a7280\">\n",
              "    <div class=\"colab-df-container\">\n",
              "      <div>\n",
              "<style scoped>\n",
              "    .dataframe tbody tr th:only-of-type {\n",
              "        vertical-align: middle;\n",
              "    }\n",
              "\n",
              "    .dataframe tbody tr th {\n",
              "        vertical-align: top;\n",
              "    }\n",
              "\n",
              "    .dataframe thead th {\n",
              "        text-align: right;\n",
              "    }\n",
              "</style>\n",
              "<table border=\"1\" class=\"dataframe\">\n",
              "  <thead>\n",
              "    <tr style=\"text-align: right;\">\n",
              "      <th></th>\n",
              "      <th>User ID</th>\n",
              "      <th>Number of Unique Playlists</th>\n",
              "    </tr>\n",
              "  </thead>\n",
              "  <tbody>\n",
              "    <tr>\n",
              "      <th>7991</th>\n",
              "      <td>872a19d491f4357408551be6d7eea273</td>\n",
              "      <td>58</td>\n",
              "    </tr>\n",
              "    <tr>\n",
              "      <th>8135</th>\n",
              "      <td>894ad851a592af491ea4b160effd6380</td>\n",
              "      <td>50</td>\n",
              "    </tr>\n",
              "    <tr>\n",
              "      <th>13977</th>\n",
              "      <td>ed140fce438f59e6e07e5ee7bd726692</td>\n",
              "      <td>50</td>\n",
              "    </tr>\n",
              "    <tr>\n",
              "      <th>6137</th>\n",
              "      <td>66fa46ff4893738f06435a53e435e342</td>\n",
              "      <td>50</td>\n",
              "    </tr>\n",
              "    <tr>\n",
              "      <th>4855</th>\n",
              "      <td>51b37a008eed57cba997414a0953ad35</td>\n",
              "      <td>50</td>\n",
              "    </tr>\n",
              "  </tbody>\n",
              "</table>\n",
              "</div>\n",
              "      <button class=\"colab-df-convert\" onclick=\"convertToInteractive('df-92574d6c-a645-4e60-844e-47433f9a7280')\"\n",
              "              title=\"Convert this dataframe to an interactive table.\"\n",
              "              style=\"display:none;\">\n",
              "        \n",
              "  <svg xmlns=\"http://www.w3.org/2000/svg\" height=\"24px\"viewBox=\"0 0 24 24\"\n",
              "       width=\"24px\">\n",
              "    <path d=\"M0 0h24v24H0V0z\" fill=\"none\"/>\n",
              "    <path d=\"M18.56 5.44l.94 2.06.94-2.06 2.06-.94-2.06-.94-.94-2.06-.94 2.06-2.06.94zm-11 1L8.5 8.5l.94-2.06 2.06-.94-2.06-.94L8.5 2.5l-.94 2.06-2.06.94zm10 10l.94 2.06.94-2.06 2.06-.94-2.06-.94-.94-2.06-.94 2.06-2.06.94z\"/><path d=\"M17.41 7.96l-1.37-1.37c-.4-.4-.92-.59-1.43-.59-.52 0-1.04.2-1.43.59L10.3 9.45l-7.72 7.72c-.78.78-.78 2.05 0 2.83L4 21.41c.39.39.9.59 1.41.59.51 0 1.02-.2 1.41-.59l7.78-7.78 2.81-2.81c.8-.78.8-2.07 0-2.86zM5.41 20L4 18.59l7.72-7.72 1.47 1.35L5.41 20z\"/>\n",
              "  </svg>\n",
              "      </button>\n",
              "      \n",
              "  <style>\n",
              "    .colab-df-container {\n",
              "      display:flex;\n",
              "      flex-wrap:wrap;\n",
              "      gap: 12px;\n",
              "    }\n",
              "\n",
              "    .colab-df-convert {\n",
              "      background-color: #E8F0FE;\n",
              "      border: none;\n",
              "      border-radius: 50%;\n",
              "      cursor: pointer;\n",
              "      display: none;\n",
              "      fill: #1967D2;\n",
              "      height: 32px;\n",
              "      padding: 0 0 0 0;\n",
              "      width: 32px;\n",
              "    }\n",
              "\n",
              "    .colab-df-convert:hover {\n",
              "      background-color: #E2EBFA;\n",
              "      box-shadow: 0px 1px 2px rgba(60, 64, 67, 0.3), 0px 1px 3px 1px rgba(60, 64, 67, 0.15);\n",
              "      fill: #174EA6;\n",
              "    }\n",
              "\n",
              "    [theme=dark] .colab-df-convert {\n",
              "      background-color: #3B4455;\n",
              "      fill: #D2E3FC;\n",
              "    }\n",
              "\n",
              "    [theme=dark] .colab-df-convert:hover {\n",
              "      background-color: #434B5C;\n",
              "      box-shadow: 0px 1px 3px 1px rgba(0, 0, 0, 0.15);\n",
              "      filter: drop-shadow(0px 1px 2px rgba(0, 0, 0, 0.3));\n",
              "      fill: #FFFFFF;\n",
              "    }\n",
              "  </style>\n",
              "\n",
              "      <script>\n",
              "        const buttonEl =\n",
              "          document.querySelector('#df-92574d6c-a645-4e60-844e-47433f9a7280 button.colab-df-convert');\n",
              "        buttonEl.style.display =\n",
              "          google.colab.kernel.accessAllowed ? 'block' : 'none';\n",
              "\n",
              "        async function convertToInteractive(key) {\n",
              "          const element = document.querySelector('#df-92574d6c-a645-4e60-844e-47433f9a7280');\n",
              "          const dataTable =\n",
              "            await google.colab.kernel.invokeFunction('convertToInteractive',\n",
              "                                                     [key], {});\n",
              "          if (!dataTable) return;\n",
              "\n",
              "          const docLinkHtml = 'Like what you see? Visit the ' +\n",
              "            '<a target=\"_blank\" href=https://colab.research.google.com/notebooks/data_table.ipynb>data table notebook</a>'\n",
              "            + ' to learn more about interactive tables.';\n",
              "          element.innerHTML = '';\n",
              "          dataTable['output_type'] = 'display_data';\n",
              "          await google.colab.output.renderOutput(dataTable, element);\n",
              "          const docLink = document.createElement('div');\n",
              "          docLink.innerHTML = docLinkHtml;\n",
              "          element.appendChild(docLink);\n",
              "        }\n",
              "      </script>\n",
              "    </div>\n",
              "  </div>\n",
              "  "
            ],
            "text/plain": [
              "                                User ID  Number of Unique Playlists\n",
              "7991   872a19d491f4357408551be6d7eea273                          58\n",
              "8135   894ad851a592af491ea4b160effd6380                          50\n",
              "13977  ed140fce438f59e6e07e5ee7bd726692                          50\n",
              "6137   66fa46ff4893738f06435a53e435e342                          50\n",
              "4855   51b37a008eed57cba997414a0953ad35                          50"
            ]
          },
          "execution_count": 18,
          "metadata": {},
          "output_type": "execute_result"
        }
      ],
      "source": [
        "# количество плейлистов у каждого пользователя\n",
        "playlist_counts = data.groupby('user_id')['playlistname'].nunique()\n",
        "\n",
        "playlist_counts_table = pd.DataFrame({'User ID': playlist_counts.index, \n",
        "                                      'Number of Unique Playlists': playlist_counts.values})\n",
        "playlist_counts_table = playlist_counts_table.sort_values('Number of Unique Playlists', ascending=False)\n",
        "\n",
        "playlist_counts_table.head()"
      ]
    },
    {
      "cell_type": "code",
      "execution_count": null,
      "metadata": {
        "colab": {
          "base_uri": "https://localhost:8080/"
        },
        "id": "hF2lQVig-8j7",
        "outputId": "0ae629e2-a5bf-4b93-a3ce-531e2d20010d"
      },
      "outputs": [
        {
          "data": {
            "text/html": [
              "\n",
              "  <div id=\"df-11f3b8c4-004d-42a6-8c10-f67f1704743c\">\n",
              "    <div class=\"colab-df-container\">\n",
              "      <div>\n",
              "<style scoped>\n",
              "    .dataframe tbody tr th:only-of-type {\n",
              "        vertical-align: middle;\n",
              "    }\n",
              "\n",
              "    .dataframe tbody tr th {\n",
              "        vertical-align: top;\n",
              "    }\n",
              "\n",
              "    .dataframe thead th {\n",
              "        text-align: right;\n",
              "    }\n",
              "</style>\n",
              "<table border=\"1\" class=\"dataframe\">\n",
              "  <thead>\n",
              "    <tr style=\"text-align: right;\">\n",
              "      <th></th>\n",
              "      <th>User ID</th>\n",
              "      <th>Number of Unique Tracks</th>\n",
              "    </tr>\n",
              "  </thead>\n",
              "  <tbody>\n",
              "    <tr>\n",
              "      <th>4041</th>\n",
              "      <td>4398de6902abde3351347b048fcdc287</td>\n",
              "      <td>7645</td>\n",
              "    </tr>\n",
              "    <tr>\n",
              "      <th>9086</th>\n",
              "      <td>99deafd9b792af8e6a535483088faef2</td>\n",
              "      <td>4344</td>\n",
              "    </tr>\n",
              "    <tr>\n",
              "      <th>14784</th>\n",
              "      <td>fa849dabeb14a2800ad5130907fc5018</td>\n",
              "      <td>3868</td>\n",
              "    </tr>\n",
              "    <tr>\n",
              "      <th>7531</th>\n",
              "      <td>7ee2b92c5bcf6133b8132363e5bda960</td>\n",
              "      <td>3276</td>\n",
              "    </tr>\n",
              "    <tr>\n",
              "      <th>3089</th>\n",
              "      <td>340158ece93a38f707842348b231be45</td>\n",
              "      <td>3069</td>\n",
              "    </tr>\n",
              "  </tbody>\n",
              "</table>\n",
              "</div>\n",
              "      <button class=\"colab-df-convert\" onclick=\"convertToInteractive('df-11f3b8c4-004d-42a6-8c10-f67f1704743c')\"\n",
              "              title=\"Convert this dataframe to an interactive table.\"\n",
              "              style=\"display:none;\">\n",
              "        \n",
              "  <svg xmlns=\"http://www.w3.org/2000/svg\" height=\"24px\"viewBox=\"0 0 24 24\"\n",
              "       width=\"24px\">\n",
              "    <path d=\"M0 0h24v24H0V0z\" fill=\"none\"/>\n",
              "    <path d=\"M18.56 5.44l.94 2.06.94-2.06 2.06-.94-2.06-.94-.94-2.06-.94 2.06-2.06.94zm-11 1L8.5 8.5l.94-2.06 2.06-.94-2.06-.94L8.5 2.5l-.94 2.06-2.06.94zm10 10l.94 2.06.94-2.06 2.06-.94-2.06-.94-.94-2.06-.94 2.06-2.06.94z\"/><path d=\"M17.41 7.96l-1.37-1.37c-.4-.4-.92-.59-1.43-.59-.52 0-1.04.2-1.43.59L10.3 9.45l-7.72 7.72c-.78.78-.78 2.05 0 2.83L4 21.41c.39.39.9.59 1.41.59.51 0 1.02-.2 1.41-.59l7.78-7.78 2.81-2.81c.8-.78.8-2.07 0-2.86zM5.41 20L4 18.59l7.72-7.72 1.47 1.35L5.41 20z\"/>\n",
              "  </svg>\n",
              "      </button>\n",
              "      \n",
              "  <style>\n",
              "    .colab-df-container {\n",
              "      display:flex;\n",
              "      flex-wrap:wrap;\n",
              "      gap: 12px;\n",
              "    }\n",
              "\n",
              "    .colab-df-convert {\n",
              "      background-color: #E8F0FE;\n",
              "      border: none;\n",
              "      border-radius: 50%;\n",
              "      cursor: pointer;\n",
              "      display: none;\n",
              "      fill: #1967D2;\n",
              "      height: 32px;\n",
              "      padding: 0 0 0 0;\n",
              "      width: 32px;\n",
              "    }\n",
              "\n",
              "    .colab-df-convert:hover {\n",
              "      background-color: #E2EBFA;\n",
              "      box-shadow: 0px 1px 2px rgba(60, 64, 67, 0.3), 0px 1px 3px 1px rgba(60, 64, 67, 0.15);\n",
              "      fill: #174EA6;\n",
              "    }\n",
              "\n",
              "    [theme=dark] .colab-df-convert {\n",
              "      background-color: #3B4455;\n",
              "      fill: #D2E3FC;\n",
              "    }\n",
              "\n",
              "    [theme=dark] .colab-df-convert:hover {\n",
              "      background-color: #434B5C;\n",
              "      box-shadow: 0px 1px 3px 1px rgba(0, 0, 0, 0.15);\n",
              "      filter: drop-shadow(0px 1px 2px rgba(0, 0, 0, 0.3));\n",
              "      fill: #FFFFFF;\n",
              "    }\n",
              "  </style>\n",
              "\n",
              "      <script>\n",
              "        const buttonEl =\n",
              "          document.querySelector('#df-11f3b8c4-004d-42a6-8c10-f67f1704743c button.colab-df-convert');\n",
              "        buttonEl.style.display =\n",
              "          google.colab.kernel.accessAllowed ? 'block' : 'none';\n",
              "\n",
              "        async function convertToInteractive(key) {\n",
              "          const element = document.querySelector('#df-11f3b8c4-004d-42a6-8c10-f67f1704743c');\n",
              "          const dataTable =\n",
              "            await google.colab.kernel.invokeFunction('convertToInteractive',\n",
              "                                                     [key], {});\n",
              "          if (!dataTable) return;\n",
              "\n",
              "          const docLinkHtml = 'Like what you see? Visit the ' +\n",
              "            '<a target=\"_blank\" href=https://colab.research.google.com/notebooks/data_table.ipynb>data table notebook</a>'\n",
              "            + ' to learn more about interactive tables.';\n",
              "          element.innerHTML = '';\n",
              "          dataTable['output_type'] = 'display_data';\n",
              "          await google.colab.output.renderOutput(dataTable, element);\n",
              "          const docLink = document.createElement('div');\n",
              "          docLink.innerHTML = docLinkHtml;\n",
              "          element.appendChild(docLink);\n",
              "        }\n",
              "      </script>\n",
              "    </div>\n",
              "  </div>\n",
              "  "
            ],
            "text/plain": [
              "                                User ID  Number of Unique Tracks\n",
              "4041   4398de6902abde3351347b048fcdc287                     7645\n",
              "9086   99deafd9b792af8e6a535483088faef2                     4344\n",
              "14784  fa849dabeb14a2800ad5130907fc5018                     3868\n",
              "7531   7ee2b92c5bcf6133b8132363e5bda960                     3276\n",
              "3089   340158ece93a38f707842348b231be45                     3069"
            ]
          },
          "execution_count": 19,
          "metadata": {},
          "output_type": "execute_result"
        }
      ],
      "source": [
        "# количество треков у каждого пользователя\n",
        "track_counts = data.groupby('user_id')['track_name'].nunique()\n",
        "\n",
        "track_counts_table = pd.DataFrame({'User ID': track_counts.index, \n",
        "                                      'Number of Unique Tracks': track_counts.values})\n",
        "track_counts_table = track_counts_table.sort_values('Number of Unique Tracks', ascending=False)\n",
        "\n",
        "track_counts_table.head()"
      ]
    },
    {
      "cell_type": "code",
      "execution_count": null,
      "metadata": {
        "colab": {
          "base_uri": "https://localhost:8080/"
        },
        "id": "mA2rNwq-_wYW",
        "outputId": "5bd7917d-7431-427d-f272-b08d95ff2a1e"
      },
      "outputs": [
        {
          "data": {
            "text/html": [
              "\n",
              "  <div id=\"df-20347e85-f64d-4f25-8bde-6f233ba6808c\">\n",
              "    <div class=\"colab-df-container\">\n",
              "      <div>\n",
              "<style scoped>\n",
              "    .dataframe tbody tr th:only-of-type {\n",
              "        vertical-align: middle;\n",
              "    }\n",
              "\n",
              "    .dataframe tbody tr th {\n",
              "        vertical-align: top;\n",
              "    }\n",
              "\n",
              "    .dataframe thead th {\n",
              "        text-align: right;\n",
              "    }\n",
              "</style>\n",
              "<table border=\"1\" class=\"dataframe\">\n",
              "  <thead>\n",
              "    <tr style=\"text-align: right;\">\n",
              "      <th></th>\n",
              "      <th>User ID</th>\n",
              "      <th>Number of Unique Tracks</th>\n",
              "    </tr>\n",
              "  </thead>\n",
              "  <tbody>\n",
              "    <tr>\n",
              "      <th>8160</th>\n",
              "      <td>89b02162397ce5d3203aee3cab0b93bb</td>\n",
              "      <td>1</td>\n",
              "    </tr>\n",
              "    <tr>\n",
              "      <th>8156</th>\n",
              "      <td>89a20bc516f1d4950bd43af9e9e9234c</td>\n",
              "      <td>1</td>\n",
              "    </tr>\n",
              "    <tr>\n",
              "      <th>5199</th>\n",
              "      <td>5741a187081662bb96e5c1826f3816de</td>\n",
              "      <td>1</td>\n",
              "    </tr>\n",
              "    <tr>\n",
              "      <th>6618</th>\n",
              "      <td>6f5e433cf428f1a4880f0ee6a47790a8</td>\n",
              "      <td>1</td>\n",
              "    </tr>\n",
              "    <tr>\n",
              "      <th>7603</th>\n",
              "      <td>80355c8515bcde2069832f4595dd9d55</td>\n",
              "      <td>1</td>\n",
              "    </tr>\n",
              "  </tbody>\n",
              "</table>\n",
              "</div>\n",
              "      <button class=\"colab-df-convert\" onclick=\"convertToInteractive('df-20347e85-f64d-4f25-8bde-6f233ba6808c')\"\n",
              "              title=\"Convert this dataframe to an interactive table.\"\n",
              "              style=\"display:none;\">\n",
              "        \n",
              "  <svg xmlns=\"http://www.w3.org/2000/svg\" height=\"24px\"viewBox=\"0 0 24 24\"\n",
              "       width=\"24px\">\n",
              "    <path d=\"M0 0h24v24H0V0z\" fill=\"none\"/>\n",
              "    <path d=\"M18.56 5.44l.94 2.06.94-2.06 2.06-.94-2.06-.94-.94-2.06-.94 2.06-2.06.94zm-11 1L8.5 8.5l.94-2.06 2.06-.94-2.06-.94L8.5 2.5l-.94 2.06-2.06.94zm10 10l.94 2.06.94-2.06 2.06-.94-2.06-.94-.94-2.06-.94 2.06-2.06.94z\"/><path d=\"M17.41 7.96l-1.37-1.37c-.4-.4-.92-.59-1.43-.59-.52 0-1.04.2-1.43.59L10.3 9.45l-7.72 7.72c-.78.78-.78 2.05 0 2.83L4 21.41c.39.39.9.59 1.41.59.51 0 1.02-.2 1.41-.59l7.78-7.78 2.81-2.81c.8-.78.8-2.07 0-2.86zM5.41 20L4 18.59l7.72-7.72 1.47 1.35L5.41 20z\"/>\n",
              "  </svg>\n",
              "      </button>\n",
              "      \n",
              "  <style>\n",
              "    .colab-df-container {\n",
              "      display:flex;\n",
              "      flex-wrap:wrap;\n",
              "      gap: 12px;\n",
              "    }\n",
              "\n",
              "    .colab-df-convert {\n",
              "      background-color: #E8F0FE;\n",
              "      border: none;\n",
              "      border-radius: 50%;\n",
              "      cursor: pointer;\n",
              "      display: none;\n",
              "      fill: #1967D2;\n",
              "      height: 32px;\n",
              "      padding: 0 0 0 0;\n",
              "      width: 32px;\n",
              "    }\n",
              "\n",
              "    .colab-df-convert:hover {\n",
              "      background-color: #E2EBFA;\n",
              "      box-shadow: 0px 1px 2px rgba(60, 64, 67, 0.3), 0px 1px 3px 1px rgba(60, 64, 67, 0.15);\n",
              "      fill: #174EA6;\n",
              "    }\n",
              "\n",
              "    [theme=dark] .colab-df-convert {\n",
              "      background-color: #3B4455;\n",
              "      fill: #D2E3FC;\n",
              "    }\n",
              "\n",
              "    [theme=dark] .colab-df-convert:hover {\n",
              "      background-color: #434B5C;\n",
              "      box-shadow: 0px 1px 3px 1px rgba(0, 0, 0, 0.15);\n",
              "      filter: drop-shadow(0px 1px 2px rgba(0, 0, 0, 0.3));\n",
              "      fill: #FFFFFF;\n",
              "    }\n",
              "  </style>\n",
              "\n",
              "      <script>\n",
              "        const buttonEl =\n",
              "          document.querySelector('#df-20347e85-f64d-4f25-8bde-6f233ba6808c button.colab-df-convert');\n",
              "        buttonEl.style.display =\n",
              "          google.colab.kernel.accessAllowed ? 'block' : 'none';\n",
              "\n",
              "        async function convertToInteractive(key) {\n",
              "          const element = document.querySelector('#df-20347e85-f64d-4f25-8bde-6f233ba6808c');\n",
              "          const dataTable =\n",
              "            await google.colab.kernel.invokeFunction('convertToInteractive',\n",
              "                                                     [key], {});\n",
              "          if (!dataTable) return;\n",
              "\n",
              "          const docLinkHtml = 'Like what you see? Visit the ' +\n",
              "            '<a target=\"_blank\" href=https://colab.research.google.com/notebooks/data_table.ipynb>data table notebook</a>'\n",
              "            + ' to learn more about interactive tables.';\n",
              "          element.innerHTML = '';\n",
              "          dataTable['output_type'] = 'display_data';\n",
              "          await google.colab.output.renderOutput(dataTable, element);\n",
              "          const docLink = document.createElement('div');\n",
              "          docLink.innerHTML = docLinkHtml;\n",
              "          element.appendChild(docLink);\n",
              "        }\n",
              "      </script>\n",
              "    </div>\n",
              "  </div>\n",
              "  "
            ],
            "text/plain": [
              "                               User ID  Number of Unique Tracks\n",
              "8160  89b02162397ce5d3203aee3cab0b93bb                        1\n",
              "8156  89a20bc516f1d4950bd43af9e9e9234c                        1\n",
              "5199  5741a187081662bb96e5c1826f3816de                        1\n",
              "6618  6f5e433cf428f1a4880f0ee6a47790a8                        1\n",
              "7603  80355c8515bcde2069832f4595dd9d55                        1"
            ]
          },
          "execution_count": 20,
          "metadata": {},
          "output_type": "execute_result"
        }
      ],
      "source": [
        "#есть пользователи с минимальным количеством треков\n",
        "track_counts_table.tail()"
      ]
    },
    {
      "cell_type": "code",
      "execution_count": null,
      "metadata": {
        "colab": {
          "base_uri": "https://localhost:8080/"
        },
        "id": "dBVdwqdZ_-0Z",
        "outputId": "ac3b4355-9d66-4417-b67b-d387de6139ab"
      },
      "outputs": [
        {
          "data": {
            "text/html": [
              "\n",
              "  <div id=\"df-e2e3b84f-17b4-4c48-9f4e-7f8d029c6b8b\">\n",
              "    <div class=\"colab-df-container\">\n",
              "      <div>\n",
              "<style scoped>\n",
              "    .dataframe tbody tr th:only-of-type {\n",
              "        vertical-align: middle;\n",
              "    }\n",
              "\n",
              "    .dataframe tbody tr th {\n",
              "        vertical-align: top;\n",
              "    }\n",
              "\n",
              "    .dataframe thead th {\n",
              "        text-align: right;\n",
              "    }\n",
              "</style>\n",
              "<table border=\"1\" class=\"dataframe\">\n",
              "  <thead>\n",
              "    <tr style=\"text-align: right;\">\n",
              "      <th></th>\n",
              "      <th>Track name</th>\n",
              "      <th>Number of Likes</th>\n",
              "    </tr>\n",
              "  </thead>\n",
              "  <tbody>\n",
              "    <tr>\n",
              "      <th>19769</th>\n",
              "      <td>Home</td>\n",
              "      <td>2110</td>\n",
              "    </tr>\n",
              "    <tr>\n",
              "      <th>37122</th>\n",
              "      <td>Radioactive</td>\n",
              "      <td>1822</td>\n",
              "    </tr>\n",
              "    <tr>\n",
              "      <th>38670</th>\n",
              "      <td>Royals</td>\n",
              "      <td>1723</td>\n",
              "    </tr>\n",
              "    <tr>\n",
              "      <th>51741</th>\n",
              "      <td>Wake Me Up</td>\n",
              "      <td>1700</td>\n",
              "    </tr>\n",
              "    <tr>\n",
              "      <th>27173</th>\n",
              "      <td>Little Talks</td>\n",
              "      <td>1682</td>\n",
              "    </tr>\n",
              "  </tbody>\n",
              "</table>\n",
              "</div>\n",
              "      <button class=\"colab-df-convert\" onclick=\"convertToInteractive('df-e2e3b84f-17b4-4c48-9f4e-7f8d029c6b8b')\"\n",
              "              title=\"Convert this dataframe to an interactive table.\"\n",
              "              style=\"display:none;\">\n",
              "        \n",
              "  <svg xmlns=\"http://www.w3.org/2000/svg\" height=\"24px\"viewBox=\"0 0 24 24\"\n",
              "       width=\"24px\">\n",
              "    <path d=\"M0 0h24v24H0V0z\" fill=\"none\"/>\n",
              "    <path d=\"M18.56 5.44l.94 2.06.94-2.06 2.06-.94-2.06-.94-.94-2.06-.94 2.06-2.06.94zm-11 1L8.5 8.5l.94-2.06 2.06-.94-2.06-.94L8.5 2.5l-.94 2.06-2.06.94zm10 10l.94 2.06.94-2.06 2.06-.94-2.06-.94-.94-2.06-.94 2.06-2.06.94z\"/><path d=\"M17.41 7.96l-1.37-1.37c-.4-.4-.92-.59-1.43-.59-.52 0-1.04.2-1.43.59L10.3 9.45l-7.72 7.72c-.78.78-.78 2.05 0 2.83L4 21.41c.39.39.9.59 1.41.59.51 0 1.02-.2 1.41-.59l7.78-7.78 2.81-2.81c.8-.78.8-2.07 0-2.86zM5.41 20L4 18.59l7.72-7.72 1.47 1.35L5.41 20z\"/>\n",
              "  </svg>\n",
              "      </button>\n",
              "      \n",
              "  <style>\n",
              "    .colab-df-container {\n",
              "      display:flex;\n",
              "      flex-wrap:wrap;\n",
              "      gap: 12px;\n",
              "    }\n",
              "\n",
              "    .colab-df-convert {\n",
              "      background-color: #E8F0FE;\n",
              "      border: none;\n",
              "      border-radius: 50%;\n",
              "      cursor: pointer;\n",
              "      display: none;\n",
              "      fill: #1967D2;\n",
              "      height: 32px;\n",
              "      padding: 0 0 0 0;\n",
              "      width: 32px;\n",
              "    }\n",
              "\n",
              "    .colab-df-convert:hover {\n",
              "      background-color: #E2EBFA;\n",
              "      box-shadow: 0px 1px 2px rgba(60, 64, 67, 0.3), 0px 1px 3px 1px rgba(60, 64, 67, 0.15);\n",
              "      fill: #174EA6;\n",
              "    }\n",
              "\n",
              "    [theme=dark] .colab-df-convert {\n",
              "      background-color: #3B4455;\n",
              "      fill: #D2E3FC;\n",
              "    }\n",
              "\n",
              "    [theme=dark] .colab-df-convert:hover {\n",
              "      background-color: #434B5C;\n",
              "      box-shadow: 0px 1px 3px 1px rgba(0, 0, 0, 0.15);\n",
              "      filter: drop-shadow(0px 1px 2px rgba(0, 0, 0, 0.3));\n",
              "      fill: #FFFFFF;\n",
              "    }\n",
              "  </style>\n",
              "\n",
              "      <script>\n",
              "        const buttonEl =\n",
              "          document.querySelector('#df-e2e3b84f-17b4-4c48-9f4e-7f8d029c6b8b button.colab-df-convert');\n",
              "        buttonEl.style.display =\n",
              "          google.colab.kernel.accessAllowed ? 'block' : 'none';\n",
              "\n",
              "        async function convertToInteractive(key) {\n",
              "          const element = document.querySelector('#df-e2e3b84f-17b4-4c48-9f4e-7f8d029c6b8b');\n",
              "          const dataTable =\n",
              "            await google.colab.kernel.invokeFunction('convertToInteractive',\n",
              "                                                     [key], {});\n",
              "          if (!dataTable) return;\n",
              "\n",
              "          const docLinkHtml = 'Like what you see? Visit the ' +\n",
              "            '<a target=\"_blank\" href=https://colab.research.google.com/notebooks/data_table.ipynb>data table notebook</a>'\n",
              "            + ' to learn more about interactive tables.';\n",
              "          element.innerHTML = '';\n",
              "          dataTable['output_type'] = 'display_data';\n",
              "          await google.colab.output.renderOutput(dataTable, element);\n",
              "          const docLink = document.createElement('div');\n",
              "          docLink.innerHTML = docLinkHtml;\n",
              "          element.appendChild(docLink);\n",
              "        }\n",
              "      </script>\n",
              "    </div>\n",
              "  </div>\n",
              "  "
            ],
            "text/plain": [
              "         Track name  Number of Likes\n",
              "19769          Home             2110\n",
              "37122   Radioactive             1822\n",
              "38670        Royals             1723\n",
              "51741    Wake Me Up             1700\n",
              "27173  Little Talks             1682"
            ]
          },
          "execution_count": 21,
          "metadata": {},
          "output_type": "execute_result"
        }
      ],
      "source": [
        "# количество 'лайков' у каждого трека\n",
        "likes_counts = data.groupby('track_name')['user_id'].nunique()\n",
        "\n",
        "likes_counts_table = pd.DataFrame({'Track name': likes_counts.index, \n",
        "                                      'Number of Likes': likes_counts.values})\n",
        "likes_counts_table = likes_counts_table.sort_values('Number of Likes', ascending=False)\n",
        "\n",
        "likes_counts_table.head()"
      ]
    },
    {
      "cell_type": "code",
      "execution_count": null,
      "metadata": {
        "colab": {
          "base_uri": "https://localhost:8080/"
        },
        "id": "jTFbnk3f4LaO",
        "outputId": "101e79ef-7377-4e1d-a2fa-c74ee54d927a"
      },
      "outputs": [
        {
          "data": {
            "image/png": "[encoded data removed]",
            "text/plain": [
              "<Figure size 432x288 with 1 Axes>"
            ]
          },
          "metadata": {},
          "output_type": "display_data"
        }
      ],
      "source": [
        "# Top artists:\n",
        "data['artist_name'].value_counts()[:10].plot(kind = 'barh');"
      ]
    },
    {
      "cell_type": "code",
      "execution_count": null,
      "metadata": {
        "colab": {
          "base_uri": "https://localhost:8080/"
        },
        "id": "pUg0OCjf4YkE",
        "outputId": "c2d98779-3b75-4fcc-9e83-82a6bac87be1"
      },
      "outputs": [
        {
          "data": {
            "image/png": "[encoded data removed]",
            "text/plain": [
              "<Figure size 432x288 with 1 Axes>"
            ]
          },
          "metadata": {},
          "output_type": "display_data"
        }
      ],
      "source": [
        "# Top tracks\n",
        "data['track_name'].value_counts()[:10].plot(kind = 'barh');"
      ]
    },
    {
      "cell_type": "code",
      "execution_count": null,
      "metadata": {
        "colab": {
          "base_uri": "https://localhost:8080/"
        },
        "id": "lAnR7Dz8yym0",
        "outputId": "ffee20b6-4ee5-4cf5-d8cb-9838f980e8a3"
      },
      "outputs": [
        {
          "data": {
            "text/html": [
              "\n",
              "  <div id=\"df-c12484c0-7c2b-4dfc-8b62-f37d08257cd3\">\n",
              "    <div class=\"colab-df-container\">\n",
              "      <div>\n",
              "<style scoped>\n",
              "    .dataframe tbody tr th:only-of-type {\n",
              "        vertical-align: middle;\n",
              "    }\n",
              "\n",
              "    .dataframe tbody tr th {\n",
              "        vertical-align: top;\n",
              "    }\n",
              "\n",
              "    .dataframe thead th {\n",
              "        text-align: right;\n",
              "    }\n",
              "</style>\n",
              "<table border=\"1\" class=\"dataframe\">\n",
              "  <thead>\n",
              "    <tr style=\"text-align: right;\">\n",
              "      <th></th>\n",
              "      <th>genre</th>\n",
              "      <th>artist_name</th>\n",
              "      <th>track_name</th>\n",
              "      <th>track_id</th>\n",
              "      <th>popularity</th>\n",
              "      <th>acousticness</th>\n",
              "      <th>danceability</th>\n",
              "      <th>duration_ms</th>\n",
              "      <th>energy</th>\n",
              "      <th>instrumentalness</th>\n",
              "      <th>key</th>\n",
              "      <th>liveness</th>\n",
              "      <th>loudness</th>\n",
              "      <th>mode</th>\n",
              "      <th>speechiness</th>\n",
              "      <th>tempo</th>\n",
              "      <th>time_signature</th>\n",
              "      <th>valence</th>\n",
              "      <th>user_id</th>\n",
              "      <th>playlistname</th>\n",
              "    </tr>\n",
              "  </thead>\n",
              "  <tbody>\n",
              "    <tr>\n",
              "      <th>205</th>\n",
              "      <td>R&amp;B</td>\n",
              "      <td>Usher</td>\n",
              "      <td>You Make Me Wanna...</td>\n",
              "      <td>47TqCCnEliDp8NRDyIQoQq</td>\n",
              "      <td>69</td>\n",
              "      <td>0.036</td>\n",
              "      <td>0.761</td>\n",
              "      <td>219120</td>\n",
              "      <td>0.639</td>\n",
              "      <td>0.000</td>\n",
              "      <td>F</td>\n",
              "      <td>0.095</td>\n",
              "      <td>-7.577</td>\n",
              "      <td>Minor</td>\n",
              "      <td>0.054</td>\n",
              "      <td>164.088</td>\n",
              "      <td>4/4</td>\n",
              "      <td>0.922</td>\n",
              "      <td>6879b04def4c52a0d41e07b4f11136d6</td>\n",
              "      <td>Songs of 1997</td>\n",
              "    </tr>\n",
              "    <tr>\n",
              "      <th>531</th>\n",
              "      <td>Dance</td>\n",
              "      <td>Usher</td>\n",
              "      <td>You Make Me Wanna...</td>\n",
              "      <td>47TqCCnEliDp8NRDyIQoQq</td>\n",
              "      <td>69</td>\n",
              "      <td>0.036</td>\n",
              "      <td>0.761</td>\n",
              "      <td>219120</td>\n",
              "      <td>0.639</td>\n",
              "      <td>0.000</td>\n",
              "      <td>F</td>\n",
              "      <td>0.095</td>\n",
              "      <td>-7.577</td>\n",
              "      <td>Minor</td>\n",
              "      <td>0.054</td>\n",
              "      <td>164.088</td>\n",
              "      <td>4/4</td>\n",
              "      <td>0.922</td>\n",
              "      <td>6879b04def4c52a0d41e07b4f11136d6</td>\n",
              "      <td>Songs of 1997</td>\n",
              "    </tr>\n",
              "    <tr>\n",
              "      <th>857</th>\n",
              "      <td>Hip-Hop</td>\n",
              "      <td>Usher</td>\n",
              "      <td>You Make Me Wanna...</td>\n",
              "      <td>47TqCCnEliDp8NRDyIQoQq</td>\n",
              "      <td>69</td>\n",
              "      <td>0.036</td>\n",
              "      <td>0.761</td>\n",
              "      <td>219120</td>\n",
              "      <td>0.639</td>\n",
              "      <td>0.000</td>\n",
              "      <td>F</td>\n",
              "      <td>0.095</td>\n",
              "      <td>-7.577</td>\n",
              "      <td>Minor</td>\n",
              "      <td>0.054</td>\n",
              "      <td>164.088</td>\n",
              "      <td>4/4</td>\n",
              "      <td>0.922</td>\n",
              "      <td>6879b04def4c52a0d41e07b4f11136d6</td>\n",
              "      <td>Songs of 1997</td>\n",
              "    </tr>\n",
              "    <tr>\n",
              "      <th>1183</th>\n",
              "      <td>Pop</td>\n",
              "      <td>Usher</td>\n",
              "      <td>You Make Me Wanna...</td>\n",
              "      <td>47TqCCnEliDp8NRDyIQoQq</td>\n",
              "      <td>69</td>\n",
              "      <td>0.036</td>\n",
              "      <td>0.761</td>\n",
              "      <td>219120</td>\n",
              "      <td>0.639</td>\n",
              "      <td>0.000</td>\n",
              "      <td>F</td>\n",
              "      <td>0.095</td>\n",
              "      <td>-7.577</td>\n",
              "      <td>Minor</td>\n",
              "      <td>0.054</td>\n",
              "      <td>164.088</td>\n",
              "      <td>4/4</td>\n",
              "      <td>0.922</td>\n",
              "      <td>6879b04def4c52a0d41e07b4f11136d6</td>\n",
              "      <td>Songs of 1997</td>\n",
              "    </tr>\n",
              "    <tr>\n",
              "      <th>1509</th>\n",
              "      <td>Rap</td>\n",
              "      <td>Usher</td>\n",
              "      <td>You Make Me Wanna...</td>\n",
              "      <td>47TqCCnEliDp8NRDyIQoQq</td>\n",
              "      <td>69</td>\n",
              "      <td>0.036</td>\n",
              "      <td>0.761</td>\n",
              "      <td>219120</td>\n",
              "      <td>0.639</td>\n",
              "      <td>0.000</td>\n",
              "      <td>F</td>\n",
              "      <td>0.095</td>\n",
              "      <td>-7.577</td>\n",
              "      <td>Minor</td>\n",
              "      <td>0.054</td>\n",
              "      <td>164.088</td>\n",
              "      <td>4/4</td>\n",
              "      <td>0.922</td>\n",
              "      <td>6879b04def4c52a0d41e07b4f11136d6</td>\n",
              "      <td>Songs of 1997</td>\n",
              "    </tr>\n",
              "  </tbody>\n",
              "</table>\n",
              "</div>\n",
              "      <button class=\"colab-df-convert\" onclick=\"convertToInteractive('df-c12484c0-7c2b-4dfc-8b62-f37d08257cd3')\"\n",
              "              title=\"Convert this dataframe to an interactive table.\"\n",
              "              style=\"display:none;\">\n",
              "        \n",
              "  <svg xmlns=\"http://www.w3.org/2000/svg\" height=\"24px\"viewBox=\"0 0 24 24\"\n",
              "       width=\"24px\">\n",
              "    <path d=\"M0 0h24v24H0V0z\" fill=\"none\"/>\n",
              "    <path d=\"M18.56 5.44l.94 2.06.94-2.06 2.06-.94-2.06-.94-.94-2.06-.94 2.06-2.06.94zm-11 1L8.5 8.5l.94-2.06 2.06-.94-2.06-.94L8.5 2.5l-.94 2.06-2.06.94zm10 10l.94 2.06.94-2.06 2.06-.94-2.06-.94-.94-2.06-.94 2.06-2.06.94z\"/><path d=\"M17.41 7.96l-1.37-1.37c-.4-.4-.92-.59-1.43-.59-.52 0-1.04.2-1.43.59L10.3 9.45l-7.72 7.72c-.78.78-.78 2.05 0 2.83L4 21.41c.39.39.9.59 1.41.59.51 0 1.02-.2 1.41-.59l7.78-7.78 2.81-2.81c.8-.78.8-2.07 0-2.86zM5.41 20L4 18.59l7.72-7.72 1.47 1.35L5.41 20z\"/>\n",
              "  </svg>\n",
              "      </button>\n",
              "      \n",
              "  <style>\n",
              "    .colab-df-container {\n",
              "      display:flex;\n",
              "      flex-wrap:wrap;\n",
              "      gap: 12px;\n",
              "    }\n",
              "\n",
              "    .colab-df-convert {\n",
              "      background-color: #E8F0FE;\n",
              "      border: none;\n",
              "      border-radius: 50%;\n",
              "      cursor: pointer;\n",
              "      display: none;\n",
              "      fill: #1967D2;\n",
              "      height: 32px;\n",
              "      padding: 0 0 0 0;\n",
              "      width: 32px;\n",
              "    }\n",
              "\n",
              "    .colab-df-convert:hover {\n",
              "      background-color: #E2EBFA;\n",
              "      box-shadow: 0px 1px 2px rgba(60, 64, 67, 0.3), 0px 1px 3px 1px rgba(60, 64, 67, 0.15);\n",
              "      fill: #174EA6;\n",
              "    }\n",
              "\n",
              "    [theme=dark] .colab-df-convert {\n",
              "      background-color: #3B4455;\n",
              "      fill: #D2E3FC;\n",
              "    }\n",
              "\n",
              "    [theme=dark] .colab-df-convert:hover {\n",
              "      background-color: #434B5C;\n",
              "      box-shadow: 0px 1px 3px 1px rgba(0, 0, 0, 0.15);\n",
              "      filter: drop-shadow(0px 1px 2px rgba(0, 0, 0, 0.3));\n",
              "      fill: #FFFFFF;\n",
              "    }\n",
              "  </style>\n",
              "\n",
              "      <script>\n",
              "        const buttonEl =\n",
              "          document.querySelector('#df-c12484c0-7c2b-4dfc-8b62-f37d08257cd3 button.colab-df-convert');\n",
              "        buttonEl.style.display =\n",
              "          google.colab.kernel.accessAllowed ? 'block' : 'none';\n",
              "\n",
              "        async function convertToInteractive(key) {\n",
              "          const element = document.querySelector('#df-c12484c0-7c2b-4dfc-8b62-f37d08257cd3');\n",
              "          const dataTable =\n",
              "            await google.colab.kernel.invokeFunction('convertToInteractive',\n",
              "                                                     [key], {});\n",
              "          if (!dataTable) return;\n",
              "\n",
              "          const docLinkHtml = 'Like what you see? Visit the ' +\n",
              "            '<a target=\"_blank\" href=https://colab.research.google.com/notebooks/data_table.ipynb>data table notebook</a>'\n",
              "            + ' to learn more about interactive tables.';\n",
              "          element.innerHTML = '';\n",
              "          dataTable['output_type'] = 'display_data';\n",
              "          await google.colab.output.renderOutput(dataTable, element);\n",
              "          const docLink = document.createElement('div');\n",
              "          docLink.innerHTML = docLinkHtml;\n",
              "          element.appendChild(docLink);\n",
              "        }\n",
              "      </script>\n",
              "    </div>\n",
              "  </div>\n",
              "  "
            ],
            "text/plain": [
              "        genre artist_name            track_name                track_id  \\\n",
              "205       R&B       Usher  You Make Me Wanna...  47TqCCnEliDp8NRDyIQoQq   \n",
              "531     Dance       Usher  You Make Me Wanna...  47TqCCnEliDp8NRDyIQoQq   \n",
              "857   Hip-Hop       Usher  You Make Me Wanna...  47TqCCnEliDp8NRDyIQoQq   \n",
              "1183      Pop       Usher  You Make Me Wanna...  47TqCCnEliDp8NRDyIQoQq   \n",
              "1509      Rap       Usher  You Make Me Wanna...  47TqCCnEliDp8NRDyIQoQq   \n",
              "\n",
              "      popularity  acousticness  danceability  duration_ms  energy  \\\n",
              "205           69         0.036         0.761       219120   0.639   \n",
              "531           69         0.036         0.761       219120   0.639   \n",
              "857           69         0.036         0.761       219120   0.639   \n",
              "1183          69         0.036         0.761       219120   0.639   \n",
              "1509          69         0.036         0.761       219120   0.639   \n",
              "\n",
              "      instrumentalness key  liveness  loudness   mode  speechiness   tempo  \\\n",
              "205              0.000   F     0.095    -7.577  Minor        0.054 164.088   \n",
              "531              0.000   F     0.095    -7.577  Minor        0.054 164.088   \n",
              "857              0.000   F     0.095    -7.577  Minor        0.054 164.088   \n",
              "1183             0.000   F     0.095    -7.577  Minor        0.054 164.088   \n",
              "1509             0.000   F     0.095    -7.577  Minor        0.054 164.088   \n",
              "\n",
              "     time_signature  valence                           user_id   playlistname  \n",
              "205             4/4    0.922  6879b04def4c52a0d41e07b4f11136d6  Songs of 1997  \n",
              "531             4/4    0.922  6879b04def4c52a0d41e07b4f11136d6  Songs of 1997  \n",
              "857             4/4    0.922  6879b04def4c52a0d41e07b4f11136d6  Songs of 1997  \n",
              "1183            4/4    0.922  6879b04def4c52a0d41e07b4f11136d6  Songs of 1997  \n",
              "1509            4/4    0.922  6879b04def4c52a0d41e07b4f11136d6  Songs of 1997  "
            ]
          },
          "execution_count": 24,
          "metadata": {},
          "output_type": "execute_result"
        }
      ],
      "source": [
        "#посмотреть данные по конкретному пользователю c идентификатором\n",
        "user_data = data.groupby('user_id').get_group('6879b04def4c52a0d41e07b4f11136d6')\n",
        "user_data.head()"
      ]
    },
    {
      "cell_type": "markdown",
      "metadata": {
        "id": "xEMvLtwR5V9z"
      },
      "source": [
        "## Кластеризация K-Means"
      ]
    },
    {
      "cell_type": "code",
      "execution_count": null,
      "metadata": {
        "id": "7BGyPvH32ri8"
      },
      "outputs": [],
      "source": [
        "#отбираем столбцы с звуковыми характеристиками песен\n",
        "audio_features_data = data[['acousticness', 'valence','danceability', 'energy', 'instrumentalness', 'liveness', 'loudness', 'speechiness', 'tempo']]\n",
        "\n",
        "# выделяем 10 кластеров\n",
        "kmeans = KMeans(n_clusters=10, random_state=42)\n",
        "kmeans.fit(audio_features_data)\n",
        "\n",
        "# добавляем колонку с кластером к оригинальному датасету\n",
        "audio_features_data['cluster'] = kmeans.labels_\n",
        "data['cluster'] = kmeans.labels_"
      ]
    },
    {
      "cell_type": "code",
      "execution_count": null,
      "metadata": {
        "id": "MXepEnXiOxnc"
      },
      "outputs": [],
      "source": [
        "def recommend_track(track_name, number_of_tracks=10):\n",
        "    # выделяем характеристики трека, заданного пользователем\n",
        "    input_track_features = data.loc[data['track_name'] == track_name, ['acousticness', 'valence','danceability', 'energy', 'instrumentalness', 'liveness', 'loudness', 'speechiness', 'tempo']].values\n",
        "    \n",
        "    # предсказываем кластер \n",
        "    input_track_cluster = kmeans.predict(input_track_features)[0]\n",
        "    \n",
        "    # рекомендуем треки из кластера\n",
        "    recommendations = data[data['cluster'] == input_track_cluster].sample(number_of_tracks)[['track_name','artist_name']].values\n",
        "    recommendations = pd.DataFrame(recommendations, columns=['Track name','Artist name'])\n",
        "    recommendations = recommendations.drop_duplicates()\n",
        "\n",
        "    return recommendations.head(number_of_tracks)"
      ]
    },
    {
      "cell_type": "code",
      "execution_count": null,
      "metadata": {
        "colab": {
          "base_uri": "https://localhost:8080/"
        },
        "id": "OF9akEClO-Du",
        "outputId": "ec257ba3-a917-4734-eaa6-40cee102de49"
      },
      "outputs": [
        {
          "data": {
            "text/html": [
              "\n",
              "  <div id=\"df-4ba0ce31-199c-447d-a4da-3954987187cc\">\n",
              "    <div class=\"colab-df-container\">\n",
              "      <div>\n",
              "<style scoped>\n",
              "    .dataframe tbody tr th:only-of-type {\n",
              "        vertical-align: middle;\n",
              "    }\n",
              "\n",
              "    .dataframe tbody tr th {\n",
              "        vertical-align: top;\n",
              "    }\n",
              "\n",
              "    .dataframe thead th {\n",
              "        text-align: right;\n",
              "    }\n",
              "</style>\n",
              "<table border=\"1\" class=\"dataframe\">\n",
              "  <thead>\n",
              "    <tr style=\"text-align: right;\">\n",
              "      <th></th>\n",
              "      <th>Track name</th>\n",
              "      <th>Artist name</th>\n",
              "    </tr>\n",
              "  </thead>\n",
              "  <tbody>\n",
              "    <tr>\n",
              "      <th>0</th>\n",
              "      <td>Undead</td>\n",
              "      <td>Hollywood Undead</td>\n",
              "    </tr>\n",
              "    <tr>\n",
              "      <th>1</th>\n",
              "      <td>Two Weeks</td>\n",
              "      <td>Grizzly Bear</td>\n",
              "    </tr>\n",
              "    <tr>\n",
              "      <th>2</th>\n",
              "      <td>Hope With the Jet Set</td>\n",
              "      <td>Dead Kennedys</td>\n",
              "    </tr>\n",
              "    <tr>\n",
              "      <th>3</th>\n",
              "      <td>Fly Away</td>\n",
              "      <td>Lenny Kravitz</td>\n",
              "    </tr>\n",
              "    <tr>\n",
              "      <th>4</th>\n",
              "      <td>Baltimore</td>\n",
              "      <td>Nina Simone</td>\n",
              "    </tr>\n",
              "    <tr>\n",
              "      <th>5</th>\n",
              "      <td>Disparate Youth</td>\n",
              "      <td>Santigold</td>\n",
              "    </tr>\n",
              "    <tr>\n",
              "      <th>6</th>\n",
              "      <td>No Rain</td>\n",
              "      <td>Blind Melon</td>\n",
              "    </tr>\n",
              "    <tr>\n",
              "      <th>7</th>\n",
              "      <td>Somebody's Heartbreak</td>\n",
              "      <td>Hunter Hayes</td>\n",
              "    </tr>\n",
              "    <tr>\n",
              "      <th>8</th>\n",
              "      <td>Pressure</td>\n",
              "      <td>Paramore</td>\n",
              "    </tr>\n",
              "    <tr>\n",
              "      <th>9</th>\n",
              "      <td>You Won't Find This</td>\n",
              "      <td>Carrie Underwood</td>\n",
              "    </tr>\n",
              "  </tbody>\n",
              "</table>\n",
              "</div>\n",
              "      <button class=\"colab-df-convert\" onclick=\"convertToInteractive('df-4ba0ce31-199c-447d-a4da-3954987187cc')\"\n",
              "              title=\"Convert this dataframe to an interactive table.\"\n",
              "              style=\"display:none;\">\n",
              "        \n",
              "  <svg xmlns=\"http://www.w3.org/2000/svg\" height=\"24px\"viewBox=\"0 0 24 24\"\n",
              "       width=\"24px\">\n",
              "    <path d=\"M0 0h24v24H0V0z\" fill=\"none\"/>\n",
              "    <path d=\"M18.56 5.44l.94 2.06.94-2.06 2.06-.94-2.06-.94-.94-2.06-.94 2.06-2.06.94zm-11 1L8.5 8.5l.94-2.06 2.06-.94-2.06-.94L8.5 2.5l-.94 2.06-2.06.94zm10 10l.94 2.06.94-2.06 2.06-.94-2.06-.94-.94-2.06-.94 2.06-2.06.94z\"/><path d=\"M17.41 7.96l-1.37-1.37c-.4-.4-.92-.59-1.43-.59-.52 0-1.04.2-1.43.59L10.3 9.45l-7.72 7.72c-.78.78-.78 2.05 0 2.83L4 21.41c.39.39.9.59 1.41.59.51 0 1.02-.2 1.41-.59l7.78-7.78 2.81-2.81c.8-.78.8-2.07 0-2.86zM5.41 20L4 18.59l7.72-7.72 1.47 1.35L5.41 20z\"/>\n",
              "  </svg>\n",
              "      </button>\n",
              "      \n",
              "  <style>\n",
              "    .colab-df-container {\n",
              "      display:flex;\n",
              "      flex-wrap:wrap;\n",
              "      gap: 12px;\n",
              "    }\n",
              "\n",
              "    .colab-df-convert {\n",
              "      background-color: #E8F0FE;\n",
              "      border: none;\n",
              "      border-radius: 50%;\n",
              "      cursor: pointer;\n",
              "      display: none;\n",
              "      fill: #1967D2;\n",
              "      height: 32px;\n",
              "      padding: 0 0 0 0;\n",
              "      width: 32px;\n",
              "    }\n",
              "\n",
              "    .colab-df-convert:hover {\n",
              "      background-color: #E2EBFA;\n",
              "      box-shadow: 0px 1px 2px rgba(60, 64, 67, 0.3), 0px 1px 3px 1px rgba(60, 64, 67, 0.15);\n",
              "      fill: #174EA6;\n",
              "    }\n",
              "\n",
              "    [theme=dark] .colab-df-convert {\n",
              "      background-color: #3B4455;\n",
              "      fill: #D2E3FC;\n",
              "    }\n",
              "\n",
              "    [theme=dark] .colab-df-convert:hover {\n",
              "      background-color: #434B5C;\n",
              "      box-shadow: 0px 1px 3px 1px rgba(0, 0, 0, 0.15);\n",
              "      filter: drop-shadow(0px 1px 2px rgba(0, 0, 0, 0.3));\n",
              "      fill: #FFFFFF;\n",
              "    }\n",
              "  </style>\n",
              "\n",
              "      <script>\n",
              "        const buttonEl =\n",
              "          document.querySelector('#df-4ba0ce31-199c-447d-a4da-3954987187cc button.colab-df-convert');\n",
              "        buttonEl.style.display =\n",
              "          google.colab.kernel.accessAllowed ? 'block' : 'none';\n",
              "\n",
              "        async function convertToInteractive(key) {\n",
              "          const element = document.querySelector('#df-4ba0ce31-199c-447d-a4da-3954987187cc');\n",
              "          const dataTable =\n",
              "            await google.colab.kernel.invokeFunction('convertToInteractive',\n",
              "                                                     [key], {});\n",
              "          if (!dataTable) return;\n",
              "\n",
              "          const docLinkHtml = 'Like what you see? Visit the ' +\n",
              "            '<a target=\"_blank\" href=https://colab.research.google.com/notebooks/data_table.ipynb>data table notebook</a>'\n",
              "            + ' to learn more about interactive tables.';\n",
              "          element.innerHTML = '';\n",
              "          dataTable['output_type'] = 'display_data';\n",
              "          await google.colab.output.renderOutput(dataTable, element);\n",
              "          const docLink = document.createElement('div');\n",
              "          docLink.innerHTML = docLinkHtml;\n",
              "          element.appendChild(docLink);\n",
              "        }\n",
              "      </script>\n",
              "    </div>\n",
              "  </div>\n",
              "  "
            ],
            "text/plain": [
              "              Track name       Artist name\n",
              "0                 Undead  Hollywood Undead\n",
              "1              Two Weeks      Grizzly Bear\n",
              "2  Hope With the Jet Set     Dead Kennedys\n",
              "3               Fly Away     Lenny Kravitz\n",
              "4              Baltimore       Nina Simone\n",
              "5        Disparate Youth         Santigold\n",
              "6                No Rain       Blind Melon\n",
              "7  Somebody's Heartbreak      Hunter Hayes\n",
              "8               Pressure          Paramore\n",
              "9    You Won't Find This  Carrie Underwood"
            ]
          },
          "execution_count": 27,
          "metadata": {},
          "output_type": "execute_result"
        }
      ],
      "source": [
        "recommend_track('Quand je monte chez toi')"
      ]
    },
    {
      "cell_type": "markdown",
      "metadata": {
        "id": "_iJUXSlwMGrS"
      },
      "source": [
        "## Baseline Top Popular - как наибольшее число добавлений песни в плейлист по всем пользователям"
      ]
    },
    {
      "cell_type": "code",
      "execution_count": null,
      "metadata": {
        "id": "av9__Hfurxpa"
      },
      "outputs": [],
      "source": [
        "#срез из небольшого количества данных для тестирования алгоритма\n",
        "df = data[:1000]"
      ]
    },
    {
      "cell_type": "code",
      "execution_count": null,
      "metadata": {
        "colab": {
          "base_uri": "https://localhost:8080/"
        },
        "id": "R7BQFJRRTtF9",
        "outputId": "592a3132-ad91-415e-cbb6-4df07be57b42"
      },
      "outputs": [
        {
          "output_type": "execute_result",
          "data": {
            "text/plain": [
              "322"
            ]
          },
          "metadata": {},
          "execution_count": 13
        }
      ],
      "source": [
        "#количество уникальных пользователей в срезе\n",
        "len(df.user_id.unique())"
      ]
    },
    {
      "cell_type": "code",
      "execution_count": null,
      "metadata": {
        "colab": {
          "base_uri": "https://localhost:8080/"
        },
        "id": "TJ6dcERSTwQe",
        "outputId": "2a0a1c2c-70c1-4b66-be4f-eebdc06650f0"
      },
      "outputs": [
        {
          "output_type": "execute_result",
          "data": {
            "text/plain": [
              "7"
            ]
          },
          "metadata": {},
          "execution_count": 14
        }
      ],
      "source": [
        "#количество уникальных треков в срезе\n",
        "len(df.track_name.unique())"
      ]
    },
    {
      "cell_type": "code",
      "execution_count": null,
      "metadata": {
        "id": "Z8aqa0vhSknt"
      },
      "outputs": [],
      "source": [
        "def dict_from_data(data):\n",
        "  \n",
        "  data = data.drop(labels = ['genre', 'artist_name', 'track_id', 'popularity',\n",
        "       'acousticness', 'danceability', 'duration_ms', 'energy',\n",
        "       'instrumentalness', 'key', 'liveness', 'loudness', 'mode',\n",
        "       'speechiness', 'tempo', 'time_signature', 'valence',\n",
        "       'playlistname'], axis = 1)\n",
        "  d = {}\n",
        "  for i in data['user_id'].unique():\n",
        "    d[i] = {data['track_name'][j]: 1 for j in data[data['user_id']==i].index}\n",
        "\n",
        "  return d\n",
        "\n",
        "def get_pop_songs(d):\n",
        "    songs_rating = {}\n",
        "    for user, songs in d.items():\n",
        "        for song, _ in songs.items():\n",
        "            songs_rating.setdefault(song, 0) #поставили каждой песне частоту встречаемости 0 \n",
        "            songs_rating[song] += 1 #если песня встречается больше одного раза увеличиваем счетчик\n",
        "    songs_rating = dict(sorted(songs_rating.items(), key=lambda x: x[1], reverse=True)) #отсортированный словарь по убыванию рейтинга (частоты встречаемости) песен\n",
        "    return songs_rating\n",
        "\n",
        "\n",
        "def top_pop_recommender(d, user):\n",
        "    recoms = get_pop_songs(d)\n",
        "    recoms = {k: v for k, v in recoms.items() if k not in d[user]}\n",
        "    return recoms"
      ]
    },
    {
      "cell_type": "code",
      "execution_count": null,
      "metadata": {
        "id": "67vwd08IS_Z5"
      },
      "outputs": [],
      "source": [
        "#данные в формате словаря\n",
        "d = dict_from_data(df)"
      ]
    },
    {
      "cell_type": "code",
      "execution_count": null,
      "metadata": {
        "colab": {
          "base_uri": "https://localhost:8080/"
        },
        "id": "Td1C4mZ-T80G",
        "outputId": "50b1d93b-4040-4bee-e019-603a82e920c9"
      },
      "outputs": [
        {
          "output_type": "execute_result",
          "data": {
            "text/plain": [
              "{'You Make Me Wanna...': 280,\n",
              " 'Be Without You - Kendu Mix': 35,\n",
              " 'This Is Gonna Be Good': 10,\n",
              " 'Quand je monte chez toi': 2,\n",
              " 'Dragon Ball GT': 1,\n",
              " 'Takhti Par Takhti': 1,\n",
              " 'The Pros Go To College': 1}"
            ]
          },
          "metadata": {},
          "execution_count": 17
        }
      ],
      "source": [
        "#самые популярные песни и кол-во их добавлений в плейлисты\n",
        "get_pop_songs(d)"
      ]
    },
    {
      "cell_type": "code",
      "execution_count": null,
      "metadata": {
        "id": "hmImF5QjUBjZ"
      },
      "outputs": [],
      "source": [
        "# проверка работы алгоритма, сравнение результатов с таблицей из EDA"
      ]
    },
    {
      "cell_type": "code",
      "execution_count": null,
      "metadata": {
        "colab": {
          "base_uri": "https://localhost:8080/",
          "height": 204
        },
        "id": "_GQgyyOxUGqA",
        "outputId": "01bd7c67-1130-4dca-d88f-2c409a9cd88e"
      },
      "outputs": [
        {
          "output_type": "execute_result",
          "data": {
            "text/plain": [
              "                   Track name  Number of Likes\n",
              "6        You Make Me Wanna...              280\n",
              "0  Be Without You - Kendu Mix               35\n",
              "5       This Is Gonna Be Good               10\n",
              "2     Quand je monte chez toi                2\n",
              "1              Dragon Ball GT                1"
            ],
            "text/html": [
              "\n",
              "  <div id=\"df-07b429dd-0595-4f37-add5-b532e2e81e85\">\n",
              "    <div class=\"colab-df-container\">\n",
              "      <div>\n",
              "<style scoped>\n",
              "    .dataframe tbody tr th:only-of-type {\n",
              "        vertical-align: middle;\n",
              "    }\n",
              "\n",
              "    .dataframe tbody tr th {\n",
              "        vertical-align: top;\n",
              "    }\n",
              "\n",
              "    .dataframe thead th {\n",
              "        text-align: right;\n",
              "    }\n",
              "</style>\n",
              "<table border=\"1\" class=\"dataframe\">\n",
              "  <thead>\n",
              "    <tr style=\"text-align: right;\">\n",
              "      <th></th>\n",
              "      <th>Track name</th>\n",
              "      <th>Number of Likes</th>\n",
              "    </tr>\n",
              "  </thead>\n",
              "  <tbody>\n",
              "    <tr>\n",
              "      <th>6</th>\n",
              "      <td>You Make Me Wanna...</td>\n",
              "      <td>280</td>\n",
              "    </tr>\n",
              "    <tr>\n",
              "      <th>0</th>\n",
              "      <td>Be Without You - Kendu Mix</td>\n",
              "      <td>35</td>\n",
              "    </tr>\n",
              "    <tr>\n",
              "      <th>5</th>\n",
              "      <td>This Is Gonna Be Good</td>\n",
              "      <td>10</td>\n",
              "    </tr>\n",
              "    <tr>\n",
              "      <th>2</th>\n",
              "      <td>Quand je monte chez toi</td>\n",
              "      <td>2</td>\n",
              "    </tr>\n",
              "    <tr>\n",
              "      <th>1</th>\n",
              "      <td>Dragon Ball GT</td>\n",
              "      <td>1</td>\n",
              "    </tr>\n",
              "  </tbody>\n",
              "</table>\n",
              "</div>\n",
              "      <button class=\"colab-df-convert\" onclick=\"convertToInteractive('df-07b429dd-0595-4f37-add5-b532e2e81e85')\"\n",
              "              title=\"Convert this dataframe to an interactive table.\"\n",
              "              style=\"display:none;\">\n",
              "        \n",
              "  <svg xmlns=\"http://www.w3.org/2000/svg\" height=\"24px\"viewBox=\"0 0 24 24\"\n",
              "       width=\"24px\">\n",
              "    <path d=\"M0 0h24v24H0V0z\" fill=\"none\"/>\n",
              "    <path d=\"M18.56 5.44l.94 2.06.94-2.06 2.06-.94-2.06-.94-.94-2.06-.94 2.06-2.06.94zm-11 1L8.5 8.5l.94-2.06 2.06-.94-2.06-.94L8.5 2.5l-.94 2.06-2.06.94zm10 10l.94 2.06.94-2.06 2.06-.94-2.06-.94-.94-2.06-.94 2.06-2.06.94z\"/><path d=\"M17.41 7.96l-1.37-1.37c-.4-.4-.92-.59-1.43-.59-.52 0-1.04.2-1.43.59L10.3 9.45l-7.72 7.72c-.78.78-.78 2.05 0 2.83L4 21.41c.39.39.9.59 1.41.59.51 0 1.02-.2 1.41-.59l7.78-7.78 2.81-2.81c.8-.78.8-2.07 0-2.86zM5.41 20L4 18.59l7.72-7.72 1.47 1.35L5.41 20z\"/>\n",
              "  </svg>\n",
              "      </button>\n",
              "      \n",
              "  <style>\n",
              "    .colab-df-container {\n",
              "      display:flex;\n",
              "      flex-wrap:wrap;\n",
              "      gap: 12px;\n",
              "    }\n",
              "\n",
              "    .colab-df-convert {\n",
              "      background-color: #E8F0FE;\n",
              "      border: none;\n",
              "      border-radius: 50%;\n",
              "      cursor: pointer;\n",
              "      display: none;\n",
              "      fill: #1967D2;\n",
              "      height: 32px;\n",
              "      padding: 0 0 0 0;\n",
              "      width: 32px;\n",
              "    }\n",
              "\n",
              "    .colab-df-convert:hover {\n",
              "      background-color: #E2EBFA;\n",
              "      box-shadow: 0px 1px 2px rgba(60, 64, 67, 0.3), 0px 1px 3px 1px rgba(60, 64, 67, 0.15);\n",
              "      fill: #174EA6;\n",
              "    }\n",
              "\n",
              "    [theme=dark] .colab-df-convert {\n",
              "      background-color: #3B4455;\n",
              "      fill: #D2E3FC;\n",
              "    }\n",
              "\n",
              "    [theme=dark] .colab-df-convert:hover {\n",
              "      background-color: #434B5C;\n",
              "      box-shadow: 0px 1px 3px 1px rgba(0, 0, 0, 0.15);\n",
              "      filter: drop-shadow(0px 1px 2px rgba(0, 0, 0, 0.3));\n",
              "      fill: #FFFFFF;\n",
              "    }\n",
              "  </style>\n",
              "\n",
              "      <script>\n",
              "        const buttonEl =\n",
              "          document.querySelector('#df-07b429dd-0595-4f37-add5-b532e2e81e85 button.colab-df-convert');\n",
              "        buttonEl.style.display =\n",
              "          google.colab.kernel.accessAllowed ? 'block' : 'none';\n",
              "\n",
              "        async function convertToInteractive(key) {\n",
              "          const element = document.querySelector('#df-07b429dd-0595-4f37-add5-b532e2e81e85');\n",
              "          const dataTable =\n",
              "            await google.colab.kernel.invokeFunction('convertToInteractive',\n",
              "                                                     [key], {});\n",
              "          if (!dataTable) return;\n",
              "\n",
              "          const docLinkHtml = 'Like what you see? Visit the ' +\n",
              "            '<a target=\"_blank\" href=https://colab.research.google.com/notebooks/data_table.ipynb>data table notebook</a>'\n",
              "            + ' to learn more about interactive tables.';\n",
              "          element.innerHTML = '';\n",
              "          dataTable['output_type'] = 'display_data';\n",
              "          await google.colab.output.renderOutput(dataTable, element);\n",
              "          const docLink = document.createElement('div');\n",
              "          docLink.innerHTML = docLinkHtml;\n",
              "          element.appendChild(docLink);\n",
              "        }\n",
              "      </script>\n",
              "    </div>\n",
              "  </div>\n",
              "  "
            ]
          },
          "metadata": {},
          "execution_count": 20
        }
      ],
      "source": [
        "# количество 'лайков' у каждого трека\n",
        "likes_counts = df.groupby('track_name')['user_id'].nunique()\n",
        "\n",
        "likes_counts_table = pd.DataFrame({'Track name': likes_counts.index, \n",
        "                                      'Number of Likes': likes_counts.values})\n",
        "likes_counts_table = likes_counts_table.sort_values('Number of Likes', ascending=False)\n",
        "\n",
        "likes_counts_table.head()"
      ]
    },
    {
      "cell_type": "code",
      "execution_count": null,
      "metadata": {
        "colab": {
          "base_uri": "https://localhost:8080/"
        },
        "id": "_s4Zcz9NTU_4",
        "outputId": "2834a99f-66f7-4dfc-f568-a2059567c05b"
      },
      "outputs": [
        {
          "output_type": "execute_result",
          "data": {
            "text/plain": [
              "{'You Make Me Wanna...': 280,\n",
              " 'Be Without You - Kendu Mix': 35,\n",
              " 'This Is Gonna Be Good': 10,\n",
              " 'Dragon Ball GT': 1,\n",
              " 'Takhti Par Takhti': 1,\n",
              " 'The Pros Go To College': 1}"
            ]
          },
          "metadata": {},
          "execution_count": 19
        }
      ],
      "source": [
        "#рекомендация для конкретного user_id \n",
        "top_pop_recommender(d, 'e897138cc060faf75a4a3d56c6ce2af1')"
      ]
    },
    {
      "cell_type": "markdown",
      "metadata": {
        "id": "sB81HXl2UyEx"
      },
      "source": [
        "## Content (Item) Based Cosine Similarity"
      ]
    },
    {
      "cell_type": "code",
      "execution_count": null,
      "metadata": {
        "id": "IM3XgBG1adTj"
      },
      "outputs": [],
      "source": [
        "df = data.sample(100000)\n",
        "df.reset_index(drop= True , inplace= True )"
      ]
    },
    {
      "cell_type": "code",
      "source": [
        "df.drop_duplicates(subset=['track_name'], keep='first', inplace=True)"
      ],
      "metadata": {
        "id": "gFlVh5tNtXkK"
      },
      "execution_count": null,
      "outputs": []
    },
    {
      "cell_type": "code",
      "execution_count": null,
      "metadata": {
        "id": "7lrZJz0rafWs"
      },
      "outputs": [],
      "source": [
        "#кодируем категориальные столбцы key, mode, time_signature\n",
        "list_of_keys = df['key'].unique()\n",
        "for i in range(len(list_of_keys)):\n",
        "  df.loc[df.key == list_of_keys[i], 'key'] = i\n",
        "\n",
        "df.loc[df['mode']== 'Major', 'mode'] = 1\n",
        "df.loc[df['mode']== 'Minor', 'mode'] = 0\n",
        "\n",
        "list_of_time_signatures = df['time_signature'].unique()\n",
        "for i in range(len(list_of_time_signatures)):\n",
        "  df.loc[df['time_signature'] == list_of_time_signatures[i], 'time_signature'] = i"
      ]
    },
    {
      "cell_type": "code",
      "execution_count": null,
      "metadata": {
        "id": "-xTeybIAahvh",
        "colab": {
          "base_uri": "https://localhost:8080/"
        },
        "outputId": "5890b59a-0f2b-48dc-85f0-09f7b4a761d9"
      },
      "outputs": [
        {
          "output_type": "stream",
          "name": "stdout",
          "text": [
            "[[4.32430283e-04 4.23655914e-01 3.52634181e-02 9.85982296e-01\n",
            "  5.43259557e-05 0.00000000e+00 2.86951207e-01 8.98197729e-01\n",
            "  1.00000000e+00 4.43381180e-02 7.02562640e-01 0.00000000e+00\n",
            "  8.16986855e-01]\n",
            " [5.58232355e-01 4.12903226e-01 4.90180263e-02 2.12004762e-01\n",
            "  5.55331992e-06 9.09090909e-02 4.43108893e-02 7.05115116e-01\n",
            "  1.00000000e+00 6.59223817e-03 1.66641553e-01 0.00000000e+00\n",
            "  1.25379171e-01]]\n"
          ]
        }
      ],
      "source": [
        "feature_cols=['acousticness', 'danceability', 'duration_ms', 'energy',\n",
        "              'instrumentalness', 'key', 'liveness', 'loudness', 'mode',\n",
        "              'speechiness', 'tempo', 'time_signature', 'valence',]\n",
        "\n",
        "from sklearn.preprocessing import MinMaxScaler\n",
        "scaler = MinMaxScaler()\n",
        "normalized_df =scaler.fit_transform(df[feature_cols])\n",
        "\n",
        "print(normalized_df[:2])"
      ]
    },
    {
      "cell_type": "code",
      "execution_count": null,
      "metadata": {
        "id": "b4uuSfGmakSF"
      },
      "outputs": [],
      "source": [
        "indices = pd.Series(df.index, index=df['track_name']).drop_duplicates()\n",
        "\n",
        "cosine = cosine_similarity(normalized_df)"
      ]
    },
    {
      "cell_type": "code",
      "execution_count": null,
      "metadata": {
        "id": "B6vOg74_amc5"
      },
      "outputs": [],
      "source": [
        "def generate_recommendation(track_name, model_type=cosine):\n",
        "    \"\"\"\n",
        "    Purpose: Function for song recommendations \n",
        "    Inputs: song title and type of similarity model\n",
        "    Output: Pandas series of recommended songs\n",
        "    \"\"\"\n",
        "    \n",
        "    idx=indices[track_name]\n",
        "\n",
        "    sim_scores=list(enumerate(model_type[idx]))\n",
        "\n",
        "    sim_scores = sorted(sim_scores, key = lambda x: x[1], reverse = True)\n",
        "\n",
        "    sim_scores = sim_scores[1:11]\n",
        "\n",
        "    songs_indices = [i[0] for i in sim_scores]\n",
        "  \n",
        "    return df['track_name'].iloc[songs_indices]"
      ]
    },
    {
      "cell_type": "code",
      "execution_count": null,
      "metadata": {
        "id": "Qa6fTMzaapEH",
        "colab": {
          "base_uri": "https://localhost:8080/"
        },
        "outputId": "c2954bc7-763d-4ac9-a99f-27ef149ccb3f"
      },
      "outputs": [
        {
          "output_type": "execute_result",
          "data": {
            "text/plain": [
              "99398    Showbiz? Science? Who Cares?\n",
              "16893              Personality Crisis\n",
              "1942                          Working\n",
              "10537                 Railroad of Sin\n",
              "399                      Mr. November\n",
              "5423                        Australia\n",
              "48633                      Olympia WA\n",
              "64379           The General's Boombox\n",
              "18925    Mersey Paradise - Remastered\n",
              "53565                  This Afternoon\n",
              "Name: track_name, dtype: object"
            ]
          },
          "metadata": {},
          "execution_count": 49
        }
      ],
      "source": [
        "generate_recommendation('Tell Them Told You So', cosine)"
      ]
    },
    {
      "cell_type": "markdown",
      "metadata": {
        "id": "IWG37nVIarsC"
      },
      "source": [
        "## User-similarity"
      ]
    },
    {
      "cell_type": "code",
      "source": [
        "df = data[:1000]"
      ],
      "metadata": {
        "id": "0G-qaJO3xSjx"
      },
      "execution_count": null,
      "outputs": []
    },
    {
      "cell_type": "code",
      "source": [
        "df.playlistname = 1"
      ],
      "metadata": {
        "id": "gLIfXT3Cxiem"
      },
      "execution_count": null,
      "outputs": []
    },
    {
      "cell_type": "markdown",
      "source": [
        "пользователь одну и ту же песню добавляет в разные плейлисты, можно учитывать это как взвешенный рейтинг"
      ],
      "metadata": {
        "id": "uLNzTzPm0wbR"
      }
    },
    {
      "cell_type": "code",
      "source": [
        "def smooth_user_preference(x):\n",
        "    return math.log(1+x, 2)\n",
        "    \n",
        "interactions_full_df = (\n",
        "    df\n",
        "    .groupby(['user_id', 'track_name']).playlistname.sum()\n",
        "    .apply(smooth_user_preference)\n",
        "    .reset_index().set_index(['user_id', 'track_name'])\n",
        ")\n",
        "        \n",
        "df = interactions_full_df.reset_index()\n",
        "df.sample(5)"
      ],
      "metadata": {
        "colab": {
          "base_uri": "https://localhost:8080/",
          "height": 204
        },
        "id": "4Gv9wqEpw949",
        "outputId": "e0814826-04ac-4bae-f724-8447e3d6d079"
      },
      "execution_count": null,
      "outputs": [
        {
          "output_type": "execute_result",
          "data": {
            "text/plain": [
              "                              user_id                  track_name  \\\n",
              "236  bf10a7712521cb03838b648e11a13ac2  Be Without You - Kendu Mix   \n",
              "182  95e58219ed964f79ca4eb2069aa1ee25        You Make Me Wanna...   \n",
              "74   3f0de935758bb29145611c83acc2786b        You Make Me Wanna...   \n",
              "121  62dc432e726e3723e30bda229f57366f        You Make Me Wanna...   \n",
              "114  5978d1bacdd18ee9d9e9a5b2dd4f42e7        You Make Me Wanna...   \n",
              "\n",
              "     playlistname  \n",
              "236         2.585  \n",
              "182         2.000  \n",
              "74          1.585  \n",
              "121         1.585  \n",
              "114         1.585  "
            ],
            "text/html": [
              "\n",
              "  <div id=\"df-5a409dd0-c14e-44ef-817e-c0dc1cd946cb\">\n",
              "    <div class=\"colab-df-container\">\n",
              "      <div>\n",
              "<style scoped>\n",
              "    .dataframe tbody tr th:only-of-type {\n",
              "        vertical-align: middle;\n",
              "    }\n",
              "\n",
              "    .dataframe tbody tr th {\n",
              "        vertical-align: top;\n",
              "    }\n",
              "\n",
              "    .dataframe thead th {\n",
              "        text-align: right;\n",
              "    }\n",
              "</style>\n",
              "<table border=\"1\" class=\"dataframe\">\n",
              "  <thead>\n",
              "    <tr style=\"text-align: right;\">\n",
              "      <th></th>\n",
              "      <th>user_id</th>\n",
              "      <th>track_name</th>\n",
              "      <th>playlistname</th>\n",
              "    </tr>\n",
              "  </thead>\n",
              "  <tbody>\n",
              "    <tr>\n",
              "      <th>236</th>\n",
              "      <td>bf10a7712521cb03838b648e11a13ac2</td>\n",
              "      <td>Be Without You - Kendu Mix</td>\n",
              "      <td>2.585</td>\n",
              "    </tr>\n",
              "    <tr>\n",
              "      <th>182</th>\n",
              "      <td>95e58219ed964f79ca4eb2069aa1ee25</td>\n",
              "      <td>You Make Me Wanna...</td>\n",
              "      <td>2.000</td>\n",
              "    </tr>\n",
              "    <tr>\n",
              "      <th>74</th>\n",
              "      <td>3f0de935758bb29145611c83acc2786b</td>\n",
              "      <td>You Make Me Wanna...</td>\n",
              "      <td>1.585</td>\n",
              "    </tr>\n",
              "    <tr>\n",
              "      <th>121</th>\n",
              "      <td>62dc432e726e3723e30bda229f57366f</td>\n",
              "      <td>You Make Me Wanna...</td>\n",
              "      <td>1.585</td>\n",
              "    </tr>\n",
              "    <tr>\n",
              "      <th>114</th>\n",
              "      <td>5978d1bacdd18ee9d9e9a5b2dd4f42e7</td>\n",
              "      <td>You Make Me Wanna...</td>\n",
              "      <td>1.585</td>\n",
              "    </tr>\n",
              "  </tbody>\n",
              "</table>\n",
              "</div>\n",
              "      <button class=\"colab-df-convert\" onclick=\"convertToInteractive('df-5a409dd0-c14e-44ef-817e-c0dc1cd946cb')\"\n",
              "              title=\"Convert this dataframe to an interactive table.\"\n",
              "              style=\"display:none;\">\n",
              "        \n",
              "  <svg xmlns=\"http://www.w3.org/2000/svg\" height=\"24px\"viewBox=\"0 0 24 24\"\n",
              "       width=\"24px\">\n",
              "    <path d=\"M0 0h24v24H0V0z\" fill=\"none\"/>\n",
              "    <path d=\"M18.56 5.44l.94 2.06.94-2.06 2.06-.94-2.06-.94-.94-2.06-.94 2.06-2.06.94zm-11 1L8.5 8.5l.94-2.06 2.06-.94-2.06-.94L8.5 2.5l-.94 2.06-2.06.94zm10 10l.94 2.06.94-2.06 2.06-.94-2.06-.94-.94-2.06-.94 2.06-2.06.94z\"/><path d=\"M17.41 7.96l-1.37-1.37c-.4-.4-.92-.59-1.43-.59-.52 0-1.04.2-1.43.59L10.3 9.45l-7.72 7.72c-.78.78-.78 2.05 0 2.83L4 21.41c.39.39.9.59 1.41.59.51 0 1.02-.2 1.41-.59l7.78-7.78 2.81-2.81c.8-.78.8-2.07 0-2.86zM5.41 20L4 18.59l7.72-7.72 1.47 1.35L5.41 20z\"/>\n",
              "  </svg>\n",
              "      </button>\n",
              "      \n",
              "  <style>\n",
              "    .colab-df-container {\n",
              "      display:flex;\n",
              "      flex-wrap:wrap;\n",
              "      gap: 12px;\n",
              "    }\n",
              "\n",
              "    .colab-df-convert {\n",
              "      background-color: #E8F0FE;\n",
              "      border: none;\n",
              "      border-radius: 50%;\n",
              "      cursor: pointer;\n",
              "      display: none;\n",
              "      fill: #1967D2;\n",
              "      height: 32px;\n",
              "      padding: 0 0 0 0;\n",
              "      width: 32px;\n",
              "    }\n",
              "\n",
              "    .colab-df-convert:hover {\n",
              "      background-color: #E2EBFA;\n",
              "      box-shadow: 0px 1px 2px rgba(60, 64, 67, 0.3), 0px 1px 3px 1px rgba(60, 64, 67, 0.15);\n",
              "      fill: #174EA6;\n",
              "    }\n",
              "\n",
              "    [theme=dark] .colab-df-convert {\n",
              "      background-color: #3B4455;\n",
              "      fill: #D2E3FC;\n",
              "    }\n",
              "\n",
              "    [theme=dark] .colab-df-convert:hover {\n",
              "      background-color: #434B5C;\n",
              "      box-shadow: 0px 1px 3px 1px rgba(0, 0, 0, 0.15);\n",
              "      filter: drop-shadow(0px 1px 2px rgba(0, 0, 0, 0.3));\n",
              "      fill: #FFFFFF;\n",
              "    }\n",
              "  </style>\n",
              "\n",
              "      <script>\n",
              "        const buttonEl =\n",
              "          document.querySelector('#df-5a409dd0-c14e-44ef-817e-c0dc1cd946cb button.colab-df-convert');\n",
              "        buttonEl.style.display =\n",
              "          google.colab.kernel.accessAllowed ? 'block' : 'none';\n",
              "\n",
              "        async function convertToInteractive(key) {\n",
              "          const element = document.querySelector('#df-5a409dd0-c14e-44ef-817e-c0dc1cd946cb');\n",
              "          const dataTable =\n",
              "            await google.colab.kernel.invokeFunction('convertToInteractive',\n",
              "                                                     [key], {});\n",
              "          if (!dataTable) return;\n",
              "\n",
              "          const docLinkHtml = 'Like what you see? Visit the ' +\n",
              "            '<a target=\"_blank\" href=https://colab.research.google.com/notebooks/data_table.ipynb>data table notebook</a>'\n",
              "            + ' to learn more about interactive tables.';\n",
              "          element.innerHTML = '';\n",
              "          dataTable['output_type'] = 'display_data';\n",
              "          await google.colab.output.renderOutput(dataTable, element);\n",
              "          const docLink = document.createElement('div');\n",
              "          docLink.innerHTML = docLinkHtml;\n",
              "          element.appendChild(docLink);\n",
              "        }\n",
              "      </script>\n",
              "    </div>\n",
              "  </div>\n",
              "  "
            ]
          },
          "metadata": {},
          "execution_count": 60
        }
      ]
    },
    {
      "cell_type": "code",
      "source": [
        "d = {}\n",
        "for i in df['user_id'].unique():\n",
        "    d[i] = {df['track_name'][j]: df['playlistname'][j] for j in df[df['user_id']==i].index}"
      ],
      "metadata": {
        "id": "3tBv3ih-vg6R"
      },
      "execution_count": null,
      "outputs": []
    },
    {
      "cell_type": "code",
      "source": [
        "def sim_distance(d, person1, person2):\n",
        "    sum_of_squares = sum([(d[person1][item] - d[person2][item])**2\n",
        "                         for item in d[person1] if item in d[person2]])\n",
        "    return 1/(1 + np.sqrt(sum_of_squares))"
      ],
      "metadata": {
        "id": "qs-Qxq2Hwn7_"
      },
      "execution_count": null,
      "outputs": []
    },
    {
      "cell_type": "code",
      "source": [
        "#схожесть двух пользователей\n",
        "sim_distance(d,'3d0f759337e6aa576c75ecd3fbf14968','de05035bb2bba86bd702c3d54fc97e91')"
      ],
      "metadata": {
        "colab": {
          "base_uri": "https://localhost:8080/"
        },
        "id": "vySz99Ufyku9",
        "outputId": "69c908cb-3003-49ee-9d62-7d4d9f49dd08"
      },
      "execution_count": null,
      "outputs": [
        {
          "output_type": "execute_result",
          "data": {
            "text/plain": [
              "0.7066950526114237"
            ]
          },
          "metadata": {},
          "execution_count": 72
        }
      ]
    },
    {
      "cell_type": "markdown",
      "source": [
        "Сортировка пользователей на основе схожести"
      ],
      "metadata": {
        "id": "7UjQ5LYyziic"
      }
    },
    {
      "cell_type": "code",
      "source": [
        "def sort_users(d, person, n=5, similarity=sim_distance):\n",
        "    scores = [(other, round(similarity(d, person, other),2)) for other in d if other != person]\n",
        "    scores = sorted(scores, key=lambda x: x[1], reverse=True)\n",
        "    return scores[:n]"
      ],
      "metadata": {
        "id": "KwpR3z4izeU3"
      },
      "execution_count": null,
      "outputs": []
    },
    {
      "cell_type": "code",
      "source": [
        "sort_users(d,'3d0f759337e6aa576c75ecd3fbf14968', n=5)"
      ],
      "metadata": {
        "colab": {
          "base_uri": "https://localhost:8080/"
        },
        "id": "ownorrWOzmuY",
        "outputId": "ed5d15ea-e5a4-4320-c7e6-cba07ed3dc22"
      },
      "execution_count": null,
      "outputs": [
        {
          "output_type": "execute_result",
          "data": {
            "text/plain": [
              "[('00139e9cb50fb309549e1561b476226d', 1.0),\n",
              " ('014e695cc6df96011b90a5beb3206012', 1.0),\n",
              " ('01f9ad79c28415ac443eb7171e960381', 1.0),\n",
              " ('022c5c5e265cccedfeabae8299025c01', 1.0),\n",
              " ('030f98e11417305fab4c4e0d26274c63', 1.0)]"
            ]
          },
          "metadata": {},
          "execution_count": 85
        }
      ]
    },
    {
      "cell_type": "markdown",
      "source": [
        "Рекомендации для схожих пользователей"
      ],
      "metadata": {
        "id": "9GDgqSol0DxQ"
      }
    },
    {
      "cell_type": "code",
      "source": [
        "def get_recoms_by_users(prefs, person, similarity=sim_distance):\n",
        "    totals = {}\n",
        "    sim_sums = {}\n",
        "    for other in prefs:\n",
        "        if other == person:\n",
        "            continue\n",
        "        sim = similarity(prefs, person, other)\n",
        "        if sim <= 0:\n",
        "            continue\n",
        "        for item in prefs[other]:\n",
        "            if item not in prefs[person] or prefs[person][item] == 0:\n",
        "                totals.setdefault(item, 0)\n",
        "                totals[item] += prefs[other][item]*sim\n",
        "                sim_sums.setdefault(item, 0)\n",
        "                sim_sums[item] += sim\n",
        "\n",
        "    rankings = [(item, round(total/sim_sums[item], 2)) for item, total in totals.items()]\n",
        "    rankings = sorted(rankings, key=lambda x: x[1], reverse=True)\n",
        "    \n",
        "    return rankings"
      ],
      "metadata": {
        "id": "gUU2lBCWz80I"
      },
      "execution_count": null,
      "outputs": []
    },
    {
      "cell_type": "code",
      "source": [
        "get_recoms_by_users(d, '3d0f759337e6aa576c75ecd3fbf14968', sim_distance)"
      ],
      "metadata": {
        "colab": {
          "base_uri": "https://localhost:8080/"
        },
        "id": "RJb5WofR0OLC",
        "outputId": "b25d11f4-3b23-48ee-dd85-22a9a742bb23"
      },
      "execution_count": null,
      "outputs": [
        {
          "output_type": "execute_result",
          "data": {
            "text/plain": [
              "[('Be Without You - Kendu Mix', 2.66),\n",
              " ('The Pros Go To College', 1.0),\n",
              " ('This Is Gonna Be Good', 1.0),\n",
              " ('Dragon Ball GT', 1.0),\n",
              " ('Takhti Par Takhti', 1.0),\n",
              " ('Quand je monte chez toi', 1.0)]"
            ]
          },
          "metadata": {},
          "execution_count": 87
        }
      ]
    },
    {
      "cell_type": "markdown",
      "metadata": {
        "id": "a_aQ3qtMdxGv"
      },
      "source": [
        "## Коллаборативная фильтрация (memory based)"
      ]
    },
    {
      "cell_type": "code",
      "source": [
        "#срез из небольшого количества данных для тестирования алгоритма\n",
        "df = data[:200000]"
      ],
      "metadata": {
        "id": "QmpszaiJ5AeD"
      },
      "execution_count": null,
      "outputs": []
    },
    {
      "cell_type": "code",
      "source": [
        "#количество уникальных пользователей в срезе\n",
        "len(df.user_id.unique())"
      ],
      "metadata": {
        "colab": {
          "base_uri": "https://localhost:8080/"
        },
        "id": "9GKuy4kj6xEI",
        "outputId": "7ae55e85-1e08-49c4-b04b-07e075514e13"
      },
      "execution_count": null,
      "outputs": [
        {
          "output_type": "execute_result",
          "data": {
            "text/plain": [
              "8596"
            ]
          },
          "metadata": {},
          "execution_count": 97
        }
      ]
    },
    {
      "cell_type": "code",
      "source": [
        "#количество уникальных треков в срезе\n",
        "len(df.track_name.unique())"
      ],
      "metadata": {
        "colab": {
          "base_uri": "https://localhost:8080/"
        },
        "id": "MGbdA7Ww6xnA",
        "outputId": "ddd99cab-8f68-46d8-99e2-e4a8f78af8bf"
      },
      "execution_count": null,
      "outputs": [
        {
          "output_type": "execute_result",
          "data": {
            "text/plain": [
              "363"
            ]
          },
          "metadata": {},
          "execution_count": 98
        }
      ]
    },
    {
      "cell_type": "code",
      "source": [
        "df.drop(labels = ['genre', 'artist_name', 'track_id', 'popularity',\n",
        "       'acousticness', 'danceability', 'duration_ms', 'energy',\n",
        "       'instrumentalness', 'key', 'liveness', 'loudness', 'mode',\n",
        "       'speechiness', 'tempo', 'time_signature', 'valence'], axis = 1, inplace = True)"
      ],
      "metadata": {
        "id": "Y26i1m2f5ubp"
      },
      "execution_count": null,
      "outputs": []
    },
    {
      "cell_type": "code",
      "source": [
        "df.playlistname = 1"
      ],
      "metadata": {
        "id": "7dhwcPDA6O1j"
      },
      "execution_count": null,
      "outputs": []
    },
    {
      "cell_type": "code",
      "source": [
        "#решение проблемы холодного старта, пользователи с 5 и более треками в плейлисте\n",
        "users_interactions_count_df = (\n",
        "    df\n",
        "    .groupby(['user_id', 'track_name'])\n",
        "    .first()\n",
        "    .reset_index()\n",
        "    .groupby('user_id').size())\n",
        "print('# users:', len(users_interactions_count_df))\n",
        "\n",
        "users_with_enough_interactions_df = \\\n",
        "    users_interactions_count_df[users_interactions_count_df >= 5].reset_index()[['user_id']]\n",
        "print('# users with at least 5 interactions:',len(users_with_enough_interactions_df))"
      ],
      "metadata": {
        "colab": {
          "base_uri": "https://localhost:8080/"
        },
        "id": "q4_wezC-7D11",
        "outputId": "37272168-a8d3-4966-b1ce-b2773e2473fb"
      },
      "execution_count": null,
      "outputs": [
        {
          "output_type": "stream",
          "name": "stdout",
          "text": [
            "# users: 8596\n",
            "# users with at least 5 interactions: 3013\n"
          ]
        }
      ]
    },
    {
      "cell_type": "code",
      "source": [
        "users_interactions_count_df.hist(bins=30)"
      ],
      "metadata": {
        "colab": {
          "base_uri": "https://localhost:8080/",
          "height": 283
        },
        "id": "PEjcezVm7zll",
        "outputId": "fd7e6d01-0590-4fde-b1b1-99b9fb7f4604"
      },
      "execution_count": null,
      "outputs": [
        {
          "output_type": "execute_result",
          "data": {
            "text/plain": [
              "<AxesSubplot:>"
            ]
          },
          "metadata": {},
          "execution_count": 102
        },
        {
          "output_type": "display_data",
          "data": {
            "text/plain": [
              "<Figure size 432x288 with 1 Axes>"
            ],
            "image/png": "[encoded data removed]"
          },
          "metadata": {
            "needs_background": "light"
          }
        }
      ]
    },
    {
      "cell_type": "code",
      "source": [
        "interactions_from_selected_users_df = df.loc[np.in1d(df.user_id,\n",
        "            users_with_enough_interactions_df)]"
      ],
      "metadata": {
        "id": "wDoO3RrB8DEM"
      },
      "execution_count": null,
      "outputs": []
    },
    {
      "cell_type": "markdown",
      "source": [
        "Оставим только те взаимодействия, которые касаются только отфильтрованных пользователей."
      ],
      "metadata": {
        "id": "KEYxKcoH9CEW"
      }
    },
    {
      "cell_type": "code",
      "source": [
        "print('# shape of dataset before:', df.shape)\n",
        "print('# shape of dataset after:', interactions_from_selected_users_df.shape)"
      ],
      "metadata": {
        "colab": {
          "base_uri": "https://localhost:8080/"
        },
        "id": "mSDmlydQ8S-S",
        "outputId": "c1a3aea3-42c7-4d82-e2d0-aab060aab740"
      },
      "execution_count": null,
      "outputs": [
        {
          "output_type": "stream",
          "name": "stdout",
          "text": [
            "# shape of dataset before: (200000, 3)\n",
            "# shape of dataset after: (149316, 3)\n"
          ]
        }
      ]
    },
    {
      "cell_type": "markdown",
      "source": [
        "пользователь одну и ту же песню добавляет в разные плейлисты, можно учитывать это как взвешенный рейтинг "
      ],
      "metadata": {
        "id": "yMpGlVnyAzZt"
      }
    },
    {
      "cell_type": "code",
      "source": [
        "def smooth_user_preference(x):\n",
        "    return math.log(1+x, 2)\n",
        "    \n",
        "interactions_full_df = (\n",
        "    interactions_from_selected_users_df\n",
        "    .groupby(['user_id', 'track_name']).playlistname.sum()\n",
        "    .apply(smooth_user_preference)\n",
        "    .reset_index().set_index(['user_id', 'track_name'])\n",
        ")\n",
        "\n",
        "        \n",
        "interactions_full_df = interactions_full_df.reset_index()\n",
        "interactions_full_df.head(20)"
      ],
      "metadata": {
        "colab": {
          "base_uri": "https://localhost:8080/",
          "height": 669
        },
        "id": "79qM-35p9DIb",
        "outputId": "cb339b5d-3bb1-4c2e-843c-26a71553ef0d"
      },
      "execution_count": null,
      "outputs": [
        {
          "output_type": "execute_result",
          "data": {
            "text/plain": [
              "                             user_id                             track_name  \\\n",
              "0   001c4e5b73eca68ee9756bb0c7d2f855                 Beneath Your Beautiful   \n",
              "1   001c4e5b73eca68ee9756bb0c7d2f855                        Californication   \n",
              "2   001c4e5b73eca68ee9756bb0c7d2f855                                   Iris   \n",
              "3   001c4e5b73eca68ee9756bb0c7d2f855                     Losing My Religion   \n",
              "4   001c4e5b73eca68ee9756bb0c7d2f855                                   Numb   \n",
              "5   001c4e5b73eca68ee9756bb0c7d2f855                            Stacy's Mom   \n",
              "6   001c4e5b73eca68ee9756bb0c7d2f855                             The Anthem   \n",
              "7   00287ecf491882a40ff34b0fd75a5b16                               All Star   \n",
              "8   00287ecf491882a40ff34b0fd75a5b16                            Black Widow   \n",
              "9   00287ecf491882a40ff34b0fd75a5b16                       Bring Me To Life   \n",
              "10  00287ecf491882a40ff34b0fd75a5b16                                  Creep   \n",
              "11  00287ecf491882a40ff34b0fd75a5b16  Dancing in the Moonlight - 2001 Remix   \n",
              "12  00287ecf491882a40ff34b0fd75a5b16                      How You Remind Me   \n",
              "13  00287ecf491882a40ff34b0fd75a5b16                            Last Resort   \n",
              "14  00287ecf491882a40ff34b0fd75a5b16                     My Own Worst Enemy   \n",
              "15  00287ecf491882a40ff34b0fd75a5b16                            Stacy's Mom   \n",
              "16  00526df8fabfb8c8605f180ed1880754                            Black Widow   \n",
              "17  00526df8fabfb8c8605f180ed1880754                                Duality   \n",
              "18  00526df8fabfb8c8605f180ed1880754                                It Girl   \n",
              "19  00526df8fabfb8c8605f180ed1880754                    Killing In The Name   \n",
              "\n",
              "    playlistname  \n",
              "0          2.322  \n",
              "1          2.000  \n",
              "2          2.322  \n",
              "3          2.322  \n",
              "4          2.000  \n",
              "5          2.322  \n",
              "6          2.000  \n",
              "7          2.322  \n",
              "8          2.585  \n",
              "9          1.585  \n",
              "10         2.585  \n",
              "11         2.000  \n",
              "12         1.585  \n",
              "13         2.585  \n",
              "14         2.322  \n",
              "15         2.322  \n",
              "16         3.459  \n",
              "17         2.000  \n",
              "18         2.585  \n",
              "19         3.459  "
            ],
            "text/html": [
              "\n",
              "  <div id=\"df-a25531d8-ad34-4c42-9a76-1900029d56c8\">\n",
              "    <div class=\"colab-df-container\">\n",
              "      <div>\n",
              "<style scoped>\n",
              "    .dataframe tbody tr th:only-of-type {\n",
              "        vertical-align: middle;\n",
              "    }\n",
              "\n",
              "    .dataframe tbody tr th {\n",
              "        vertical-align: top;\n",
              "    }\n",
              "\n",
              "    .dataframe thead th {\n",
              "        text-align: right;\n",
              "    }\n",
              "</style>\n",
              "<table border=\"1\" class=\"dataframe\">\n",
              "  <thead>\n",
              "    <tr style=\"text-align: right;\">\n",
              "      <th></th>\n",
              "      <th>user_id</th>\n",
              "      <th>track_name</th>\n",
              "      <th>playlistname</th>\n",
              "    </tr>\n",
              "  </thead>\n",
              "  <tbody>\n",
              "    <tr>\n",
              "      <th>0</th>\n",
              "      <td>001c4e5b73eca68ee9756bb0c7d2f855</td>\n",
              "      <td>Beneath Your Beautiful</td>\n",
              "      <td>2.322</td>\n",
              "    </tr>\n",
              "    <tr>\n",
              "      <th>1</th>\n",
              "      <td>001c4e5b73eca68ee9756bb0c7d2f855</td>\n",
              "      <td>Californication</td>\n",
              "      <td>2.000</td>\n",
              "    </tr>\n",
              "    <tr>\n",
              "      <th>2</th>\n",
              "      <td>001c4e5b73eca68ee9756bb0c7d2f855</td>\n",
              "      <td>Iris</td>\n",
              "      <td>2.322</td>\n",
              "    </tr>\n",
              "    <tr>\n",
              "      <th>3</th>\n",
              "      <td>001c4e5b73eca68ee9756bb0c7d2f855</td>\n",
              "      <td>Losing My Religion</td>\n",
              "      <td>2.322</td>\n",
              "    </tr>\n",
              "    <tr>\n",
              "      <th>4</th>\n",
              "      <td>001c4e5b73eca68ee9756bb0c7d2f855</td>\n",
              "      <td>Numb</td>\n",
              "      <td>2.000</td>\n",
              "    </tr>\n",
              "    <tr>\n",
              "      <th>5</th>\n",
              "      <td>001c4e5b73eca68ee9756bb0c7d2f855</td>\n",
              "      <td>Stacy's Mom</td>\n",
              "      <td>2.322</td>\n",
              "    </tr>\n",
              "    <tr>\n",
              "      <th>6</th>\n",
              "      <td>001c4e5b73eca68ee9756bb0c7d2f855</td>\n",
              "      <td>The Anthem</td>\n",
              "      <td>2.000</td>\n",
              "    </tr>\n",
              "    <tr>\n",
              "      <th>7</th>\n",
              "      <td>00287ecf491882a40ff34b0fd75a5b16</td>\n",
              "      <td>All Star</td>\n",
              "      <td>2.322</td>\n",
              "    </tr>\n",
              "    <tr>\n",
              "      <th>8</th>\n",
              "      <td>00287ecf491882a40ff34b0fd75a5b16</td>\n",
              "      <td>Black Widow</td>\n",
              "      <td>2.585</td>\n",
              "    </tr>\n",
              "    <tr>\n",
              "      <th>9</th>\n",
              "      <td>00287ecf491882a40ff34b0fd75a5b16</td>\n",
              "      <td>Bring Me To Life</td>\n",
              "      <td>1.585</td>\n",
              "    </tr>\n",
              "    <tr>\n",
              "      <th>10</th>\n",
              "      <td>00287ecf491882a40ff34b0fd75a5b16</td>\n",
              "      <td>Creep</td>\n",
              "      <td>2.585</td>\n",
              "    </tr>\n",
              "    <tr>\n",
              "      <th>11</th>\n",
              "      <td>00287ecf491882a40ff34b0fd75a5b16</td>\n",
              "      <td>Dancing in the Moonlight - 2001 Remix</td>\n",
              "      <td>2.000</td>\n",
              "    </tr>\n",
              "    <tr>\n",
              "      <th>12</th>\n",
              "      <td>00287ecf491882a40ff34b0fd75a5b16</td>\n",
              "      <td>How You Remind Me</td>\n",
              "      <td>1.585</td>\n",
              "    </tr>\n",
              "    <tr>\n",
              "      <th>13</th>\n",
              "      <td>00287ecf491882a40ff34b0fd75a5b16</td>\n",
              "      <td>Last Resort</td>\n",
              "      <td>2.585</td>\n",
              "    </tr>\n",
              "    <tr>\n",
              "      <th>14</th>\n",
              "      <td>00287ecf491882a40ff34b0fd75a5b16</td>\n",
              "      <td>My Own Worst Enemy</td>\n",
              "      <td>2.322</td>\n",
              "    </tr>\n",
              "    <tr>\n",
              "      <th>15</th>\n",
              "      <td>00287ecf491882a40ff34b0fd75a5b16</td>\n",
              "      <td>Stacy's Mom</td>\n",
              "      <td>2.322</td>\n",
              "    </tr>\n",
              "    <tr>\n",
              "      <th>16</th>\n",
              "      <td>00526df8fabfb8c8605f180ed1880754</td>\n",
              "      <td>Black Widow</td>\n",
              "      <td>3.459</td>\n",
              "    </tr>\n",
              "    <tr>\n",
              "      <th>17</th>\n",
              "      <td>00526df8fabfb8c8605f180ed1880754</td>\n",
              "      <td>Duality</td>\n",
              "      <td>2.000</td>\n",
              "    </tr>\n",
              "    <tr>\n",
              "      <th>18</th>\n",
              "      <td>00526df8fabfb8c8605f180ed1880754</td>\n",
              "      <td>It Girl</td>\n",
              "      <td>2.585</td>\n",
              "    </tr>\n",
              "    <tr>\n",
              "      <th>19</th>\n",
              "      <td>00526df8fabfb8c8605f180ed1880754</td>\n",
              "      <td>Killing In The Name</td>\n",
              "      <td>3.459</td>\n",
              "    </tr>\n",
              "  </tbody>\n",
              "</table>\n",
              "</div>\n",
              "      <button class=\"colab-df-convert\" onclick=\"convertToInteractive('df-a25531d8-ad34-4c42-9a76-1900029d56c8')\"\n",
              "              title=\"Convert this dataframe to an interactive table.\"\n",
              "              style=\"display:none;\">\n",
              "        \n",
              "  <svg xmlns=\"http://www.w3.org/2000/svg\" height=\"24px\"viewBox=\"0 0 24 24\"\n",
              "       width=\"24px\">\n",
              "    <path d=\"M0 0h24v24H0V0z\" fill=\"none\"/>\n",
              "    <path d=\"M18.56 5.44l.94 2.06.94-2.06 2.06-.94-2.06-.94-.94-2.06-.94 2.06-2.06.94zm-11 1L8.5 8.5l.94-2.06 2.06-.94-2.06-.94L8.5 2.5l-.94 2.06-2.06.94zm10 10l.94 2.06.94-2.06 2.06-.94-2.06-.94-.94-2.06-.94 2.06-2.06.94z\"/><path d=\"M17.41 7.96l-1.37-1.37c-.4-.4-.92-.59-1.43-.59-.52 0-1.04.2-1.43.59L10.3 9.45l-7.72 7.72c-.78.78-.78 2.05 0 2.83L4 21.41c.39.39.9.59 1.41.59.51 0 1.02-.2 1.41-.59l7.78-7.78 2.81-2.81c.8-.78.8-2.07 0-2.86zM5.41 20L4 18.59l7.72-7.72 1.47 1.35L5.41 20z\"/>\n",
              "  </svg>\n",
              "      </button>\n",
              "      \n",
              "  <style>\n",
              "    .colab-df-container {\n",
              "      display:flex;\n",
              "      flex-wrap:wrap;\n",
              "      gap: 12px;\n",
              "    }\n",
              "\n",
              "    .colab-df-convert {\n",
              "      background-color: #E8F0FE;\n",
              "      border: none;\n",
              "      border-radius: 50%;\n",
              "      cursor: pointer;\n",
              "      display: none;\n",
              "      fill: #1967D2;\n",
              "      height: 32px;\n",
              "      padding: 0 0 0 0;\n",
              "      width: 32px;\n",
              "    }\n",
              "\n",
              "    .colab-df-convert:hover {\n",
              "      background-color: #E2EBFA;\n",
              "      box-shadow: 0px 1px 2px rgba(60, 64, 67, 0.3), 0px 1px 3px 1px rgba(60, 64, 67, 0.15);\n",
              "      fill: #174EA6;\n",
              "    }\n",
              "\n",
              "    [theme=dark] .colab-df-convert {\n",
              "      background-color: #3B4455;\n",
              "      fill: #D2E3FC;\n",
              "    }\n",
              "\n",
              "    [theme=dark] .colab-df-convert:hover {\n",
              "      background-color: #434B5C;\n",
              "      box-shadow: 0px 1px 3px 1px rgba(0, 0, 0, 0.15);\n",
              "      filter: drop-shadow(0px 1px 2px rgba(0, 0, 0, 0.3));\n",
              "      fill: #FFFFFF;\n",
              "    }\n",
              "  </style>\n",
              "\n",
              "      <script>\n",
              "        const buttonEl =\n",
              "          document.querySelector('#df-a25531d8-ad34-4c42-9a76-1900029d56c8 button.colab-df-convert');\n",
              "        buttonEl.style.display =\n",
              "          google.colab.kernel.accessAllowed ? 'block' : 'none';\n",
              "\n",
              "        async function convertToInteractive(key) {\n",
              "          const element = document.querySelector('#df-a25531d8-ad34-4c42-9a76-1900029d56c8');\n",
              "          const dataTable =\n",
              "            await google.colab.kernel.invokeFunction('convertToInteractive',\n",
              "                                                     [key], {});\n",
              "          if (!dataTable) return;\n",
              "\n",
              "          const docLinkHtml = 'Like what you see? Visit the ' +\n",
              "            '<a target=\"_blank\" href=https://colab.research.google.com/notebooks/data_table.ipynb>data table notebook</a>'\n",
              "            + ' to learn more about interactive tables.';\n",
              "          element.innerHTML = '';\n",
              "          dataTable['output_type'] = 'display_data';\n",
              "          await google.colab.output.renderOutput(dataTable, element);\n",
              "          const docLink = document.createElement('div');\n",
              "          docLink.innerHTML = docLinkHtml;\n",
              "          element.appendChild(docLink);\n",
              "        }\n",
              "      </script>\n",
              "    </div>\n",
              "  </div>\n",
              "  "
            ]
          },
          "metadata": {},
          "execution_count": 106
        }
      ]
    },
    {
      "cell_type": "code",
      "source": [
        "interactions_full_df.playlistname.unique()"
      ],
      "metadata": {
        "colab": {
          "base_uri": "https://localhost:8080/"
        },
        "id": "JxorEHuH-g7r",
        "outputId": "03be813a-673c-4c06-8573-fa0a00944aa1"
      },
      "execution_count": null,
      "outputs": [
        {
          "output_type": "execute_result",
          "data": {
            "text/plain": [
              "array([2.32192809, 2.        , 2.5849625 , 1.5849625 , 3.45943162,\n",
              "       2.80735492, 3.        , 3.70043972, 1.        , 3.169925  ,\n",
              "       4.        , 3.32192809, 5.42626475, 4.24792751, 6.06608919,\n",
              "       4.857981  , 4.39231742, 4.08746284, 4.70043972, 4.64385619,\n",
              "       3.9068906 , 5.357552  , 5.12928302, 5.169925  , 4.45943162,\n",
              "       5.20945337, 4.95419631, 5.64385619, 3.80735492, 5.04439412,\n",
              "       5.52356196, 4.7548875 , 4.32192809, 5.61470984, 4.169925  ])"
            ]
          },
          "metadata": {},
          "execution_count": 107
        }
      ]
    },
    {
      "cell_type": "code",
      "source": [
        "interactions_train_df, interactions_test_df = train_test_split(interactions_full_df,\n",
        "                                   stratify=interactions_full_df['user_id'], \n",
        "                                   test_size=0.25,\n",
        "                                   random_state=42)"
      ],
      "metadata": {
        "id": "LZRIvHokBS7E"
      },
      "execution_count": null,
      "outputs": []
    },
    {
      "cell_type": "code",
      "source": [
        "print('# interactions on Train set: %d' % len(interactions_train_df))\n",
        "print('# interactions on Test set: %d' % len(interactions_test_df))"
      ],
      "metadata": {
        "colab": {
          "base_uri": "https://localhost:8080/"
        },
        "id": "WaovknAQB8tX",
        "outputId": "ae7fa773-b78c-46be-f99e-63ab36d68d00"
      },
      "execution_count": null,
      "outputs": [
        {
          "output_type": "stream",
          "name": "stdout",
          "text": [
            "# interactions on Train set: 23740\n",
            "# interactions on Test set: 7914\n"
          ]
        }
      ]
    },
    {
      "cell_type": "code",
      "source": [
        "interactions = (\n",
        "    interactions_train_df\n",
        "    .groupby('user_id')['track_name'].agg(lambda x: list(x))\n",
        "    .reset_index()\n",
        "    .rename(columns={'track_name': 'true_train'})\n",
        "    .set_index('user_id')\n",
        ")\n",
        "\n",
        "interactions['true_test'] = (\n",
        "    interactions_test_df\n",
        "    .groupby('user_id')['track_name'].agg(lambda x: list(x))\n",
        ")\n",
        "\n",
        "# заполнение пропусков пустыми списками\n",
        "interactions.loc[pd.isnull(interactions.true_test), 'true_test'] = [\n",
        "    [''] for x in range(len(interactions.loc[pd.isnull(interactions.true_test), 'true_test']))]\n",
        "\n",
        "interactions.head(5)"
      ],
      "metadata": {
        "colab": {
          "base_uri": "https://localhost:8080/",
          "height": 235
        },
        "id": "YjXwT0PyCBfG",
        "outputId": "ea6d9f65-751d-4c44-ee31-180f55115af0"
      },
      "execution_count": null,
      "outputs": [
        {
          "output_type": "execute_result",
          "data": {
            "text/plain": [
              "                                                                         true_train  \\\n",
              "user_id                                                                               \n",
              "001c4e5b73eca68ee9756bb0c7d2f855  [The Anthem, Californication, Losing My Religi...   \n",
              "00287ecf491882a40ff34b0fd75a5b16  [All Star, Stacy's Mom, My Own Worst Enemy, Ho...   \n",
              "00526df8fabfb8c8605f180ed1880754  [You And Me, Safe And Sound, Black Widow, It G...   \n",
              "0098b965803a4c10723f8e216f9e0904  [Killing In The Name, I Still Miss Someone, Ma...   \n",
              "009d96adf819aeed0bcff4448cad7a9a  [Smells Like Teen Spirit, Tongue Tied, Come As...   \n",
              "\n",
              "                                                                          true_test  \n",
              "user_id                                                                              \n",
              "001c4e5b73eca68ee9756bb0c7d2f855                                       [Numb, Iris]  \n",
              "00287ecf491882a40ff34b0fd75a5b16  [Bring Me To Life, Dancing in the Moonlight - ...  \n",
              "00526df8fabfb8c8605f180ed1880754                        [Duality, Thinkin Bout You]  \n",
              "0098b965803a4c10723f8e216f9e0904                                 [Cruel To Be Kind]  \n",
              "009d96adf819aeed0bcff4448cad7a9a                          [Thinkin Bout You, Creep]  "
            ],
            "text/html": [
              "\n",
              "  <div id=\"df-7ad1d93a-ab6a-4533-a77d-9424f1e5a4ce\">\n",
              "    <div class=\"colab-df-container\">\n",
              "      <div>\n",
              "<style scoped>\n",
              "    .dataframe tbody tr th:only-of-type {\n",
              "        vertical-align: middle;\n",
              "    }\n",
              "\n",
              "    .dataframe tbody tr th {\n",
              "        vertical-align: top;\n",
              "    }\n",
              "\n",
              "    .dataframe thead th {\n",
              "        text-align: right;\n",
              "    }\n",
              "</style>\n",
              "<table border=\"1\" class=\"dataframe\">\n",
              "  <thead>\n",
              "    <tr style=\"text-align: right;\">\n",
              "      <th></th>\n",
              "      <th>true_train</th>\n",
              "      <th>true_test</th>\n",
              "    </tr>\n",
              "    <tr>\n",
              "      <th>user_id</th>\n",
              "      <th></th>\n",
              "      <th></th>\n",
              "    </tr>\n",
              "  </thead>\n",
              "  <tbody>\n",
              "    <tr>\n",
              "      <th>001c4e5b73eca68ee9756bb0c7d2f855</th>\n",
              "      <td>[The Anthem, Californication, Losing My Religi...</td>\n",
              "      <td>[Numb, Iris]</td>\n",
              "    </tr>\n",
              "    <tr>\n",
              "      <th>00287ecf491882a40ff34b0fd75a5b16</th>\n",
              "      <td>[All Star, Stacy's Mom, My Own Worst Enemy, Ho...</td>\n",
              "      <td>[Bring Me To Life, Dancing in the Moonlight - ...</td>\n",
              "    </tr>\n",
              "    <tr>\n",
              "      <th>00526df8fabfb8c8605f180ed1880754</th>\n",
              "      <td>[You And Me, Safe And Sound, Black Widow, It G...</td>\n",
              "      <td>[Duality, Thinkin Bout You]</td>\n",
              "    </tr>\n",
              "    <tr>\n",
              "      <th>0098b965803a4c10723f8e216f9e0904</th>\n",
              "      <td>[Killing In The Name, I Still Miss Someone, Ma...</td>\n",
              "      <td>[Cruel To Be Kind]</td>\n",
              "    </tr>\n",
              "    <tr>\n",
              "      <th>009d96adf819aeed0bcff4448cad7a9a</th>\n",
              "      <td>[Smells Like Teen Spirit, Tongue Tied, Come As...</td>\n",
              "      <td>[Thinkin Bout You, Creep]</td>\n",
              "    </tr>\n",
              "  </tbody>\n",
              "</table>\n",
              "</div>\n",
              "      <button class=\"colab-df-convert\" onclick=\"convertToInteractive('df-7ad1d93a-ab6a-4533-a77d-9424f1e5a4ce')\"\n",
              "              title=\"Convert this dataframe to an interactive table.\"\n",
              "              style=\"display:none;\">\n",
              "        \n",
              "  <svg xmlns=\"http://www.w3.org/2000/svg\" height=\"24px\"viewBox=\"0 0 24 24\"\n",
              "       width=\"24px\">\n",
              "    <path d=\"M0 0h24v24H0V0z\" fill=\"none\"/>\n",
              "    <path d=\"M18.56 5.44l.94 2.06.94-2.06 2.06-.94-2.06-.94-.94-2.06-.94 2.06-2.06.94zm-11 1L8.5 8.5l.94-2.06 2.06-.94-2.06-.94L8.5 2.5l-.94 2.06-2.06.94zm10 10l.94 2.06.94-2.06 2.06-.94-2.06-.94-.94-2.06-.94 2.06-2.06.94z\"/><path d=\"M17.41 7.96l-1.37-1.37c-.4-.4-.92-.59-1.43-.59-.52 0-1.04.2-1.43.59L10.3 9.45l-7.72 7.72c-.78.78-.78 2.05 0 2.83L4 21.41c.39.39.9.59 1.41.59.51 0 1.02-.2 1.41-.59l7.78-7.78 2.81-2.81c.8-.78.8-2.07 0-2.86zM5.41 20L4 18.59l7.72-7.72 1.47 1.35L5.41 20z\"/>\n",
              "  </svg>\n",
              "      </button>\n",
              "      \n",
              "  <style>\n",
              "    .colab-df-container {\n",
              "      display:flex;\n",
              "      flex-wrap:wrap;\n",
              "      gap: 12px;\n",
              "    }\n",
              "\n",
              "    .colab-df-convert {\n",
              "      background-color: #E8F0FE;\n",
              "      border: none;\n",
              "      border-radius: 50%;\n",
              "      cursor: pointer;\n",
              "      display: none;\n",
              "      fill: #1967D2;\n",
              "      height: 32px;\n",
              "      padding: 0 0 0 0;\n",
              "      width: 32px;\n",
              "    }\n",
              "\n",
              "    .colab-df-convert:hover {\n",
              "      background-color: #E2EBFA;\n",
              "      box-shadow: 0px 1px 2px rgba(60, 64, 67, 0.3), 0px 1px 3px 1px rgba(60, 64, 67, 0.15);\n",
              "      fill: #174EA6;\n",
              "    }\n",
              "\n",
              "    [theme=dark] .colab-df-convert {\n",
              "      background-color: #3B4455;\n",
              "      fill: #D2E3FC;\n",
              "    }\n",
              "\n",
              "    [theme=dark] .colab-df-convert:hover {\n",
              "      background-color: #434B5C;\n",
              "      box-shadow: 0px 1px 3px 1px rgba(0, 0, 0, 0.15);\n",
              "      filter: drop-shadow(0px 1px 2px rgba(0, 0, 0, 0.3));\n",
              "      fill: #FFFFFF;\n",
              "    }\n",
              "  </style>\n",
              "\n",
              "      <script>\n",
              "        const buttonEl =\n",
              "          document.querySelector('#df-7ad1d93a-ab6a-4533-a77d-9424f1e5a4ce button.colab-df-convert');\n",
              "        buttonEl.style.display =\n",
              "          google.colab.kernel.accessAllowed ? 'block' : 'none';\n",
              "\n",
              "        async function convertToInteractive(key) {\n",
              "          const element = document.querySelector('#df-7ad1d93a-ab6a-4533-a77d-9424f1e5a4ce');\n",
              "          const dataTable =\n",
              "            await google.colab.kernel.invokeFunction('convertToInteractive',\n",
              "                                                     [key], {});\n",
              "          if (!dataTable) return;\n",
              "\n",
              "          const docLinkHtml = 'Like what you see? Visit the ' +\n",
              "            '<a target=\"_blank\" href=https://colab.research.google.com/notebooks/data_table.ipynb>data table notebook</a>'\n",
              "            + ' to learn more about interactive tables.';\n",
              "          element.innerHTML = '';\n",
              "          dataTable['output_type'] = 'display_data';\n",
              "          await google.colab.output.renderOutput(dataTable, element);\n",
              "          const docLink = document.createElement('div');\n",
              "          docLink.innerHTML = docLinkHtml;\n",
              "          element.appendChild(docLink);\n",
              "        }\n",
              "      </script>\n",
              "    </div>\n",
              "  </div>\n",
              "  "
            ]
          },
          "metadata": {},
          "execution_count": 111
        }
      ]
    },
    {
      "cell_type": "code",
      "source": [
        "interactions.shape"
      ],
      "metadata": {
        "colab": {
          "base_uri": "https://localhost:8080/"
        },
        "id": "dF-aLLD4VUFu",
        "outputId": "b3098fa9-c637-4678-d1bf-939adb1f77ac"
      },
      "execution_count": null,
      "outputs": [
        {
          "output_type": "execute_result",
          "data": {
            "text/plain": [
              "(3013, 2)"
            ]
          },
          "metadata": {},
          "execution_count": 112
        }
      ]
    },
    {
      "cell_type": "markdown",
      "source": [
        "Матрица \"оценок\" пользователей. Нули будут обозначать отсутствие взаимодействия."
      ],
      "metadata": {
        "id": "GUMGyKoXHRBh"
      }
    },
    {
      "cell_type": "code",
      "source": [
        "ratings = pd.pivot_table(\n",
        "    interactions_train_df,\n",
        "    values='playlistname',\n",
        "    index='user_id',\n",
        "    columns='track_name').fillna(0)"
      ],
      "metadata": {
        "id": "6ya86xgOHSmW"
      },
      "execution_count": null,
      "outputs": []
    },
    {
      "cell_type": "code",
      "source": [
        "ratings"
      ],
      "metadata": {
        "colab": {
          "base_uri": "https://localhost:8080/",
          "height": 667
        },
        "id": "HWBTrEmlImdR",
        "outputId": "c69c1395-1363-4bbf-8802-72b473e8d6ae"
      },
      "execution_count": null,
      "outputs": [
        {
          "output_type": "execute_result",
          "data": {
            "text/plain": [
              "track_name                        100 Miles  2AM.  500 Miles Away from Home  \\\n",
              "user_id                                                                       \n",
              "001c4e5b73eca68ee9756bb0c7d2f855      0.000 0.000                     0.000   \n",
              "00287ecf491882a40ff34b0fd75a5b16      0.000 0.000                     0.000   \n",
              "00526df8fabfb8c8605f180ed1880754      0.000 0.000                     0.000   \n",
              "0098b965803a4c10723f8e216f9e0904      0.000 0.000                     0.000   \n",
              "009d96adf819aeed0bcff4448cad7a9a      0.000 0.000                     0.000   \n",
              "...                                     ...   ...                       ...   \n",
              "ff6a160f76014ae59888eab018f03375      0.000 0.000                     0.000   \n",
              "ff83b4f72197d1c04338887bbebb9ce1      0.000 0.000                     0.000   \n",
              "ffe11226cdea81a2db9262c0ec7f5d71      0.000 0.000                     0.000   \n",
              "fff616055993498d6127f3f467cf9f2b      0.000 0.000                     0.000   \n",
              "fff77dadf8528083c920b9c018847e8b      0.000 0.000                     0.000   \n",
              "\n",
              "track_name                        A Little Bit Of Everything  Ain't Back Yet  \\\n",
              "user_id                                                                        \n",
              "001c4e5b73eca68ee9756bb0c7d2f855                       0.000           0.000   \n",
              "00287ecf491882a40ff34b0fd75a5b16                       0.000           0.000   \n",
              "00526df8fabfb8c8605f180ed1880754                       0.000           0.000   \n",
              "0098b965803a4c10723f8e216f9e0904                       0.000           0.000   \n",
              "009d96adf819aeed0bcff4448cad7a9a                       0.000           0.000   \n",
              "...                                                      ...             ...   \n",
              "ff6a160f76014ae59888eab018f03375                       0.000           0.000   \n",
              "ff83b4f72197d1c04338887bbebb9ce1                       0.000           0.000   \n",
              "ffe11226cdea81a2db9262c0ec7f5d71                       0.000           0.000   \n",
              "fff616055993498d6127f3f467cf9f2b                       0.000           0.000   \n",
              "fff77dadf8528083c920b9c018847e8b                       0.000           0.000   \n",
              "\n",
              "track_name                        Ain't No God In Mexico  Alive  \\\n",
              "user_id                                                           \n",
              "001c4e5b73eca68ee9756bb0c7d2f855                   0.000  0.000   \n",
              "00287ecf491882a40ff34b0fd75a5b16                   0.000  0.000   \n",
              "00526df8fabfb8c8605f180ed1880754                   0.000  0.000   \n",
              "0098b965803a4c10723f8e216f9e0904                   0.000  0.000   \n",
              "009d96adf819aeed0bcff4448cad7a9a                   0.000  0.000   \n",
              "...                                                  ...    ...   \n",
              "ff6a160f76014ae59888eab018f03375                   0.000  0.000   \n",
              "ff83b4f72197d1c04338887bbebb9ce1                   0.000  0.000   \n",
              "ffe11226cdea81a2db9262c0ec7f5d71                   0.000  0.000   \n",
              "fff616055993498d6127f3f467cf9f2b                   0.000  0.000   \n",
              "fff77dadf8528083c920b9c018847e8b                   0.000  0.000   \n",
              "\n",
              "track_name                        All I Do Is Win  All Star  All Summer Long  \\\n",
              "user_id                                                                        \n",
              "001c4e5b73eca68ee9756bb0c7d2f855            0.000     0.000            0.000   \n",
              "00287ecf491882a40ff34b0fd75a5b16            0.000     2.322            0.000   \n",
              "00526df8fabfb8c8605f180ed1880754            0.000     0.000            0.000   \n",
              "0098b965803a4c10723f8e216f9e0904            0.000     0.000            0.000   \n",
              "009d96adf819aeed0bcff4448cad7a9a            0.000     0.000            0.000   \n",
              "...                                           ...       ...              ...   \n",
              "ff6a160f76014ae59888eab018f03375            0.000     0.000            0.000   \n",
              "ff83b4f72197d1c04338887bbebb9ce1            0.000     0.000            0.000   \n",
              "ffe11226cdea81a2db9262c0ec7f5d71            0.000     0.000            0.000   \n",
              "fff616055993498d6127f3f467cf9f2b            0.000     0.000            2.000   \n",
              "fff77dadf8528083c920b9c018847e8b            0.000     0.000            0.000   \n",
              "\n",
              "track_name                        ...  Wildfire  Would?  \\\n",
              "user_id                           ...                     \n",
              "001c4e5b73eca68ee9756bb0c7d2f855  ...     0.000   0.000   \n",
              "00287ecf491882a40ff34b0fd75a5b16  ...     0.000   0.000   \n",
              "00526df8fabfb8c8605f180ed1880754  ...     0.000   0.000   \n",
              "0098b965803a4c10723f8e216f9e0904  ...     0.000   2.000   \n",
              "009d96adf819aeed0bcff4448cad7a9a  ...     0.000   0.000   \n",
              "...                               ...       ...     ...   \n",
              "ff6a160f76014ae59888eab018f03375  ...     0.000   0.000   \n",
              "ff83b4f72197d1c04338887bbebb9ce1  ...     0.000   0.000   \n",
              "ffe11226cdea81a2db9262c0ec7f5d71  ...     0.000   0.000   \n",
              "fff616055993498d6127f3f467cf9f2b  ...     0.000   0.000   \n",
              "fff77dadf8528083c920b9c018847e8b  ...     0.000   0.000   \n",
              "\n",
              "track_name                        Write My Number On Your Hand  \\\n",
              "user_id                                                          \n",
              "001c4e5b73eca68ee9756bb0c7d2f855                         0.000   \n",
              "00287ecf491882a40ff34b0fd75a5b16                         0.000   \n",
              "00526df8fabfb8c8605f180ed1880754                         0.000   \n",
              "0098b965803a4c10723f8e216f9e0904                         0.000   \n",
              "009d96adf819aeed0bcff4448cad7a9a                         0.000   \n",
              "...                                                        ...   \n",
              "ff6a160f76014ae59888eab018f03375                         0.000   \n",
              "ff83b4f72197d1c04338887bbebb9ce1                         0.000   \n",
              "ffe11226cdea81a2db9262c0ec7f5d71                         0.000   \n",
              "fff616055993498d6127f3f467cf9f2b                         0.000   \n",
              "fff77dadf8528083c920b9c018847e8b                         0.000   \n",
              "\n",
              "track_name                        Wus Good / Curious  Y'all Come Back Saloon  \\\n",
              "user_id                                                                        \n",
              "001c4e5b73eca68ee9756bb0c7d2f855               0.000                   0.000   \n",
              "00287ecf491882a40ff34b0fd75a5b16               0.000                   0.000   \n",
              "00526df8fabfb8c8605f180ed1880754               0.000                   0.000   \n",
              "0098b965803a4c10723f8e216f9e0904               0.000                   0.000   \n",
              "009d96adf819aeed0bcff4448cad7a9a               0.000                   0.000   \n",
              "...                                              ...                     ...   \n",
              "ff6a160f76014ae59888eab018f03375               0.000                   0.000   \n",
              "ff83b4f72197d1c04338887bbebb9ce1               0.000                   0.000   \n",
              "ffe11226cdea81a2db9262c0ec7f5d71               0.000                   0.000   \n",
              "fff616055993498d6127f3f467cf9f2b               0.000                   0.000   \n",
              "fff77dadf8528083c920b9c018847e8b               0.000                   0.000   \n",
              "\n",
              "track_name                        You And Me  \\\n",
              "user_id                                        \n",
              "001c4e5b73eca68ee9756bb0c7d2f855       0.000   \n",
              "00287ecf491882a40ff34b0fd75a5b16       0.000   \n",
              "00526df8fabfb8c8605f180ed1880754       3.700   \n",
              "0098b965803a4c10723f8e216f9e0904       0.000   \n",
              "009d96adf819aeed0bcff4448cad7a9a       0.000   \n",
              "...                                      ...   \n",
              "ff6a160f76014ae59888eab018f03375       0.000   \n",
              "ff83b4f72197d1c04338887bbebb9ce1       0.000   \n",
              "ffe11226cdea81a2db9262c0ec7f5d71       0.000   \n",
              "fff616055993498d6127f3f467cf9f2b       0.000   \n",
              "fff77dadf8528083c920b9c018847e8b       2.322   \n",
              "\n",
              "track_name                        You Can't Take the Honky Tonk out of the Girl  \\\n",
              "user_id                                                                           \n",
              "001c4e5b73eca68ee9756bb0c7d2f855                                          0.000   \n",
              "00287ecf491882a40ff34b0fd75a5b16                                          0.000   \n",
              "00526df8fabfb8c8605f180ed1880754                                          0.000   \n",
              "0098b965803a4c10723f8e216f9e0904                                          0.000   \n",
              "009d96adf819aeed0bcff4448cad7a9a                                          0.000   \n",
              "...                                                                         ...   \n",
              "ff6a160f76014ae59888eab018f03375                                          0.000   \n",
              "ff83b4f72197d1c04338887bbebb9ce1                                          0.000   \n",
              "ffe11226cdea81a2db9262c0ec7f5d71                                          0.000   \n",
              "fff616055993498d6127f3f467cf9f2b                                          0.000   \n",
              "fff77dadf8528083c920b9c018847e8b                                          0.000   \n",
              "\n",
              "track_name                        You Make Me Wanna...  \\\n",
              "user_id                                                  \n",
              "001c4e5b73eca68ee9756bb0c7d2f855                 0.000   \n",
              "00287ecf491882a40ff34b0fd75a5b16                 0.000   \n",
              "00526df8fabfb8c8605f180ed1880754                 0.000   \n",
              "0098b965803a4c10723f8e216f9e0904                 0.000   \n",
              "009d96adf819aeed0bcff4448cad7a9a                 0.000   \n",
              "...                                                ...   \n",
              "ff6a160f76014ae59888eab018f03375                 0.000   \n",
              "ff83b4f72197d1c04338887bbebb9ce1                 0.000   \n",
              "ffe11226cdea81a2db9262c0ec7f5d71                 0.000   \n",
              "fff616055993498d6127f3f467cf9f2b                 2.585   \n",
              "fff77dadf8528083c920b9c018847e8b                 2.585   \n",
              "\n",
              "track_name                        You'll Never Leave Harlan Alive  \\\n",
              "user_id                                                             \n",
              "001c4e5b73eca68ee9756bb0c7d2f855                            0.000   \n",
              "00287ecf491882a40ff34b0fd75a5b16                            0.000   \n",
              "00526df8fabfb8c8605f180ed1880754                            0.000   \n",
              "0098b965803a4c10723f8e216f9e0904                            0.000   \n",
              "009d96adf819aeed0bcff4448cad7a9a                            0.000   \n",
              "...                                                           ...   \n",
              "ff6a160f76014ae59888eab018f03375                            0.000   \n",
              "ff83b4f72197d1c04338887bbebb9ce1                            0.000   \n",
              "ffe11226cdea81a2db9262c0ec7f5d71                            0.000   \n",
              "fff616055993498d6127f3f467cf9f2b                            0.000   \n",
              "fff77dadf8528083c920b9c018847e8b                            0.000   \n",
              "\n",
              "track_name                        You're Gonna Go Far, Kid  \n",
              "user_id                                                     \n",
              "001c4e5b73eca68ee9756bb0c7d2f855                     0.000  \n",
              "00287ecf491882a40ff34b0fd75a5b16                     0.000  \n",
              "00526df8fabfb8c8605f180ed1880754                     0.000  \n",
              "0098b965803a4c10723f8e216f9e0904                     0.000  \n",
              "009d96adf819aeed0bcff4448cad7a9a                     0.000  \n",
              "...                                                    ...  \n",
              "ff6a160f76014ae59888eab018f03375                     0.000  \n",
              "ff83b4f72197d1c04338887bbebb9ce1                     0.000  \n",
              "ffe11226cdea81a2db9262c0ec7f5d71                     0.000  \n",
              "fff616055993498d6127f3f467cf9f2b                     2.322  \n",
              "fff77dadf8528083c920b9c018847e8b                     0.000  \n",
              "\n",
              "[3013 rows x 331 columns]"
            ],
            "text/html": [
              "\n",
              "  <div id=\"df-104dadd7-e58e-4399-91ed-48d9dedfaf85\">\n",
              "    <div class=\"colab-df-container\">\n",
              "      <div>\n",
              "<style scoped>\n",
              "    .dataframe tbody tr th:only-of-type {\n",
              "        vertical-align: middle;\n",
              "    }\n",
              "\n",
              "    .dataframe tbody tr th {\n",
              "        vertical-align: top;\n",
              "    }\n",
              "\n",
              "    .dataframe thead th {\n",
              "        text-align: right;\n",
              "    }\n",
              "</style>\n",
              "<table border=\"1\" class=\"dataframe\">\n",
              "  <thead>\n",
              "    <tr style=\"text-align: right;\">\n",
              "      <th>track_name</th>\n",
              "      <th>100 Miles</th>\n",
              "      <th>2AM.</th>\n",
              "      <th>500 Miles Away from Home</th>\n",
              "      <th>A Little Bit Of Everything</th>\n",
              "      <th>Ain't Back Yet</th>\n",
              "      <th>Ain't No God In Mexico</th>\n",
              "      <th>Alive</th>\n",
              "      <th>All I Do Is Win</th>\n",
              "      <th>All Star</th>\n",
              "      <th>All Summer Long</th>\n",
              "      <th>...</th>\n",
              "      <th>Wildfire</th>\n",
              "      <th>Would?</th>\n",
              "      <th>Write My Number On Your Hand</th>\n",
              "      <th>Wus Good / Curious</th>\n",
              "      <th>Y'all Come Back Saloon</th>\n",
              "      <th>You And Me</th>\n",
              "      <th>You Can't Take the Honky Tonk out of the Girl</th>\n",
              "      <th>You Make Me Wanna...</th>\n",
              "      <th>You'll Never Leave Harlan Alive</th>\n",
              "      <th>You're Gonna Go Far, Kid</th>\n",
              "    </tr>\n",
              "    <tr>\n",
              "      <th>user_id</th>\n",
              "      <th></th>\n",
              "      <th></th>\n",
              "      <th></th>\n",
              "      <th></th>\n",
              "      <th></th>\n",
              "      <th></th>\n",
              "      <th></th>\n",
              "      <th></th>\n",
              "      <th></th>\n",
              "      <th></th>\n",
              "      <th></th>\n",
              "      <th></th>\n",
              "      <th></th>\n",
              "      <th></th>\n",
              "      <th></th>\n",
              "      <th></th>\n",
              "      <th></th>\n",
              "      <th></th>\n",
              "      <th></th>\n",
              "      <th></th>\n",
              "      <th></th>\n",
              "    </tr>\n",
              "  </thead>\n",
              "  <tbody>\n",
              "    <tr>\n",
              "      <th>001c4e5b73eca68ee9756bb0c7d2f855</th>\n",
              "      <td>0.000</td>\n",
              "      <td>0.000</td>\n",
              "      <td>0.000</td>\n",
              "      <td>0.000</td>\n",
              "      <td>0.000</td>\n",
              "      <td>0.000</td>\n",
              "      <td>0.000</td>\n",
              "      <td>0.000</td>\n",
              "      <td>0.000</td>\n",
              "      <td>0.000</td>\n",
              "      <td>...</td>\n",
              "      <td>0.000</td>\n",
              "      <td>0.000</td>\n",
              "      <td>0.000</td>\n",
              "      <td>0.000</td>\n",
              "      <td>0.000</td>\n",
              "      <td>0.000</td>\n",
              "      <td>0.000</td>\n",
              "      <td>0.000</td>\n",
              "      <td>0.000</td>\n",
              "      <td>0.000</td>\n",
              "    </tr>\n",
              "    <tr>\n",
              "      <th>00287ecf491882a40ff34b0fd75a5b16</th>\n",
              "      <td>0.000</td>\n",
              "      <td>0.000</td>\n",
              "      <td>0.000</td>\n",
              "      <td>0.000</td>\n",
              "      <td>0.000</td>\n",
              "      <td>0.000</td>\n",
              "      <td>0.000</td>\n",
              "      <td>0.000</td>\n",
              "      <td>2.322</td>\n",
              "      <td>0.000</td>\n",
              "      <td>...</td>\n",
              "      <td>0.000</td>\n",
              "      <td>0.000</td>\n",
              "      <td>0.000</td>\n",
              "      <td>0.000</td>\n",
              "      <td>0.000</td>\n",
              "      <td>0.000</td>\n",
              "      <td>0.000</td>\n",
              "      <td>0.000</td>\n",
              "      <td>0.000</td>\n",
              "      <td>0.000</td>\n",
              "    </tr>\n",
              "    <tr>\n",
              "      <th>00526df8fabfb8c8605f180ed1880754</th>\n",
              "      <td>0.000</td>\n",
              "      <td>0.000</td>\n",
              "      <td>0.000</td>\n",
              "      <td>0.000</td>\n",
              "      <td>0.000</td>\n",
              "      <td>0.000</td>\n",
              "      <td>0.000</td>\n",
              "      <td>0.000</td>\n",
              "      <td>0.000</td>\n",
              "      <td>0.000</td>\n",
              "      <td>...</td>\n",
              "      <td>0.000</td>\n",
              "      <td>0.000</td>\n",
              "      <td>0.000</td>\n",
              "      <td>0.000</td>\n",
              "      <td>0.000</td>\n",
              "      <td>3.700</td>\n",
              "      <td>0.000</td>\n",
              "      <td>0.000</td>\n",
              "      <td>0.000</td>\n",
              "      <td>0.000</td>\n",
              "    </tr>\n",
              "    <tr>\n",
              "      <th>0098b965803a4c10723f8e216f9e0904</th>\n",
              "      <td>0.000</td>\n",
              "      <td>0.000</td>\n",
              "      <td>0.000</td>\n",
              "      <td>0.000</td>\n",
              "      <td>0.000</td>\n",
              "      <td>0.000</td>\n",
              "      <td>0.000</td>\n",
              "      <td>0.000</td>\n",
              "      <td>0.000</td>\n",
              "      <td>0.000</td>\n",
              "      <td>...</td>\n",
              "      <td>0.000</td>\n",
              "      <td>2.000</td>\n",
              "      <td>0.000</td>\n",
              "      <td>0.000</td>\n",
              "      <td>0.000</td>\n",
              "      <td>0.000</td>\n",
              "      <td>0.000</td>\n",
              "      <td>0.000</td>\n",
              "      <td>0.000</td>\n",
              "      <td>0.000</td>\n",
              "    </tr>\n",
              "    <tr>\n",
              "      <th>009d96adf819aeed0bcff4448cad7a9a</th>\n",
              "      <td>0.000</td>\n",
              "      <td>0.000</td>\n",
              "      <td>0.000</td>\n",
              "      <td>0.000</td>\n",
              "      <td>0.000</td>\n",
              "      <td>0.000</td>\n",
              "      <td>0.000</td>\n",
              "      <td>0.000</td>\n",
              "      <td>0.000</td>\n",
              "      <td>0.000</td>\n",
              "      <td>...</td>\n",
              "      <td>0.000</td>\n",
              "      <td>0.000</td>\n",
              "      <td>0.000</td>\n",
              "      <td>0.000</td>\n",
              "      <td>0.000</td>\n",
              "      <td>0.000</td>\n",
              "      <td>0.000</td>\n",
              "      <td>0.000</td>\n",
              "      <td>0.000</td>\n",
              "      <td>0.000</td>\n",
              "    </tr>\n",
              "    <tr>\n",
              "      <th>...</th>\n",
              "      <td>...</td>\n",
              "      <td>...</td>\n",
              "      <td>...</td>\n",
              "      <td>...</td>\n",
              "      <td>...</td>\n",
              "      <td>...</td>\n",
              "      <td>...</td>\n",
              "      <td>...</td>\n",
              "      <td>...</td>\n",
              "      <td>...</td>\n",
              "      <td>...</td>\n",
              "      <td>...</td>\n",
              "      <td>...</td>\n",
              "      <td>...</td>\n",
              "      <td>...</td>\n",
              "      <td>...</td>\n",
              "      <td>...</td>\n",
              "      <td>...</td>\n",
              "      <td>...</td>\n",
              "      <td>...</td>\n",
              "      <td>...</td>\n",
              "    </tr>\n",
              "    <tr>\n",
              "      <th>ff6a160f76014ae59888eab018f03375</th>\n",
              "      <td>0.000</td>\n",
              "      <td>0.000</td>\n",
              "      <td>0.000</td>\n",
              "      <td>0.000</td>\n",
              "      <td>0.000</td>\n",
              "      <td>0.000</td>\n",
              "      <td>0.000</td>\n",
              "      <td>0.000</td>\n",
              "      <td>0.000</td>\n",
              "      <td>0.000</td>\n",
              "      <td>...</td>\n",
              "      <td>0.000</td>\n",
              "      <td>0.000</td>\n",
              "      <td>0.000</td>\n",
              "      <td>0.000</td>\n",
              "      <td>0.000</td>\n",
              "      <td>0.000</td>\n",
              "      <td>0.000</td>\n",
              "      <td>0.000</td>\n",
              "      <td>0.000</td>\n",
              "      <td>0.000</td>\n",
              "    </tr>\n",
              "    <tr>\n",
              "      <th>ff83b4f72197d1c04338887bbebb9ce1</th>\n",
              "      <td>0.000</td>\n",
              "      <td>0.000</td>\n",
              "      <td>0.000</td>\n",
              "      <td>0.000</td>\n",
              "      <td>0.000</td>\n",
              "      <td>0.000</td>\n",
              "      <td>0.000</td>\n",
              "      <td>0.000</td>\n",
              "      <td>0.000</td>\n",
              "      <td>0.000</td>\n",
              "      <td>...</td>\n",
              "      <td>0.000</td>\n",
              "      <td>0.000</td>\n",
              "      <td>0.000</td>\n",
              "      <td>0.000</td>\n",
              "      <td>0.000</td>\n",
              "      <td>0.000</td>\n",
              "      <td>0.000</td>\n",
              "      <td>0.000</td>\n",
              "      <td>0.000</td>\n",
              "      <td>0.000</td>\n",
              "    </tr>\n",
              "    <tr>\n",
              "      <th>ffe11226cdea81a2db9262c0ec7f5d71</th>\n",
              "      <td>0.000</td>\n",
              "      <td>0.000</td>\n",
              "      <td>0.000</td>\n",
              "      <td>0.000</td>\n",
              "      <td>0.000</td>\n",
              "      <td>0.000</td>\n",
              "      <td>0.000</td>\n",
              "      <td>0.000</td>\n",
              "      <td>0.000</td>\n",
              "      <td>0.000</td>\n",
              "      <td>...</td>\n",
              "      <td>0.000</td>\n",
              "      <td>0.000</td>\n",
              "      <td>0.000</td>\n",
              "      <td>0.000</td>\n",
              "      <td>0.000</td>\n",
              "      <td>0.000</td>\n",
              "      <td>0.000</td>\n",
              "      <td>0.000</td>\n",
              "      <td>0.000</td>\n",
              "      <td>0.000</td>\n",
              "    </tr>\n",
              "    <tr>\n",
              "      <th>fff616055993498d6127f3f467cf9f2b</th>\n",
              "      <td>0.000</td>\n",
              "      <td>0.000</td>\n",
              "      <td>0.000</td>\n",
              "      <td>0.000</td>\n",
              "      <td>0.000</td>\n",
              "      <td>0.000</td>\n",
              "      <td>0.000</td>\n",
              "      <td>0.000</td>\n",
              "      <td>0.000</td>\n",
              "      <td>2.000</td>\n",
              "      <td>...</td>\n",
              "      <td>0.000</td>\n",
              "      <td>0.000</td>\n",
              "      <td>0.000</td>\n",
              "      <td>0.000</td>\n",
              "      <td>0.000</td>\n",
              "      <td>0.000</td>\n",
              "      <td>0.000</td>\n",
              "      <td>2.585</td>\n",
              "      <td>0.000</td>\n",
              "      <td>2.322</td>\n",
              "    </tr>\n",
              "    <tr>\n",
              "      <th>fff77dadf8528083c920b9c018847e8b</th>\n",
              "      <td>0.000</td>\n",
              "      <td>0.000</td>\n",
              "      <td>0.000</td>\n",
              "      <td>0.000</td>\n",
              "      <td>0.000</td>\n",
              "      <td>0.000</td>\n",
              "      <td>0.000</td>\n",
              "      <td>0.000</td>\n",
              "      <td>0.000</td>\n",
              "      <td>0.000</td>\n",
              "      <td>...</td>\n",
              "      <td>0.000</td>\n",
              "      <td>0.000</td>\n",
              "      <td>0.000</td>\n",
              "      <td>0.000</td>\n",
              "      <td>0.000</td>\n",
              "      <td>2.322</td>\n",
              "      <td>0.000</td>\n",
              "      <td>2.585</td>\n",
              "      <td>0.000</td>\n",
              "      <td>0.000</td>\n",
              "    </tr>\n",
              "  </tbody>\n",
              "</table>\n",
              "<p>3013 rows × 331 columns</p>\n",
              "</div>\n",
              "      <button class=\"colab-df-convert\" onclick=\"convertToInteractive('df-104dadd7-e58e-4399-91ed-48d9dedfaf85')\"\n",
              "              title=\"Convert this dataframe to an interactive table.\"\n",
              "              style=\"display:none;\">\n",
              "        \n",
              "  <svg xmlns=\"http://www.w3.org/2000/svg\" height=\"24px\"viewBox=\"0 0 24 24\"\n",
              "       width=\"24px\">\n",
              "    <path d=\"M0 0h24v24H0V0z\" fill=\"none\"/>\n",
              "    <path d=\"M18.56 5.44l.94 2.06.94-2.06 2.06-.94-2.06-.94-.94-2.06-.94 2.06-2.06.94zm-11 1L8.5 8.5l.94-2.06 2.06-.94-2.06-.94L8.5 2.5l-.94 2.06-2.06.94zm10 10l.94 2.06.94-2.06 2.06-.94-2.06-.94-.94-2.06-.94 2.06-2.06.94z\"/><path d=\"M17.41 7.96l-1.37-1.37c-.4-.4-.92-.59-1.43-.59-.52 0-1.04.2-1.43.59L10.3 9.45l-7.72 7.72c-.78.78-.78 2.05 0 2.83L4 21.41c.39.39.9.59 1.41.59.51 0 1.02-.2 1.41-.59l7.78-7.78 2.81-2.81c.8-.78.8-2.07 0-2.86zM5.41 20L4 18.59l7.72-7.72 1.47 1.35L5.41 20z\"/>\n",
              "  </svg>\n",
              "      </button>\n",
              "      \n",
              "  <style>\n",
              "    .colab-df-container {\n",
              "      display:flex;\n",
              "      flex-wrap:wrap;\n",
              "      gap: 12px;\n",
              "    }\n",
              "\n",
              "    .colab-df-convert {\n",
              "      background-color: #E8F0FE;\n",
              "      border: none;\n",
              "      border-radius: 50%;\n",
              "      cursor: pointer;\n",
              "      display: none;\n",
              "      fill: #1967D2;\n",
              "      height: 32px;\n",
              "      padding: 0 0 0 0;\n",
              "      width: 32px;\n",
              "    }\n",
              "\n",
              "    .colab-df-convert:hover {\n",
              "      background-color: #E2EBFA;\n",
              "      box-shadow: 0px 1px 2px rgba(60, 64, 67, 0.3), 0px 1px 3px 1px rgba(60, 64, 67, 0.15);\n",
              "      fill: #174EA6;\n",
              "    }\n",
              "\n",
              "    [theme=dark] .colab-df-convert {\n",
              "      background-color: #3B4455;\n",
              "      fill: #D2E3FC;\n",
              "    }\n",
              "\n",
              "    [theme=dark] .colab-df-convert:hover {\n",
              "      background-color: #434B5C;\n",
              "      box-shadow: 0px 1px 3px 1px rgba(0, 0, 0, 0.15);\n",
              "      filter: drop-shadow(0px 1px 2px rgba(0, 0, 0, 0.3));\n",
              "      fill: #FFFFFF;\n",
              "    }\n",
              "  </style>\n",
              "\n",
              "      <script>\n",
              "        const buttonEl =\n",
              "          document.querySelector('#df-104dadd7-e58e-4399-91ed-48d9dedfaf85 button.colab-df-convert');\n",
              "        buttonEl.style.display =\n",
              "          google.colab.kernel.accessAllowed ? 'block' : 'none';\n",
              "\n",
              "        async function convertToInteractive(key) {\n",
              "          const element = document.querySelector('#df-104dadd7-e58e-4399-91ed-48d9dedfaf85');\n",
              "          const dataTable =\n",
              "            await google.colab.kernel.invokeFunction('convertToInteractive',\n",
              "                                                     [key], {});\n",
              "          if (!dataTable) return;\n",
              "\n",
              "          const docLinkHtml = 'Like what you see? Visit the ' +\n",
              "            '<a target=\"_blank\" href=https://colab.research.google.com/notebooks/data_table.ipynb>data table notebook</a>'\n",
              "            + ' to learn more about interactive tables.';\n",
              "          element.innerHTML = '';\n",
              "          dataTable['output_type'] = 'display_data';\n",
              "          await google.colab.output.renderOutput(dataTable, element);\n",
              "          const docLink = document.createElement('div');\n",
              "          docLink.innerHTML = docLinkHtml;\n",
              "          element.appendChild(docLink);\n",
              "        }\n",
              "      </script>\n",
              "    </div>\n",
              "  </div>\n",
              "  "
            ]
          },
          "metadata": {},
          "execution_count": 114
        }
      ]
    },
    {
      "cell_type": "code",
      "source": [
        "ratings_m = ratings.values"
      ],
      "metadata": {
        "id": "L2x9ipCwI1gd"
      },
      "execution_count": null,
      "outputs": []
    },
    {
      "cell_type": "code",
      "source": [
        "similarity_users = np.zeros((len(ratings_m), len(ratings_m)))\n",
        "\n",
        "for i in tqdm_notebook(range(len(ratings_m)-1)):\n",
        "    for j in range(i+1, len(ratings_m)):\n",
        "        \n",
        "        # nonzero elements of two users\n",
        "        mask_uv = (ratings_m[i] != 0) & (ratings_m[j] != 0)\n",
        "        \n",
        "        # continue if no intersection\n",
        "        if np.sum(mask_uv) == 0:\n",
        "            continue\n",
        "            \n",
        "        # get nonzero elements\n",
        "        ratings_v = ratings_m[i, mask_uv]\n",
        "        ratings_u = ratings_m[j, mask_uv]\n",
        "        \n",
        "        # for nonzero std\n",
        "        if len(np.unique(ratings_v)) < 2 or len(np.unique(ratings_u)) < 2:\n",
        "            continue\n",
        "\n",
        "        similarity_users[i,j] = np.corrcoef(ratings_v, ratings_u)[0, 1]\n",
        "        similarity_users[j,i] = similarity_users[i,j]"
      ],
      "metadata": {
        "colab": {
          "base_uri": "https://localhost:8080/",
          "height": 49,
          "referenced_widgets": [
            "1d4402fb3b204cb2a61c102d664bb8d2",
            "2703048c72154ed19e235e98d8358b91",
            "9590b20232424600bb1d8df97707965c",
            "91c62368e586447083208b597c9c1d75",
            "6215cf8376cc4c1eabf8aaba6cdf3755",
            "2312ff6edc974759b8d1deb9d79fa599",
            "535a9b3fc9aa45f3b838540f3459bc2e",
            "fe7518c90df34ab483696aefcffd486b",
            "db37373ecaf64ce4be6fdf7a826f571d",
            "fa8bd9f7d7c34cd28d8a844ac764e5b2",
            "ef4da25aa041479485412d3d764569ef"
          ]
        },
        "id": "JRcm-0l_JhaF",
        "outputId": "f599b99d-715a-4409-a8d5-005f002c0081"
      },
      "execution_count": null,
      "outputs": [
        {
          "output_type": "display_data",
          "data": {
            "text/plain": [
              "  0%|          | 0/3012 [00:00<?, ?it/s]"
            ],
            "application/vnd.jupyter.widget-view+json": {
              "version_major": 2,
              "version_minor": 0,
              "model_id": "1d4402fb3b204cb2a61c102d664bb8d2"
            }
          },
          "metadata": {}
        }
      ]
    },
    {
      "cell_type": "code",
      "source": [
        "prediction_user_based = []\n",
        "\n",
        "for i in tqdm_notebook(range(len(similarity_users))):\n",
        "\n",
        "    users_sim = similarity_users[i] > 0\n",
        "\n",
        "    if len(users_sim) == 0:\n",
        "        prediction_user_based.append([])\n",
        "    else:\n",
        "        tmp_recommend = np.argsort(ratings_m[users_sim].sum(axis=0))[::-1]\n",
        "        tmp_recommend = ratings.columns[tmp_recommend]\n",
        "        recommend = np.array(tmp_recommend)[~np.in1d(tmp_recommend, interactions.iloc[i])][:10]\n",
        "        prediction_user_based.append(list(recommend))\n",
        "\n",
        "interactions['prediction_user_based'] = prediction_user_based"
      ],
      "metadata": {
        "colab": {
          "base_uri": "https://localhost:8080/",
          "height": 49,
          "referenced_widgets": [
            "30c2989b2e1c4f2b861654b9e41e518f",
            "0f148be643154a57ab8f7bd234d6ee5e",
            "3cf7f869b85342e4bf18efe3d9d1bf2b",
            "27d6542f3c9d487dbe7bfc0e06eca0b5",
            "939fb73880f24672afe5a4ce31fdd6f8",
            "95a3b0b74c5f422bb3e4cc9fd9620d1f",
            "1ee63a2d8b7d472e90a204c3569e9994",
            "cbc55d13d2884fcb8dfc1e08725fd27b",
            "1483314d079f4e178fd86c8b380600ba",
            "bb6c2207db044b50a7cb5c64733bfa66",
            "2be946ac81b6480381521f49fcd4f62a"
          ]
        },
        "id": "qXQN4_fJJwTk",
        "outputId": "d13d57e4-25b1-454f-ff04-be23ebf05162"
      },
      "execution_count": null,
      "outputs": [
        {
          "output_type": "display_data",
          "data": {
            "text/plain": [
              "  0%|          | 0/3013 [00:00<?, ?it/s]"
            ],
            "application/vnd.jupyter.widget-view+json": {
              "version_major": 2,
              "version_minor": 0,
              "model_id": "30c2989b2e1c4f2b861654b9e41e518f"
            }
          },
          "metadata": {}
        }
      ]
    },
    {
      "cell_type": "code",
      "source": [
        "def calc_precision(column):\n",
        "    return (\n",
        "        interactions\n",
        "        .apply(\n",
        "            lambda row:\n",
        "            len(set(row['true_test']).intersection(\n",
        "                set(row[column]))) /\n",
        "            min(len(row['true_test']) + 0.001, 10.0),\n",
        "            axis=1)).mean()"
      ],
      "metadata": {
        "id": "HFSxXSVAJ9mx"
      },
      "execution_count": null,
      "outputs": []
    },
    {
      "cell_type": "code",
      "source": [
        "calc_precision('prediction_user_based')"
      ],
      "metadata": {
        "colab": {
          "base_uri": "https://localhost:8080/"
        },
        "id": "aPx7gU3yJ51y",
        "outputId": "cf445d25-0849-4d87-83d8-26f4b15a95a7"
      },
      "execution_count": null,
      "outputs": [
        {
          "output_type": "execute_result",
          "data": {
            "text/plain": [
              "0.25394177968339043"
            ]
          },
          "metadata": {},
          "execution_count": 119
        }
      ]
    },
    {
      "cell_type": "markdown",
      "source": [
        "## SVD"
      ],
      "metadata": {
        "id": "BNR0M6ZALbAk"
      }
    },
    {
      "cell_type": "code",
      "source": [
        "ratings = pd.pivot_table(\n",
        "    interactions_train_df,\n",
        "    values='playlistname',\n",
        "    index='user_id',\n",
        "    columns='track_name').fillna(0)"
      ],
      "metadata": {
        "id": "podSc-VGMMy2"
      },
      "execution_count": null,
      "outputs": []
    },
    {
      "cell_type": "code",
      "source": [
        "ratings = ratings[:3000]"
      ],
      "metadata": {
        "id": "hIIGODVzY7bG"
      },
      "execution_count": null,
      "outputs": []
    },
    {
      "cell_type": "code",
      "source": [
        "interactions = interactions[:3000]"
      ],
      "metadata": {
        "id": "LxCOVzkIZyiF"
      },
      "execution_count": null,
      "outputs": []
    },
    {
      "cell_type": "code",
      "source": [
        "top_k = 10"
      ],
      "metadata": {
        "id": "_W3ZgT6KZdSv"
      },
      "execution_count": null,
      "outputs": []
    },
    {
      "cell_type": "code",
      "source": [
        "U, sigma, V = svd(ratings)\n",
        "\n",
        "print(ratings.shape, U.shape, sigma.shape, V.shape)"
      ],
      "metadata": {
        "colab": {
          "base_uri": "https://localhost:8080/"
        },
        "id": "lSQD1rAyLgMw",
        "outputId": "8033b166-6395-411c-fe67-7301ca45db21"
      },
      "execution_count": null,
      "outputs": [
        {
          "output_type": "stream",
          "name": "stdout",
          "text": [
            "(3000, 6121) (3000, 3000) (3000,) (6121, 6121)\n"
          ]
        }
      ]
    },
    {
      "cell_type": "code",
      "source": [
        "Sigma = np.zeros((3000, 6121))\n",
        "Sigma[:3000, :3000] = np.diag(sigma)\n",
        "\n",
        "new_ratings = U.dot(Sigma).dot(V)\n",
        "\n",
        "print(sum(sum((new_ratings - ratings.values) ** 2)))"
      ],
      "metadata": {
        "colab": {
          "base_uri": "https://localhost:8080/"
        },
        "id": "vPLZq1-SLiSE",
        "outputId": "35701a58-058c-4946-e6bf-c113e2e535a0"
      },
      "execution_count": null,
      "outputs": [
        {
          "output_type": "stream",
          "name": "stdout",
          "text": [
            "1.0522944307934705e-23\n"
          ]
        }
      ]
    },
    {
      "cell_type": "code",
      "source": [
        "K = 100\n",
        "\n",
        "sigma[K:] = 0\n",
        "Sigma = np.zeros((3000, 6121))\n",
        "Sigma[:3000, :3000] = np.diag(sigma)"
      ],
      "metadata": {
        "id": "Hq05eTrdLknW"
      },
      "execution_count": null,
      "outputs": []
    },
    {
      "cell_type": "code",
      "source": [
        "new_ratings = U.dot(Sigma).dot(V)\n",
        "\n",
        "print(sum(sum((new_ratings - ratings.values) ** 2)))\n",
        "print(sum(sum((ratings.values.mean() - ratings.values) ** 2)))"
      ],
      "metadata": {
        "colab": {
          "base_uri": "https://localhost:8080/"
        },
        "id": "4gCf6SsiNZhO",
        "outputId": "e5d8b6a1-a612-457a-8eea-bdcf5dfcb497"
      },
      "execution_count": null,
      "outputs": [
        {
          "output_type": "stream",
          "name": "stdout",
          "text": [
            "322764.00047817285\n",
            "582018.7169313619\n"
          ]
        }
      ]
    },
    {
      "cell_type": "code",
      "source": [
        "new_ratings = pd.DataFrame(new_ratings, index=ratings.index, columns=ratings.columns)\n",
        "\n",
        "predictions = []\n",
        "\n",
        "for personId in tqdm_notebook(interactions.index):\n",
        "    prediction = (\n",
        "        new_ratings\n",
        "        .loc[personId]\n",
        "        .sort_values(ascending=False)\n",
        "        .index.values\n",
        "    )\n",
        "    \n",
        "    predictions.append(\n",
        "        list(prediction[~np.in1d(\n",
        "            prediction,\n",
        "            interactions.loc[personId, 'true_train'])])[:top_k])\n",
        "\n",
        "interactions['prediction_svd'] = predictions"
      ],
      "metadata": {
        "colab": {
          "base_uri": "https://localhost:8080/",
          "height": 49,
          "referenced_widgets": [
            "d6495ad4c2cc4a4faa68bb5dfe84063c",
            "459c3f90731f489dbd75ef82216a12e2",
            "98511863ff6a483d9ad59bd6fb467f59",
            "e60bcc6c5358452288ed6abff290880b",
            "0804b840182d4290ab47091443f9460f",
            "0779314812b34da19cc9e58348c35db8",
            "b0a5d7bf9a184ae58225b1f53bb5b0f5",
            "803ce46acd694f8db8de52bc4ae15bdf",
            "2c92d91325774073be52293c20b13f6f",
            "b072ccbbe6654d249b1933ed5d78bd40",
            "aa84b3ff97cb4ed8b93ce7db6f483478"
          ]
        },
        "id": "1RHMi46iNcp3",
        "outputId": "baf93423-b5a0-418b-8d86-ec293576b865"
      },
      "execution_count": null,
      "outputs": [
        {
          "output_type": "display_data",
          "data": {
            "text/plain": [
              "  0%|          | 0/3000 [00:00<?, ?it/s]"
            ],
            "application/vnd.jupyter.widget-view+json": {
              "version_major": 2,
              "version_minor": 0,
              "model_id": "d6495ad4c2cc4a4faa68bb5dfe84063c"
            }
          },
          "metadata": {}
        }
      ]
    },
    {
      "cell_type": "code",
      "source": [
        "calc_precision('prediction_svd')"
      ],
      "metadata": {
        "colab": {
          "base_uri": "https://localhost:8080/"
        },
        "id": "FYfqCXZXNxCV",
        "outputId": "635db61c-6b1a-439d-8681-83266aec4339"
      },
      "execution_count": null,
      "outputs": [
        {
          "output_type": "execute_result",
          "data": {
            "text/plain": [
              "0.20152064334359837"
            ]
          },
          "metadata": {},
          "execution_count": 144
        }
      ]
    },
    {
      "cell_type": "markdown",
      "source": [
        "## Факторизационная машина"
      ],
      "metadata": {
        "id": "iPgKZugXX_mm"
      }
    },
    {
      "cell_type": "code",
      "source": [
        "pip install git+https://github.com/coreylynch/pyFM"
      ],
      "metadata": {
        "colab": {
          "base_uri": "https://localhost:8080/"
        },
        "id": "i2iKKdurdNIz",
        "outputId": "761a1edb-c42d-4e35-def1-a85f5c7e538a"
      },
      "execution_count": null,
      "outputs": [
        {
          "output_type": "stream",
          "name": "stdout",
          "text": [
            "Looking in indexes: https://pypi.org/simple, https://us-python.pkg.dev/colab-wheels/public/simple/\n",
            "Collecting git+https://github.com/coreylynch/pyFM\n",
            "  Cloning https://github.com/coreylynch/pyFM to /tmp/pip-req-build-bw7ohoi5\n",
            "  Running command git clone --filter=blob:none --quiet https://github.com/coreylynch/pyFM /tmp/pip-req-build-bw7ohoi5\n",
            "  Resolved https://github.com/coreylynch/pyFM to commit 0696c980993889a9429e4ab0b6c7dc8be6dac4de\n",
            "  Preparing metadata (setup.py) ... \u001b[?25l\u001b[?25hdone\n"
          ]
        }
      ]
    },
    {
      "cell_type": "code",
      "source": [
        "from pyfm import pylibfm\n",
        "from sklearn.feature_extraction import DictVectorizer"
      ],
      "metadata": {
        "id": "IAGaJjQZcklV"
      },
      "execution_count": null,
      "outputs": []
    },
    {
      "cell_type": "code",
      "source": [
        "#срез из небольшого количества данных для тестирования алгоритма\n",
        "df = data[:20000]\n",
        "\n",
        "df.drop(labels = ['genre', 'artist_name', 'track_id', 'popularity',\n",
        "       'acousticness', 'danceability', 'duration_ms', 'energy',\n",
        "       'instrumentalness', 'key', 'liveness', 'loudness', 'mode',\n",
        "       'speechiness', 'tempo', 'time_signature', 'valence'], axis = 1, inplace = True)\n",
        "\n",
        "df.playlistname = 1"
      ],
      "metadata": {
        "id": "ZJ02C_rC5ALN"
      },
      "execution_count": null,
      "outputs": []
    },
    {
      "cell_type": "code",
      "source": [
        "#решение проблемы холодного старта, пользователи с 5 и более треками в плейлисте\n",
        "users_interactions_count_df = (\n",
        "    df\n",
        "    .groupby(['user_id', 'track_name'])\n",
        "    .first()\n",
        "    .reset_index()\n",
        "    .groupby('user_id').size())\n",
        "print('# users:', len(users_interactions_count_df))\n",
        "\n",
        "users_with_enough_interactions_df = \\\n",
        "    users_interactions_count_df[users_interactions_count_df >= 5].reset_index()[['user_id']]\n",
        "print('# users with at least 5 interactions:',len(users_with_enough_interactions_df))"
      ],
      "metadata": {
        "colab": {
          "base_uri": "https://localhost:8080/"
        },
        "id": "tYWipQ6X5DNc",
        "outputId": "22b25217-6639-461c-837e-2fb1340cc67c"
      },
      "execution_count": null,
      "outputs": [
        {
          "output_type": "stream",
          "name": "stdout",
          "text": [
            "# users: 2553\n",
            "# users with at least 5 interactions: 90\n"
          ]
        }
      ]
    },
    {
      "cell_type": "code",
      "source": [
        "interactions_from_selected_users_df = df.loc[np.in1d(df.user_id,\n",
        "            users_with_enough_interactions_df)]"
      ],
      "metadata": {
        "id": "8r6FRz_a5M0C"
      },
      "execution_count": null,
      "outputs": []
    },
    {
      "cell_type": "code",
      "source": [
        "def smooth_user_preference(x):\n",
        "    return math.log(1+x, 2)\n",
        "    \n",
        "interactions_full_df = (\n",
        "    interactions_from_selected_users_df\n",
        "    .groupby(['user_id', 'track_name']).playlistname.sum()\n",
        "    .apply(smooth_user_preference)\n",
        "    .reset_index().set_index(['user_id', 'track_name'])\n",
        ")\n",
        "\n",
        "        \n",
        "interactions_full_df = interactions_full_df.reset_index()"
      ],
      "metadata": {
        "id": "DCB1fOkn5O9y"
      },
      "execution_count": null,
      "outputs": []
    },
    {
      "cell_type": "code",
      "source": [
        "interactions_train_df, interactions_test_df = train_test_split(interactions_full_df,\n",
        "                                   stratify=interactions_full_df['user_id'], \n",
        "                                   test_size=0.25,\n",
        "                                   random_state=42)"
      ],
      "metadata": {
        "id": "bt6sfAHU5Tgo"
      },
      "execution_count": null,
      "outputs": []
    },
    {
      "cell_type": "code",
      "source": [
        "interactions = (\n",
        "    interactions_train_df\n",
        "    .groupby('user_id')['track_name'].agg(lambda x: list(x))\n",
        "    .reset_index()\n",
        "    .rename(columns={'track_name': 'true_train'})\n",
        "    .set_index('user_id')\n",
        ")\n",
        "\n",
        "interactions['true_test'] = (\n",
        "    interactions_test_df\n",
        "    .groupby('user_id')['track_name'].agg(lambda x: list(x))\n",
        ")\n",
        "\n",
        "# заполнение пропусков пустыми списками\n",
        "interactions.loc[pd.isnull(interactions.true_test), 'true_test'] = [\n",
        "    [''] for x in range(len(interactions.loc[pd.isnull(interactions.true_test), 'true_test']))]\n",
        "\n",
        "interactions.head(5)"
      ],
      "metadata": {
        "colab": {
          "base_uri": "https://localhost:8080/",
          "height": 235
        },
        "id": "FbQf0xcS4yFN",
        "outputId": "24e8f730-0da6-47a5-9c9a-7d8a2d97d54b"
      },
      "execution_count": null,
      "outputs": [
        {
          "output_type": "execute_result",
          "data": {
            "text/plain": [
              "                                                                         true_train  \\\n",
              "user_id                                                                               \n",
              "03c7ce52321ad165332359e2395980fd  [Hate That I Love You, Ridin' Solo, Countdown,...   \n",
              "0655391291dfd9602e49b6276c8697cb  [Where the Party At, Paranoid (feat. B.o.B), C...   \n",
              "09c64defd6aa59945ebfa31e506ce0c3  [Move Ya Body, Paranoid (feat. B.o.B), SOS, Ri...   \n",
              "10c5e83789fd968addb25e7fb7d23cf0  [Habits (Stay High), Ridin' Solo, Pretty Girl ...   \n",
              "1139ad83b57a1e1d7a3690a7ff77e1c4  [Habits (Stay High), Pretty Girl Rock, Creep, ...   \n",
              "\n",
              "                                                                   true_test  \n",
              "user_id                                                                       \n",
              "03c7ce52321ad165332359e2395980fd                                [Creep, SOS]  \n",
              "0655391291dfd9602e49b6276c8697cb                               [Right Thurr]  \n",
              "09c64defd6aa59945ebfa31e506ce0c3  [You Make Me Wanna..., Where the Party At]  \n",
              "10c5e83789fd968addb25e7fb7d23cf0                      [You Make Me Wanna...]  \n",
              "1139ad83b57a1e1d7a3690a7ff77e1c4                      [You Make Me Wanna...]  "
            ],
            "text/html": [
              "\n",
              "  <div id=\"df-9936cf92-275e-4731-a0b1-2f2ab8f5d552\">\n",
              "    <div class=\"colab-df-container\">\n",
              "      <div>\n",
              "<style scoped>\n",
              "    .dataframe tbody tr th:only-of-type {\n",
              "        vertical-align: middle;\n",
              "    }\n",
              "\n",
              "    .dataframe tbody tr th {\n",
              "        vertical-align: top;\n",
              "    }\n",
              "\n",
              "    .dataframe thead th {\n",
              "        text-align: right;\n",
              "    }\n",
              "</style>\n",
              "<table border=\"1\" class=\"dataframe\">\n",
              "  <thead>\n",
              "    <tr style=\"text-align: right;\">\n",
              "      <th></th>\n",
              "      <th>true_train</th>\n",
              "      <th>true_test</th>\n",
              "    </tr>\n",
              "    <tr>\n",
              "      <th>user_id</th>\n",
              "      <th></th>\n",
              "      <th></th>\n",
              "    </tr>\n",
              "  </thead>\n",
              "  <tbody>\n",
              "    <tr>\n",
              "      <th>03c7ce52321ad165332359e2395980fd</th>\n",
              "      <td>[Hate That I Love You, Ridin' Solo, Countdown,...</td>\n",
              "      <td>[Creep, SOS]</td>\n",
              "    </tr>\n",
              "    <tr>\n",
              "      <th>0655391291dfd9602e49b6276c8697cb</th>\n",
              "      <td>[Where the Party At, Paranoid (feat. B.o.B), C...</td>\n",
              "      <td>[Right Thurr]</td>\n",
              "    </tr>\n",
              "    <tr>\n",
              "      <th>09c64defd6aa59945ebfa31e506ce0c3</th>\n",
              "      <td>[Move Ya Body, Paranoid (feat. B.o.B), SOS, Ri...</td>\n",
              "      <td>[You Make Me Wanna..., Where the Party At]</td>\n",
              "    </tr>\n",
              "    <tr>\n",
              "      <th>10c5e83789fd968addb25e7fb7d23cf0</th>\n",
              "      <td>[Habits (Stay High), Ridin' Solo, Pretty Girl ...</td>\n",
              "      <td>[You Make Me Wanna...]</td>\n",
              "    </tr>\n",
              "    <tr>\n",
              "      <th>1139ad83b57a1e1d7a3690a7ff77e1c4</th>\n",
              "      <td>[Habits (Stay High), Pretty Girl Rock, Creep, ...</td>\n",
              "      <td>[You Make Me Wanna...]</td>\n",
              "    </tr>\n",
              "  </tbody>\n",
              "</table>\n",
              "</div>\n",
              "      <button class=\"colab-df-convert\" onclick=\"convertToInteractive('df-9936cf92-275e-4731-a0b1-2f2ab8f5d552')\"\n",
              "              title=\"Convert this dataframe to an interactive table.\"\n",
              "              style=\"display:none;\">\n",
              "        \n",
              "  <svg xmlns=\"http://www.w3.org/2000/svg\" height=\"24px\"viewBox=\"0 0 24 24\"\n",
              "       width=\"24px\">\n",
              "    <path d=\"M0 0h24v24H0V0z\" fill=\"none\"/>\n",
              "    <path d=\"M18.56 5.44l.94 2.06.94-2.06 2.06-.94-2.06-.94-.94-2.06-.94 2.06-2.06.94zm-11 1L8.5 8.5l.94-2.06 2.06-.94-2.06-.94L8.5 2.5l-.94 2.06-2.06.94zm10 10l.94 2.06.94-2.06 2.06-.94-2.06-.94-.94-2.06-.94 2.06-2.06.94z\"/><path d=\"M17.41 7.96l-1.37-1.37c-.4-.4-.92-.59-1.43-.59-.52 0-1.04.2-1.43.59L10.3 9.45l-7.72 7.72c-.78.78-.78 2.05 0 2.83L4 21.41c.39.39.9.59 1.41.59.51 0 1.02-.2 1.41-.59l7.78-7.78 2.81-2.81c.8-.78.8-2.07 0-2.86zM5.41 20L4 18.59l7.72-7.72 1.47 1.35L5.41 20z\"/>\n",
              "  </svg>\n",
              "      </button>\n",
              "      \n",
              "  <style>\n",
              "    .colab-df-container {\n",
              "      display:flex;\n",
              "      flex-wrap:wrap;\n",
              "      gap: 12px;\n",
              "    }\n",
              "\n",
              "    .colab-df-convert {\n",
              "      background-color: #E8F0FE;\n",
              "      border: none;\n",
              "      border-radius: 50%;\n",
              "      cursor: pointer;\n",
              "      display: none;\n",
              "      fill: #1967D2;\n",
              "      height: 32px;\n",
              "      padding: 0 0 0 0;\n",
              "      width: 32px;\n",
              "    }\n",
              "\n",
              "    .colab-df-convert:hover {\n",
              "      background-color: #E2EBFA;\n",
              "      box-shadow: 0px 1px 2px rgba(60, 64, 67, 0.3), 0px 1px 3px 1px rgba(60, 64, 67, 0.15);\n",
              "      fill: #174EA6;\n",
              "    }\n",
              "\n",
              "    [theme=dark] .colab-df-convert {\n",
              "      background-color: #3B4455;\n",
              "      fill: #D2E3FC;\n",
              "    }\n",
              "\n",
              "    [theme=dark] .colab-df-convert:hover {\n",
              "      background-color: #434B5C;\n",
              "      box-shadow: 0px 1px 3px 1px rgba(0, 0, 0, 0.15);\n",
              "      filter: drop-shadow(0px 1px 2px rgba(0, 0, 0, 0.3));\n",
              "      fill: #FFFFFF;\n",
              "    }\n",
              "  </style>\n",
              "\n",
              "      <script>\n",
              "        const buttonEl =\n",
              "          document.querySelector('#df-9936cf92-275e-4731-a0b1-2f2ab8f5d552 button.colab-df-convert');\n",
              "        buttonEl.style.display =\n",
              "          google.colab.kernel.accessAllowed ? 'block' : 'none';\n",
              "\n",
              "        async function convertToInteractive(key) {\n",
              "          const element = document.querySelector('#df-9936cf92-275e-4731-a0b1-2f2ab8f5d552');\n",
              "          const dataTable =\n",
              "            await google.colab.kernel.invokeFunction('convertToInteractive',\n",
              "                                                     [key], {});\n",
              "          if (!dataTable) return;\n",
              "\n",
              "          const docLinkHtml = 'Like what you see? Visit the ' +\n",
              "            '<a target=\"_blank\" href=https://colab.research.google.com/notebooks/data_table.ipynb>data table notebook</a>'\n",
              "            + ' to learn more about interactive tables.';\n",
              "          element.innerHTML = '';\n",
              "          dataTable['output_type'] = 'display_data';\n",
              "          await google.colab.output.renderOutput(dataTable, element);\n",
              "          const docLink = document.createElement('div');\n",
              "          docLink.innerHTML = docLinkHtml;\n",
              "          element.appendChild(docLink);\n",
              "        }\n",
              "      </script>\n",
              "    </div>\n",
              "  </div>\n",
              "  "
            ]
          },
          "metadata": {},
          "execution_count": 132
        }
      ]
    },
    {
      "cell_type": "code",
      "source": [
        "ratings = pd.pivot_table(\n",
        "    interactions_train_df,\n",
        "    values='playlistname',\n",
        "    index='user_id',\n",
        "    columns='track_name').fillna(0)"
      ],
      "metadata": {
        "id": "il2zERU1-W5U"
      },
      "execution_count": null,
      "outputs": []
    },
    {
      "cell_type": "code",
      "source": [
        "train_data = []\n",
        "\n",
        "for i in tqdm_notebook(range(len(interactions_train_df))):\n",
        "    features = {}\n",
        "    features['user_id'] = str(interactions_train_df.iloc[i].user_id)\n",
        "    features['track_name'] = str(interactions_train_df.iloc[i].track_name)\n",
        "\n",
        "    try:\n",
        "        dop_features = df2.loc[features['track_name']]\n",
        "        features['genre'] = str(dop_features.genre)\n",
        "        features['artist_name'] = str(dop_features.artist_name)\n",
        "        features['popularity'] = str(dop_features.popularity)\n",
        "        features['acousticness'] = str(dop_features.acousticness)\n",
        "        features['danceability'] = str(dop_features.danceability)\n",
        "        features['energy'] = str(dop_features.energy)\n",
        "        features['instrumentalness'] = str(dop_features.instrumentalness)\n",
        "        features['liveness'] = str(dop_features.liveness)\n",
        "        features['loudness'] = str(dop_features.loudness)\n",
        "    except:\n",
        "        features['genre'] = 'unknown'\n",
        "        features['genre'] = 'unknown'\n",
        "        features['genre'] = 'unknown'\n",
        "\n",
        "    train_data.append(features)"
      ],
      "metadata": {
        "colab": {
          "base_uri": "https://localhost:8080/",
          "height": 49,
          "referenced_widgets": [
            "b9abcb1bc50a41b98278286555898468",
            "b7acdfd9b2ad42a6a77e38a8429bd69e",
            "7ef7d9f123414c8ab56d5479536fb9b0",
            "199783ceeffa4846847a1a4b8855942e",
            "d9e3fa2108ba4f40aa4e739c19834452",
            "21f71816c4fe4689b1a1463a42fce36a",
            "043f7a651c324c0ca3ab8b52046de230",
            "1ce9dfe138e542619ab11d60961bb40a",
            "266f77898ff54df394a8b1ac01640a58",
            "28cb489ceff14f658dfa75aecfd752a2",
            "dbe6da3abdc0475cacbf92ff753cb5f8"
          ]
        },
        "id": "M9SHPo4Ac4Rd",
        "outputId": "24d151df-9116-4058-ccf4-7a026418e471"
      },
      "execution_count": null,
      "outputs": [
        {
          "output_type": "display_data",
          "data": {
            "text/plain": [
              "  0%|          | 0/421 [00:00<?, ?it/s]"
            ],
            "application/vnd.jupyter.widget-view+json": {
              "version_major": 2,
              "version_minor": 0,
              "model_id": "b9abcb1bc50a41b98278286555898468"
            }
          },
          "metadata": {}
        }
      ]
    },
    {
      "cell_type": "code",
      "source": [
        "from copy import deepcopy\n",
        "\n",
        "test_data = []\n",
        "\n",
        "for i in tqdm_notebook(range(len(interactions))):\n",
        "    features = {}\n",
        "    features['user_id'] = str(interactions.index[i])  \n",
        "    for j in range(len(ratings.columns)):\n",
        "\n",
        "        features['track_name'] = str(ratings.columns[j])\n",
        "        \n",
        "        try:\n",
        "            dop_features = df2.loc[features['track_name']]\n",
        "            features['genre'] = str(dop_features.genre)\n",
        "            features['artist_name'] = str(dop_features.artist_name)\n",
        "            features['popularity'] = str(dop_features.popularity)\n",
        "            features['acousticness'] = str(dop_features.acousticness)\n",
        "            features['danceability'] = str(dop_features.danceability)\n",
        "            features['energy'] = str(dop_features.energy)\n",
        "            features['instrumentalness'] = str(dop_features.instrumentalness)\n",
        "            features['liveness'] = str(dop_features.liveness)\n",
        "            features['loudness'] = str(dop_features.loudness)\n",
        "        except:\n",
        "            features['authorId'] = 'unknown'\n",
        "            features['authorCountry'] = 'unknown'\n",
        "            features['lang'] = 'unknown'\n",
        "\n",
        "        test_data.append(deepcopy(features))"
      ],
      "metadata": {
        "colab": {
          "base_uri": "https://localhost:8080/",
          "height": 49,
          "referenced_widgets": [
            "2f4edf2c6b2343c6a4be959a3ecb4c2f",
            "4964a6e2b1e341bdbcbdb326d8b80720",
            "00d041c082c14679b2d615fb232210ee",
            "f48b0249a0694d93813b8de6834819d1",
            "123901ce457d4eca8b0e554c62ac8c33",
            "ea924bb5e21a495c98fd95209ead7fa0",
            "f561f074ff17451b84b9d57df5a74c76",
            "7b26c2a7fc674e87a143a60a9a904b54",
            "afaba14e54ef49828f24ca3e0e8a7d71",
            "54752ac3baf84160b9be20f4b4c3e24b",
            "c9defd67ad6d460abf3d024c48e73a30"
          ]
        },
        "id": "g4kNRoJJeFI4",
        "outputId": "7a933b02-48b3-4933-a86c-e92f07f33c82"
      },
      "execution_count": null,
      "outputs": [
        {
          "output_type": "display_data",
          "data": {
            "text/plain": [
              "  0%|          | 0/90 [00:00<?, ?it/s]"
            ],
            "application/vnd.jupyter.widget-view+json": {
              "version_major": 2,
              "version_minor": 0,
              "model_id": "2f4edf2c6b2343c6a4be959a3ecb4c2f"
            }
          },
          "metadata": {}
        }
      ]
    },
    {
      "cell_type": "code",
      "source": [
        "dv = DictVectorizer()\n",
        "\n",
        "train_features = dv.fit_transform(\n",
        "    train_data + list(np.random.permutation(test_data)[:100000]))\n",
        "test_features = dv.transform(test_data)"
      ],
      "metadata": {
        "id": "9-XQHK83hr0I"
      },
      "execution_count": null,
      "outputs": []
    },
    {
      "cell_type": "code",
      "source": [
        "y_train = list(interactions_train_df.playlistname.values) + list(np.zeros(29790))"
      ],
      "metadata": {
        "id": "JusZP74V5esx"
      },
      "execution_count": null,
      "outputs": []
    },
    {
      "cell_type": "code",
      "source": [
        "fm = pylibfm.FM(num_factors=10, num_iter=30, task='regression')\n",
        "\n",
        "fm.fit(train_features, y_train)"
      ],
      "metadata": {
        "colab": {
          "base_uri": "https://localhost:8080/"
        },
        "id": "rGqzMrcM5jtT",
        "outputId": "2859e7d4-2cc5-4267-b06f-41b747a6cb3d"
      },
      "execution_count": null,
      "outputs": [
        {
          "output_type": "stream",
          "name": "stdout",
          "text": [
            "Creating validation dataset of 0.01 of training for adaptive regularization\n",
            "-- Epoch 1\n",
            "Training MSE: 0.00399\n",
            "-- Epoch 2\n",
            "Training MSE: 0.00192\n",
            "-- Epoch 3\n",
            "Training MSE: 0.00170\n",
            "-- Epoch 4\n",
            "Training MSE: 0.00159\n",
            "-- Epoch 5\n",
            "Training MSE: 0.00150\n",
            "-- Epoch 6\n",
            "Training MSE: 0.00143\n",
            "-- Epoch 7\n",
            "Training MSE: 0.00138\n",
            "-- Epoch 8\n",
            "Training MSE: 0.00136\n",
            "-- Epoch 9\n",
            "Training MSE: 0.00137\n",
            "-- Epoch 10\n",
            "Training MSE: 0.00138\n",
            "-- Epoch 11\n",
            "Training MSE: 0.00137\n",
            "-- Epoch 12\n",
            "Training MSE: 0.00134\n",
            "-- Epoch 13\n",
            "Training MSE: 0.00132\n",
            "-- Epoch 14\n",
            "Training MSE: 0.00135\n",
            "-- Epoch 15\n",
            "Training MSE: 0.00132\n",
            "-- Epoch 16\n",
            "Training MSE: 0.00131\n",
            "-- Epoch 17\n",
            "Training MSE: 0.00131\n",
            "-- Epoch 18\n",
            "Training MSE: 0.00128\n",
            "-- Epoch 19\n",
            "Training MSE: 0.00126\n",
            "-- Epoch 20\n",
            "Training MSE: 0.00124\n",
            "-- Epoch 21\n",
            "Training MSE: 0.00124\n",
            "-- Epoch 22\n",
            "Training MSE: 0.00120\n",
            "-- Epoch 23\n",
            "Training MSE: 0.00121\n",
            "-- Epoch 24\n",
            "Training MSE: 0.00120\n",
            "-- Epoch 25\n",
            "Training MSE: 0.00117\n",
            "-- Epoch 26\n",
            "Training MSE: 0.00116\n",
            "-- Epoch 27\n",
            "Training MSE: 0.00115\n",
            "-- Epoch 28\n",
            "Training MSE: 0.00117\n",
            "-- Epoch 29\n",
            "Training MSE: 0.00116\n",
            "-- Epoch 30\n",
            "Training MSE: 0.00117\n"
          ]
        }
      ]
    },
    {
      "cell_type": "code",
      "source": [
        "test_features = dv.transform(test_data)\n",
        "\n",
        "y_predict = fm.predict(test_features)\n",
        "\n",
        "new_ratings = y_predict"
      ],
      "metadata": {
        "id": "QiIRYSmS5wWc"
      },
      "execution_count": null,
      "outputs": []
    },
    {
      "cell_type": "code",
      "source": [
        "top_k=10"
      ],
      "metadata": {
        "id": "msNXT1Wj-Jjd"
      },
      "execution_count": null,
      "outputs": []
    },
    {
      "cell_type": "code",
      "source": [
        "predictions = []\n",
        "\n",
        "for i, person in enumerate(interactions.index):\n",
        "    user_prediction = ratings.columns[np.argsort(new_ratings[i])[::-1]]\n",
        "    predictions.append(\n",
        "        user_prediction[~np.in1d(user_prediction,\n",
        "                                 interactions.loc[person, 'true_train'])][:top_k])\n",
        "    \n",
        "interactions['fm_prediction'] = predictions"
      ],
      "metadata": {
        "id": "XoVTLWvZ9xBV"
      },
      "execution_count": null,
      "outputs": []
    },
    {
      "cell_type": "code",
      "source": [
        "calc_precision('fm_prediction')"
      ],
      "metadata": {
        "colab": {
          "base_uri": "https://localhost:8080/"
        },
        "id": "5_ZNSAwb9yqz",
        "outputId": "9c962822-8a96-48c8-bba0-c04328a053cd"
      },
      "execution_count": null,
      "outputs": [
        {
          "output_type": "execute_result",
          "data": {
            "text/plain": [
              "0.027752801365994777"
            ]
          },
          "metadata": {},
          "execution_count": 167
        }
      ]
    }
  ],
  "metadata": {
    "colab": {
      "collapsed_sections": [
        "zj3FNSNmal1D",
        "xEMvLtwR5V9z",
        "aNudCjI1dpMP"
      ],
      "provenance": []
    },
    "kernelspec": {
      "display_name": "Python 3",
      "name": "python3"
    },
    "language_info": {
      "name": "python"
    },
    "widgets": {
      "application/vnd.jupyter.widget-state+json": {
        "1d4402fb3b204cb2a61c102d664bb8d2": {
          "model_module": "@jupyter-widgets/controls",
          "model_name": "HBoxModel",
          "model_module_version": "1.5.0",
          "state": {
            "_dom_classes": [],
            "_model_module": "@jupyter-widgets/controls",
            "_model_module_version": "1.5.0",
            "_model_name": "HBoxModel",
            "_view_count": null,
            "_view_module": "@jupyter-widgets/controls",
            "_view_module_version": "1.5.0",
            "_view_name": "HBoxView",
            "box_style": "",
            "children": [
              "IPY_MODEL_2703048c72154ed19e235e98d8358b91",
              "IPY_MODEL_9590b20232424600bb1d8df97707965c",
              "IPY_MODEL_91c62368e586447083208b597c9c1d75"
            ],
            "layout": "IPY_MODEL_6215cf8376cc4c1eabf8aaba6cdf3755"
          }
        },
        "2703048c72154ed19e235e98d8358b91": {
          "model_module": "@jupyter-widgets/controls",
          "model_name": "HTMLModel",
          "model_module_version": "1.5.0",
          "state": {
            "_dom_classes": [],
            "_model_module": "@jupyter-widgets/controls",
            "_model_module_version": "1.5.0",
            "_model_name": "HTMLModel",
            "_view_count": null,
            "_view_module": "@jupyter-widgets/controls",
            "_view_module_version": "1.5.0",
            "_view_name": "HTMLView",
            "description": "",
            "description_tooltip": null,
            "layout": "IPY_MODEL_2312ff6edc974759b8d1deb9d79fa599",
            "placeholder": "​",
            "style": "IPY_MODEL_535a9b3fc9aa45f3b838540f3459bc2e",
            "value": "100%"
          }
        },
        "9590b20232424600bb1d8df97707965c": {
          "model_module": "@jupyter-widgets/controls",
          "model_name": "FloatProgressModel",
          "model_module_version": "1.5.0",
          "state": {
            "_dom_classes": [],
            "_model_module": "@jupyter-widgets/controls",
            "_model_module_version": "1.5.0",
            "_model_name": "FloatProgressModel",
            "_view_count": null,
            "_view_module": "@jupyter-widgets/controls",
            "_view_module_version": "1.5.0",
            "_view_name": "ProgressView",
            "bar_style": "success",
            "description": "",
            "description_tooltip": null,
            "layout": "IPY_MODEL_fe7518c90df34ab483696aefcffd486b",
            "max": 3012,
            "min": 0,
            "orientation": "horizontal",
            "style": "IPY_MODEL_db37373ecaf64ce4be6fdf7a826f571d",
            "value": 3012
          }
        },
        "91c62368e586447083208b597c9c1d75": {
          "model_module": "@jupyter-widgets/controls",
          "model_name": "HTMLModel",
          "model_module_version": "1.5.0",
          "state": {
            "_dom_classes": [],
            "_model_module": "@jupyter-widgets/controls",
            "_model_module_version": "1.5.0",
            "_model_name": "HTMLModel",
            "_view_count": null,
            "_view_module": "@jupyter-widgets/controls",
            "_view_module_version": "1.5.0",
            "_view_name": "HTMLView",
            "description": "",
            "description_tooltip": null,
            "layout": "IPY_MODEL_fa8bd9f7d7c34cd28d8a844ac764e5b2",
            "placeholder": "​",
            "style": "IPY_MODEL_ef4da25aa041479485412d3d764569ef",
            "value": " 3012/3012 [04:33&lt;00:00, 192.60it/s]"
          }
        },
        "6215cf8376cc4c1eabf8aaba6cdf3755": {
          "model_module": "@jupyter-widgets/base",
          "model_name": "LayoutModel",
          "model_module_version": "1.2.0",
          "state": {
            "_model_module": "@jupyter-widgets/base",
            "_model_module_version": "1.2.0",
            "_model_name": "LayoutModel",
            "_view_count": null,
            "_view_module": "@jupyter-widgets/base",
            "_view_module_version": "1.2.0",
            "_view_name": "LayoutView",
            "align_content": null,
            "align_items": null,
            "align_self": null,
            "border": null,
            "bottom": null,
            "display": null,
            "flex": null,
            "flex_flow": null,
            "grid_area": null,
            "grid_auto_columns": null,
            "grid_auto_flow": null,
            "grid_auto_rows": null,
            "grid_column": null,
            "grid_gap": null,
            "grid_row": null,
            "grid_template_areas": null,
            "grid_template_columns": null,
            "grid_template_rows": null,
            "height": null,
            "justify_content": null,
            "justify_items": null,
            "left": null,
            "margin": null,
            "max_height": null,
            "max_width": null,
            "min_height": null,
            "min_width": null,
            "object_fit": null,
            "object_position": null,
            "order": null,
            "overflow": null,
            "overflow_x": null,
            "overflow_y": null,
            "padding": null,
            "right": null,
            "top": null,
            "visibility": null,
            "width": null
          }
        },
        "2312ff6edc974759b8d1deb9d79fa599": {
          "model_module": "@jupyter-widgets/base",
          "model_name": "LayoutModel",
          "model_module_version": "1.2.0",
          "state": {
            "_model_module": "@jupyter-widgets/base",
            "_model_module_version": "1.2.0",
            "_model_name": "LayoutModel",
            "_view_count": null,
            "_view_module": "@jupyter-widgets/base",
            "_view_module_version": "1.2.0",
            "_view_name": "LayoutView",
            "align_content": null,
            "align_items": null,
            "align_self": null,
            "border": null,
            "bottom": null,
            "display": null,
            "flex": null,
            "flex_flow": null,
            "grid_area": null,
            "grid_auto_columns": null,
            "grid_auto_flow": null,
            "grid_auto_rows": null,
            "grid_column": null,
            "grid_gap": null,
            "grid_row": null,
            "grid_template_areas": null,
            "grid_template_columns": null,
            "grid_template_rows": null,
            "height": null,
            "justify_content": null,
            "justify_items": null,
            "left": null,
            "margin": null,
            "max_height": null,
            "max_width": null,
            "min_height": null,
            "min_width": null,
            "object_fit": null,
            "object_position": null,
            "order": null,
            "overflow": null,
            "overflow_x": null,
            "overflow_y": null,
            "padding": null,
            "right": null,
            "top": null,
            "visibility": null,
            "width": null
          }
        },
        "535a9b3fc9aa45f3b838540f3459bc2e": {
          "model_module": "@jupyter-widgets/controls",
          "model_name": "DescriptionStyleModel",
          "model_module_version": "1.5.0",
          "state": {
            "_model_module": "@jupyter-widgets/controls",
            "_model_module_version": "1.5.0",
            "_model_name": "DescriptionStyleModel",
            "_view_count": null,
            "_view_module": "@jupyter-widgets/base",
            "_view_module_version": "1.2.0",
            "_view_name": "StyleView",
            "description_width": ""
          }
        },
        "fe7518c90df34ab483696aefcffd486b": {
          "model_module": "@jupyter-widgets/base",
          "model_name": "LayoutModel",
          "model_module_version": "1.2.0",
          "state": {
            "_model_module": "@jupyter-widgets/base",
            "_model_module_version": "1.2.0",
            "_model_name": "LayoutModel",
            "_view_count": null,
            "_view_module": "@jupyter-widgets/base",
            "_view_module_version": "1.2.0",
            "_view_name": "LayoutView",
            "align_content": null,
            "align_items": null,
            "align_self": null,
            "border": null,
            "bottom": null,
            "display": null,
            "flex": null,
            "flex_flow": null,
            "grid_area": null,
            "grid_auto_columns": null,
            "grid_auto_flow": null,
            "grid_auto_rows": null,
            "grid_column": null,
            "grid_gap": null,
            "grid_row": null,
            "grid_template_areas": null,
            "grid_template_columns": null,
            "grid_template_rows": null,
            "height": null,
            "justify_content": null,
            "justify_items": null,
            "left": null,
            "margin": null,
            "max_height": null,
            "max_width": null,
            "min_height": null,
            "min_width": null,
            "object_fit": null,
            "object_position": null,
            "order": null,
            "overflow": null,
            "overflow_x": null,
            "overflow_y": null,
            "padding": null,
            "right": null,
            "top": null,
            "visibility": null,
            "width": null
          }
        },
        "db37373ecaf64ce4be6fdf7a826f571d": {
          "model_module": "@jupyter-widgets/controls",
          "model_name": "ProgressStyleModel",
          "model_module_version": "1.5.0",
          "state": {
            "_model_module": "@jupyter-widgets/controls",
            "_model_module_version": "1.5.0",
            "_model_name": "ProgressStyleModel",
            "_view_count": null,
            "_view_module": "@jupyter-widgets/base",
            "_view_module_version": "1.2.0",
            "_view_name": "StyleView",
            "bar_color": null,
            "description_width": ""
          }
        },
        "fa8bd9f7d7c34cd28d8a844ac764e5b2": {
          "model_module": "@jupyter-widgets/base",
          "model_name": "LayoutModel",
          "model_module_version": "1.2.0",
          "state": {
            "_model_module": "@jupyter-widgets/base",
            "_model_module_version": "1.2.0",
            "_model_name": "LayoutModel",
            "_view_count": null,
            "_view_module": "@jupyter-widgets/base",
            "_view_module_version": "1.2.0",
            "_view_name": "LayoutView",
            "align_content": null,
            "align_items": null,
            "align_self": null,
            "border": null,
            "bottom": null,
            "display": null,
            "flex": null,
            "flex_flow": null,
            "grid_area": null,
            "grid_auto_columns": null,
            "grid_auto_flow": null,
            "grid_auto_rows": null,
            "grid_column": null,
            "grid_gap": null,
            "grid_row": null,
            "grid_template_areas": null,
            "grid_template_columns": null,
            "grid_template_rows": null,
            "height": null,
            "justify_content": null,
            "justify_items": null,
            "left": null,
            "margin": null,
            "max_height": null,
            "max_width": null,
            "min_height": null,
            "min_width": null,
            "object_fit": null,
            "object_position": null,
            "order": null,
            "overflow": null,
            "overflow_x": null,
            "overflow_y": null,
            "padding": null,
            "right": null,
            "top": null,
            "visibility": null,
            "width": null
          }
        },
        "ef4da25aa041479485412d3d764569ef": {
          "model_module": "@jupyter-widgets/controls",
          "model_name": "DescriptionStyleModel",
          "model_module_version": "1.5.0",
          "state": {
            "_model_module": "@jupyter-widgets/controls",
            "_model_module_version": "1.5.0",
            "_model_name": "DescriptionStyleModel",
            "_view_count": null,
            "_view_module": "@jupyter-widgets/base",
            "_view_module_version": "1.2.0",
            "_view_name": "StyleView",
            "description_width": ""
          }
        },
        "30c2989b2e1c4f2b861654b9e41e518f": {
          "model_module": "@jupyter-widgets/controls",
          "model_name": "HBoxModel",
          "model_module_version": "1.5.0",
          "state": {
            "_dom_classes": [],
            "_model_module": "@jupyter-widgets/controls",
            "_model_module_version": "1.5.0",
            "_model_name": "HBoxModel",
            "_view_count": null,
            "_view_module": "@jupyter-widgets/controls",
            "_view_module_version": "1.5.0",
            "_view_name": "HBoxView",
            "box_style": "",
            "children": [
              "IPY_MODEL_0f148be643154a57ab8f7bd234d6ee5e",
              "IPY_MODEL_3cf7f869b85342e4bf18efe3d9d1bf2b",
              "IPY_MODEL_27d6542f3c9d487dbe7bfc0e06eca0b5"
            ],
            "layout": "IPY_MODEL_939fb73880f24672afe5a4ce31fdd6f8"
          }
        },
        "0f148be643154a57ab8f7bd234d6ee5e": {
          "model_module": "@jupyter-widgets/controls",
          "model_name": "HTMLModel",
          "model_module_version": "1.5.0",
          "state": {
            "_dom_classes": [],
            "_model_module": "@jupyter-widgets/controls",
            "_model_module_version": "1.5.0",
            "_model_name": "HTMLModel",
            "_view_count": null,
            "_view_module": "@jupyter-widgets/controls",
            "_view_module_version": "1.5.0",
            "_view_name": "HTMLView",
            "description": "",
            "description_tooltip": null,
            "layout": "IPY_MODEL_95a3b0b74c5f422bb3e4cc9fd9620d1f",
            "placeholder": "​",
            "style": "IPY_MODEL_1ee63a2d8b7d472e90a204c3569e9994",
            "value": "100%"
          }
        },
        "3cf7f869b85342e4bf18efe3d9d1bf2b": {
          "model_module": "@jupyter-widgets/controls",
          "model_name": "FloatProgressModel",
          "model_module_version": "1.5.0",
          "state": {
            "_dom_classes": [],
            "_model_module": "@jupyter-widgets/controls",
            "_model_module_version": "1.5.0",
            "_model_name": "FloatProgressModel",
            "_view_count": null,
            "_view_module": "@jupyter-widgets/controls",
            "_view_module_version": "1.5.0",
            "_view_name": "ProgressView",
            "bar_style": "success",
            "description": "",
            "description_tooltip": null,
            "layout": "IPY_MODEL_cbc55d13d2884fcb8dfc1e08725fd27b",
            "max": 3013,
            "min": 0,
            "orientation": "horizontal",
            "style": "IPY_MODEL_1483314d079f4e178fd86c8b380600ba",
            "value": 3013
          }
        },
        "27d6542f3c9d487dbe7bfc0e06eca0b5": {
          "model_module": "@jupyter-widgets/controls",
          "model_name": "HTMLModel",
          "model_module_version": "1.5.0",
          "state": {
            "_dom_classes": [],
            "_model_module": "@jupyter-widgets/controls",
            "_model_module_version": "1.5.0",
            "_model_name": "HTMLModel",
            "_view_count": null,
            "_view_module": "@jupyter-widgets/controls",
            "_view_module_version": "1.5.0",
            "_view_name": "HTMLView",
            "description": "",
            "description_tooltip": null,
            "layout": "IPY_MODEL_bb6c2207db044b50a7cb5c64733bfa66",
            "placeholder": "​",
            "style": "IPY_MODEL_2be946ac81b6480381521f49fcd4f62a",
            "value": " 3013/3013 [00:03&lt;00:00, 1012.84it/s]"
          }
        },
        "939fb73880f24672afe5a4ce31fdd6f8": {
          "model_module": "@jupyter-widgets/base",
          "model_name": "LayoutModel",
          "model_module_version": "1.2.0",
          "state": {
            "_model_module": "@jupyter-widgets/base",
            "_model_module_version": "1.2.0",
            "_model_name": "LayoutModel",
            "_view_count": null,
            "_view_module": "@jupyter-widgets/base",
            "_view_module_version": "1.2.0",
            "_view_name": "LayoutView",
            "align_content": null,
            "align_items": null,
            "align_self": null,
            "border": null,
            "bottom": null,
            "display": null,
            "flex": null,
            "flex_flow": null,
            "grid_area": null,
            "grid_auto_columns": null,
            "grid_auto_flow": null,
            "grid_auto_rows": null,
            "grid_column": null,
            "grid_gap": null,
            "grid_row": null,
            "grid_template_areas": null,
            "grid_template_columns": null,
            "grid_template_rows": null,
            "height": null,
            "justify_content": null,
            "justify_items": null,
            "left": null,
            "margin": null,
            "max_height": null,
            "max_width": null,
            "min_height": null,
            "min_width": null,
            "object_fit": null,
            "object_position": null,
            "order": null,
            "overflow": null,
            "overflow_x": null,
            "overflow_y": null,
            "padding": null,
            "right": null,
            "top": null,
            "visibility": null,
            "width": null
          }
        },
        "95a3b0b74c5f422bb3e4cc9fd9620d1f": {
          "model_module": "@jupyter-widgets/base",
          "model_name": "LayoutModel",
          "model_module_version": "1.2.0",
          "state": {
            "_model_module": "@jupyter-widgets/base",
            "_model_module_version": "1.2.0",
            "_model_name": "LayoutModel",
            "_view_count": null,
            "_view_module": "@jupyter-widgets/base",
            "_view_module_version": "1.2.0",
            "_view_name": "LayoutView",
            "align_content": null,
            "align_items": null,
            "align_self": null,
            "border": null,
            "bottom": null,
            "display": null,
            "flex": null,
            "flex_flow": null,
            "grid_area": null,
            "grid_auto_columns": null,
            "grid_auto_flow": null,
            "grid_auto_rows": null,
            "grid_column": null,
            "grid_gap": null,
            "grid_row": null,
            "grid_template_areas": null,
            "grid_template_columns": null,
            "grid_template_rows": null,
            "height": null,
            "justify_content": null,
            "justify_items": null,
            "left": null,
            "margin": null,
            "max_height": null,
            "max_width": null,
            "min_height": null,
            "min_width": null,
            "object_fit": null,
            "object_position": null,
            "order": null,
            "overflow": null,
            "overflow_x": null,
            "overflow_y": null,
            "padding": null,
            "right": null,
            "top": null,
            "visibility": null,
            "width": null
          }
        },
        "1ee63a2d8b7d472e90a204c3569e9994": {
          "model_module": "@jupyter-widgets/controls",
          "model_name": "DescriptionStyleModel",
          "model_module_version": "1.5.0",
          "state": {
            "_model_module": "@jupyter-widgets/controls",
            "_model_module_version": "1.5.0",
            "_model_name": "DescriptionStyleModel",
            "_view_count": null,
            "_view_module": "@jupyter-widgets/base",
            "_view_module_version": "1.2.0",
            "_view_name": "StyleView",
            "description_width": ""
          }
        },
        "cbc55d13d2884fcb8dfc1e08725fd27b": {
          "model_module": "@jupyter-widgets/base",
          "model_name": "LayoutModel",
          "model_module_version": "1.2.0",
          "state": {
            "_model_module": "@jupyter-widgets/base",
            "_model_module_version": "1.2.0",
            "_model_name": "LayoutModel",
            "_view_count": null,
            "_view_module": "@jupyter-widgets/base",
            "_view_module_version": "1.2.0",
            "_view_name": "LayoutView",
            "align_content": null,
            "align_items": null,
            "align_self": null,
            "border": null,
            "bottom": null,
            "display": null,
            "flex": null,
            "flex_flow": null,
            "grid_area": null,
            "grid_auto_columns": null,
            "grid_auto_flow": null,
            "grid_auto_rows": null,
            "grid_column": null,
            "grid_gap": null,
            "grid_row": null,
            "grid_template_areas": null,
            "grid_template_columns": null,
            "grid_template_rows": null,
            "height": null,
            "justify_content": null,
            "justify_items": null,
            "left": null,
            "margin": null,
            "max_height": null,
            "max_width": null,
            "min_height": null,
            "min_width": null,
            "object_fit": null,
            "object_position": null,
            "order": null,
            "overflow": null,
            "overflow_x": null,
            "overflow_y": null,
            "padding": null,
            "right": null,
            "top": null,
            "visibility": null,
            "width": null
          }
        },
        "1483314d079f4e178fd86c8b380600ba": {
          "model_module": "@jupyter-widgets/controls",
          "model_name": "ProgressStyleModel",
          "model_module_version": "1.5.0",
          "state": {
            "_model_module": "@jupyter-widgets/controls",
            "_model_module_version": "1.5.0",
            "_model_name": "ProgressStyleModel",
            "_view_count": null,
            "_view_module": "@jupyter-widgets/base",
            "_view_module_version": "1.2.0",
            "_view_name": "StyleView",
            "bar_color": null,
            "description_width": ""
          }
        },
        "bb6c2207db044b50a7cb5c64733bfa66": {
          "model_module": "@jupyter-widgets/base",
          "model_name": "LayoutModel",
          "model_module_version": "1.2.0",
          "state": {
            "_model_module": "@jupyter-widgets/base",
            "_model_module_version": "1.2.0",
            "_model_name": "LayoutModel",
            "_view_count": null,
            "_view_module": "@jupyter-widgets/base",
            "_view_module_version": "1.2.0",
            "_view_name": "LayoutView",
            "align_content": null,
            "align_items": null,
            "align_self": null,
            "border": null,
            "bottom": null,
            "display": null,
            "flex": null,
            "flex_flow": null,
            "grid_area": null,
            "grid_auto_columns": null,
            "grid_auto_flow": null,
            "grid_auto_rows": null,
            "grid_column": null,
            "grid_gap": null,
            "grid_row": null,
            "grid_template_areas": null,
            "grid_template_columns": null,
            "grid_template_rows": null,
            "height": null,
            "justify_content": null,
            "justify_items": null,
            "left": null,
            "margin": null,
            "max_height": null,
            "max_width": null,
            "min_height": null,
            "min_width": null,
            "object_fit": null,
            "object_position": null,
            "order": null,
            "overflow": null,
            "overflow_x": null,
            "overflow_y": null,
            "padding": null,
            "right": null,
            "top": null,
            "visibility": null,
            "width": null
          }
        },
        "2be946ac81b6480381521f49fcd4f62a": {
          "model_module": "@jupyter-widgets/controls",
          "model_name": "DescriptionStyleModel",
          "model_module_version": "1.5.0",
          "state": {
            "_model_module": "@jupyter-widgets/controls",
            "_model_module_version": "1.5.0",
            "_model_name": "DescriptionStyleModel",
            "_view_count": null,
            "_view_module": "@jupyter-widgets/base",
            "_view_module_version": "1.2.0",
            "_view_name": "StyleView",
            "description_width": ""
          }
        },
        "d6495ad4c2cc4a4faa68bb5dfe84063c": {
          "model_module": "@jupyter-widgets/controls",
          "model_name": "HBoxModel",
          "model_module_version": "1.5.0",
          "state": {
            "_dom_classes": [],
            "_model_module": "@jupyter-widgets/controls",
            "_model_module_version": "1.5.0",
            "_model_name": "HBoxModel",
            "_view_count": null,
            "_view_module": "@jupyter-widgets/controls",
            "_view_module_version": "1.5.0",
            "_view_name": "HBoxView",
            "box_style": "",
            "children": [
              "IPY_MODEL_459c3f90731f489dbd75ef82216a12e2",
              "IPY_MODEL_98511863ff6a483d9ad59bd6fb467f59",
              "IPY_MODEL_e60bcc6c5358452288ed6abff290880b"
            ],
            "layout": "IPY_MODEL_0804b840182d4290ab47091443f9460f"
          }
        },
        "459c3f90731f489dbd75ef82216a12e2": {
          "model_module": "@jupyter-widgets/controls",
          "model_name": "HTMLModel",
          "model_module_version": "1.5.0",
          "state": {
            "_dom_classes": [],
            "_model_module": "@jupyter-widgets/controls",
            "_model_module_version": "1.5.0",
            "_model_name": "HTMLModel",
            "_view_count": null,
            "_view_module": "@jupyter-widgets/controls",
            "_view_module_version": "1.5.0",
            "_view_name": "HTMLView",
            "description": "",
            "description_tooltip": null,
            "layout": "IPY_MODEL_0779314812b34da19cc9e58348c35db8",
            "placeholder": "​",
            "style": "IPY_MODEL_b0a5d7bf9a184ae58225b1f53bb5b0f5",
            "value": "100%"
          }
        },
        "98511863ff6a483d9ad59bd6fb467f59": {
          "model_module": "@jupyter-widgets/controls",
          "model_name": "FloatProgressModel",
          "model_module_version": "1.5.0",
          "state": {
            "_dom_classes": [],
            "_model_module": "@jupyter-widgets/controls",
            "_model_module_version": "1.5.0",
            "_model_name": "FloatProgressModel",
            "_view_count": null,
            "_view_module": "@jupyter-widgets/controls",
            "_view_module_version": "1.5.0",
            "_view_name": "ProgressView",
            "bar_style": "success",
            "description": "",
            "description_tooltip": null,
            "layout": "IPY_MODEL_803ce46acd694f8db8de52bc4ae15bdf",
            "max": 3000,
            "min": 0,
            "orientation": "horizontal",
            "style": "IPY_MODEL_2c92d91325774073be52293c20b13f6f",
            "value": 3000
          }
        },
        "e60bcc6c5358452288ed6abff290880b": {
          "model_module": "@jupyter-widgets/controls",
          "model_name": "HTMLModel",
          "model_module_version": "1.5.0",
          "state": {
            "_dom_classes": [],
            "_model_module": "@jupyter-widgets/controls",
            "_model_module_version": "1.5.0",
            "_model_name": "HTMLModel",
            "_view_count": null,
            "_view_module": "@jupyter-widgets/controls",
            "_view_module_version": "1.5.0",
            "_view_name": "HTMLView",
            "description": "",
            "description_tooltip": null,
            "layout": "IPY_MODEL_b072ccbbe6654d249b1933ed5d78bd40",
            "placeholder": "​",
            "style": "IPY_MODEL_aa84b3ff97cb4ed8b93ce7db6f483478",
            "value": " 3000/3000 [00:17&lt;00:00, 214.13it/s]"
          }
        },
        "0804b840182d4290ab47091443f9460f": {
          "model_module": "@jupyter-widgets/base",
          "model_name": "LayoutModel",
          "model_module_version": "1.2.0",
          "state": {
            "_model_module": "@jupyter-widgets/base",
            "_model_module_version": "1.2.0",
            "_model_name": "LayoutModel",
            "_view_count": null,
            "_view_module": "@jupyter-widgets/base",
            "_view_module_version": "1.2.0",
            "_view_name": "LayoutView",
            "align_content": null,
            "align_items": null,
            "align_self": null,
            "border": null,
            "bottom": null,
            "display": null,
            "flex": null,
            "flex_flow": null,
            "grid_area": null,
            "grid_auto_columns": null,
            "grid_auto_flow": null,
            "grid_auto_rows": null,
            "grid_column": null,
            "grid_gap": null,
            "grid_row": null,
            "grid_template_areas": null,
            "grid_template_columns": null,
            "grid_template_rows": null,
            "height": null,
            "justify_content": null,
            "justify_items": null,
            "left": null,
            "margin": null,
            "max_height": null,
            "max_width": null,
            "min_height": null,
            "min_width": null,
            "object_fit": null,
            "object_position": null,
            "order": null,
            "overflow": null,
            "overflow_x": null,
            "overflow_y": null,
            "padding": null,
            "right": null,
            "top": null,
            "visibility": null,
            "width": null
          }
        },
        "0779314812b34da19cc9e58348c35db8": {
          "model_module": "@jupyter-widgets/base",
          "model_name": "LayoutModel",
          "model_module_version": "1.2.0",
          "state": {
            "_model_module": "@jupyter-widgets/base",
            "_model_module_version": "1.2.0",
            "_model_name": "LayoutModel",
            "_view_count": null,
            "_view_module": "@jupyter-widgets/base",
            "_view_module_version": "1.2.0",
            "_view_name": "LayoutView",
            "align_content": null,
            "align_items": null,
            "align_self": null,
            "border": null,
            "bottom": null,
            "display": null,
            "flex": null,
            "flex_flow": null,
            "grid_area": null,
            "grid_auto_columns": null,
            "grid_auto_flow": null,
            "grid_auto_rows": null,
            "grid_column": null,
            "grid_gap": null,
            "grid_row": null,
            "grid_template_areas": null,
            "grid_template_columns": null,
            "grid_template_rows": null,
            "height": null,
            "justify_content": null,
            "justify_items": null,
            "left": null,
            "margin": null,
            "max_height": null,
            "max_width": null,
            "min_height": null,
            "min_width": null,
            "object_fit": null,
            "object_position": null,
            "order": null,
            "overflow": null,
            "overflow_x": null,
            "overflow_y": null,
            "padding": null,
            "right": null,
            "top": null,
            "visibility": null,
            "width": null
          }
        },
        "b0a5d7bf9a184ae58225b1f53bb5b0f5": {
          "model_module": "@jupyter-widgets/controls",
          "model_name": "DescriptionStyleModel",
          "model_module_version": "1.5.0",
          "state": {
            "_model_module": "@jupyter-widgets/controls",
            "_model_module_version": "1.5.0",
            "_model_name": "DescriptionStyleModel",
            "_view_count": null,
            "_view_module": "@jupyter-widgets/base",
            "_view_module_version": "1.2.0",
            "_view_name": "StyleView",
            "description_width": ""
          }
        },
        "803ce46acd694f8db8de52bc4ae15bdf": {
          "model_module": "@jupyter-widgets/base",
          "model_name": "LayoutModel",
          "model_module_version": "1.2.0",
          "state": {
            "_model_module": "@jupyter-widgets/base",
            "_model_module_version": "1.2.0",
            "_model_name": "LayoutModel",
            "_view_count": null,
            "_view_module": "@jupyter-widgets/base",
            "_view_module_version": "1.2.0",
            "_view_name": "LayoutView",
            "align_content": null,
            "align_items": null,
            "align_self": null,
            "border": null,
            "bottom": null,
            "display": null,
            "flex": null,
            "flex_flow": null,
            "grid_area": null,
            "grid_auto_columns": null,
            "grid_auto_flow": null,
            "grid_auto_rows": null,
            "grid_column": null,
            "grid_gap": null,
            "grid_row": null,
            "grid_template_areas": null,
            "grid_template_columns": null,
            "grid_template_rows": null,
            "height": null,
            "justify_content": null,
            "justify_items": null,
            "left": null,
            "margin": null,
            "max_height": null,
            "max_width": null,
            "min_height": null,
            "min_width": null,
            "object_fit": null,
            "object_position": null,
            "order": null,
            "overflow": null,
            "overflow_x": null,
            "overflow_y": null,
            "padding": null,
            "right": null,
            "top": null,
            "visibility": null,
            "width": null
          }
        },
        "2c92d91325774073be52293c20b13f6f": {
          "model_module": "@jupyter-widgets/controls",
          "model_name": "ProgressStyleModel",
          "model_module_version": "1.5.0",
          "state": {
            "_model_module": "@jupyter-widgets/controls",
            "_model_module_version": "1.5.0",
            "_model_name": "ProgressStyleModel",
            "_view_count": null,
            "_view_module": "@jupyter-widgets/base",
            "_view_module_version": "1.2.0",
            "_view_name": "StyleView",
            "bar_color": null,
            "description_width": ""
          }
        },
        "b072ccbbe6654d249b1933ed5d78bd40": {
          "model_module": "@jupyter-widgets/base",
          "model_name": "LayoutModel",
          "model_module_version": "1.2.0",
          "state": {
            "_model_module": "@jupyter-widgets/base",
            "_model_module_version": "1.2.0",
            "_model_name": "LayoutModel",
            "_view_count": null,
            "_view_module": "@jupyter-widgets/base",
            "_view_module_version": "1.2.0",
            "_view_name": "LayoutView",
            "align_content": null,
            "align_items": null,
            "align_self": null,
            "border": null,
            "bottom": null,
            "display": null,
            "flex": null,
            "flex_flow": null,
            "grid_area": null,
            "grid_auto_columns": null,
            "grid_auto_flow": null,
            "grid_auto_rows": null,
            "grid_column": null,
            "grid_gap": null,
            "grid_row": null,
            "grid_template_areas": null,
            "grid_template_columns": null,
            "grid_template_rows": null,
            "height": null,
            "justify_content": null,
            "justify_items": null,
            "left": null,
            "margin": null,
            "max_height": null,
            "max_width": null,
            "min_height": null,
            "min_width": null,
            "object_fit": null,
            "object_position": null,
            "order": null,
            "overflow": null,
            "overflow_x": null,
            "overflow_y": null,
            "padding": null,
            "right": null,
            "top": null,
            "visibility": null,
            "width": null
          }
        },
        "aa84b3ff97cb4ed8b93ce7db6f483478": {
          "model_module": "@jupyter-widgets/controls",
          "model_name": "DescriptionStyleModel",
          "model_module_version": "1.5.0",
          "state": {
            "_model_module": "@jupyter-widgets/controls",
            "_model_module_version": "1.5.0",
            "_model_name": "DescriptionStyleModel",
            "_view_count": null,
            "_view_module": "@jupyter-widgets/base",
            "_view_module_version": "1.2.0",
            "_view_name": "StyleView",
            "description_width": ""
          }
        },
        "b9abcb1bc50a41b98278286555898468": {
          "model_module": "@jupyter-widgets/controls",
          "model_name": "HBoxModel",
          "model_module_version": "1.5.0",
          "state": {
            "_dom_classes": [],
            "_model_module": "@jupyter-widgets/controls",
            "_model_module_version": "1.5.0",
            "_model_name": "HBoxModel",
            "_view_count": null,
            "_view_module": "@jupyter-widgets/controls",
            "_view_module_version": "1.5.0",
            "_view_name": "HBoxView",
            "box_style": "",
            "children": [
              "IPY_MODEL_b7acdfd9b2ad42a6a77e38a8429bd69e",
              "IPY_MODEL_7ef7d9f123414c8ab56d5479536fb9b0",
              "IPY_MODEL_199783ceeffa4846847a1a4b8855942e"
            ],
            "layout": "IPY_MODEL_d9e3fa2108ba4f40aa4e739c19834452"
          }
        },
        "b7acdfd9b2ad42a6a77e38a8429bd69e": {
          "model_module": "@jupyter-widgets/controls",
          "model_name": "HTMLModel",
          "model_module_version": "1.5.0",
          "state": {
            "_dom_classes": [],
            "_model_module": "@jupyter-widgets/controls",
            "_model_module_version": "1.5.0",
            "_model_name": "HTMLModel",
            "_view_count": null,
            "_view_module": "@jupyter-widgets/controls",
            "_view_module_version": "1.5.0",
            "_view_name": "HTMLView",
            "description": "",
            "description_tooltip": null,
            "layout": "IPY_MODEL_21f71816c4fe4689b1a1463a42fce36a",
            "placeholder": "​",
            "style": "IPY_MODEL_043f7a651c324c0ca3ab8b52046de230",
            "value": "100%"
          }
        },
        "7ef7d9f123414c8ab56d5479536fb9b0": {
          "model_module": "@jupyter-widgets/controls",
          "model_name": "FloatProgressModel",
          "model_module_version": "1.5.0",
          "state": {
            "_dom_classes": [],
            "_model_module": "@jupyter-widgets/controls",
            "_model_module_version": "1.5.0",
            "_model_name": "FloatProgressModel",
            "_view_count": null,
            "_view_module": "@jupyter-widgets/controls",
            "_view_module_version": "1.5.0",
            "_view_name": "ProgressView",
            "bar_style": "success",
            "description": "",
            "description_tooltip": null,
            "layout": "IPY_MODEL_1ce9dfe138e542619ab11d60961bb40a",
            "max": 421,
            "min": 0,
            "orientation": "horizontal",
            "style": "IPY_MODEL_266f77898ff54df394a8b1ac01640a58",
            "value": 421
          }
        },
        "199783ceeffa4846847a1a4b8855942e": {
          "model_module": "@jupyter-widgets/controls",
          "model_name": "HTMLModel",
          "model_module_version": "1.5.0",
          "state": {
            "_dom_classes": [],
            "_model_module": "@jupyter-widgets/controls",
            "_model_module_version": "1.5.0",
            "_model_name": "HTMLModel",
            "_view_count": null,
            "_view_module": "@jupyter-widgets/controls",
            "_view_module_version": "1.5.0",
            "_view_name": "HTMLView",
            "description": "",
            "description_tooltip": null,
            "layout": "IPY_MODEL_28cb489ceff14f658dfa75aecfd752a2",
            "placeholder": "​",
            "style": "IPY_MODEL_dbe6da3abdc0475cacbf92ff753cb5f8",
            "value": " 421/421 [00:00&lt;00:00, 1671.09it/s]"
          }
        },
        "d9e3fa2108ba4f40aa4e739c19834452": {
          "model_module": "@jupyter-widgets/base",
          "model_name": "LayoutModel",
          "model_module_version": "1.2.0",
          "state": {
            "_model_module": "@jupyter-widgets/base",
            "_model_module_version": "1.2.0",
            "_model_name": "LayoutModel",
            "_view_count": null,
            "_view_module": "@jupyter-widgets/base",
            "_view_module_version": "1.2.0",
            "_view_name": "LayoutView",
            "align_content": null,
            "align_items": null,
            "align_self": null,
            "border": null,
            "bottom": null,
            "display": null,
            "flex": null,
            "flex_flow": null,
            "grid_area": null,
            "grid_auto_columns": null,
            "grid_auto_flow": null,
            "grid_auto_rows": null,
            "grid_column": null,
            "grid_gap": null,
            "grid_row": null,
            "grid_template_areas": null,
            "grid_template_columns": null,
            "grid_template_rows": null,
            "height": null,
            "justify_content": null,
            "justify_items": null,
            "left": null,
            "margin": null,
            "max_height": null,
            "max_width": null,
            "min_height": null,
            "min_width": null,
            "object_fit": null,
            "object_position": null,
            "order": null,
            "overflow": null,
            "overflow_x": null,
            "overflow_y": null,
            "padding": null,
            "right": null,
            "top": null,
            "visibility": null,
            "width": null
          }
        },
        "21f71816c4fe4689b1a1463a42fce36a": {
          "model_module": "@jupyter-widgets/base",
          "model_name": "LayoutModel",
          "model_module_version": "1.2.0",
          "state": {
            "_model_module": "@jupyter-widgets/base",
            "_model_module_version": "1.2.0",
            "_model_name": "LayoutModel",
            "_view_count": null,
            "_view_module": "@jupyter-widgets/base",
            "_view_module_version": "1.2.0",
            "_view_name": "LayoutView",
            "align_content": null,
            "align_items": null,
            "align_self": null,
            "border": null,
            "bottom": null,
            "display": null,
            "flex": null,
            "flex_flow": null,
            "grid_area": null,
            "grid_auto_columns": null,
            "grid_auto_flow": null,
            "grid_auto_rows": null,
            "grid_column": null,
            "grid_gap": null,
            "grid_row": null,
            "grid_template_areas": null,
            "grid_template_columns": null,
            "grid_template_rows": null,
            "height": null,
            "justify_content": null,
            "justify_items": null,
            "left": null,
            "margin": null,
            "max_height": null,
            "max_width": null,
            "min_height": null,
            "min_width": null,
            "object_fit": null,
            "object_position": null,
            "order": null,
            "overflow": null,
            "overflow_x": null,
            "overflow_y": null,
            "padding": null,
            "right": null,
            "top": null,
            "visibility": null,
            "width": null
          }
        },
        "043f7a651c324c0ca3ab8b52046de230": {
          "model_module": "@jupyter-widgets/controls",
          "model_name": "DescriptionStyleModel",
          "model_module_version": "1.5.0",
          "state": {
            "_model_module": "@jupyter-widgets/controls",
            "_model_module_version": "1.5.0",
            "_model_name": "DescriptionStyleModel",
            "_view_count": null,
            "_view_module": "@jupyter-widgets/base",
            "_view_module_version": "1.2.0",
            "_view_name": "StyleView",
            "description_width": ""
          }
        },
        "1ce9dfe138e542619ab11d60961bb40a": {
          "model_module": "@jupyter-widgets/base",
          "model_name": "LayoutModel",
          "model_module_version": "1.2.0",
          "state": {
            "_model_module": "@jupyter-widgets/base",
            "_model_module_version": "1.2.0",
            "_model_name": "LayoutModel",
            "_view_count": null,
            "_view_module": "@jupyter-widgets/base",
            "_view_module_version": "1.2.0",
            "_view_name": "LayoutView",
            "align_content": null,
            "align_items": null,
            "align_self": null,
            "border": null,
            "bottom": null,
            "display": null,
            "flex": null,
            "flex_flow": null,
            "grid_area": null,
            "grid_auto_columns": null,
            "grid_auto_flow": null,
            "grid_auto_rows": null,
            "grid_column": null,
            "grid_gap": null,
            "grid_row": null,
            "grid_template_areas": null,
            "grid_template_columns": null,
            "grid_template_rows": null,
            "height": null,
            "justify_content": null,
            "justify_items": null,
            "left": null,
            "margin": null,
            "max_height": null,
            "max_width": null,
            "min_height": null,
            "min_width": null,
            "object_fit": null,
            "object_position": null,
            "order": null,
            "overflow": null,
            "overflow_x": null,
            "overflow_y": null,
            "padding": null,
            "right": null,
            "top": null,
            "visibility": null,
            "width": null
          }
        },
        "266f77898ff54df394a8b1ac01640a58": {
          "model_module": "@jupyter-widgets/controls",
          "model_name": "ProgressStyleModel",
          "model_module_version": "1.5.0",
          "state": {
            "_model_module": "@jupyter-widgets/controls",
            "_model_module_version": "1.5.0",
            "_model_name": "ProgressStyleModel",
            "_view_count": null,
            "_view_module": "@jupyter-widgets/base",
            "_view_module_version": "1.2.0",
            "_view_name": "StyleView",
            "bar_color": null,
            "description_width": ""
          }
        },
        "28cb489ceff14f658dfa75aecfd752a2": {
          "model_module": "@jupyter-widgets/base",
          "model_name": "LayoutModel",
          "model_module_version": "1.2.0",
          "state": {
            "_model_module": "@jupyter-widgets/base",
            "_model_module_version": "1.2.0",
            "_model_name": "LayoutModel",
            "_view_count": null,
            "_view_module": "@jupyter-widgets/base",
            "_view_module_version": "1.2.0",
            "_view_name": "LayoutView",
            "align_content": null,
            "align_items": null,
            "align_self": null,
            "border": null,
            "bottom": null,
            "display": null,
            "flex": null,
            "flex_flow": null,
            "grid_area": null,
            "grid_auto_columns": null,
            "grid_auto_flow": null,
            "grid_auto_rows": null,
            "grid_column": null,
            "grid_gap": null,
            "grid_row": null,
            "grid_template_areas": null,
            "grid_template_columns": null,
            "grid_template_rows": null,
            "height": null,
            "justify_content": null,
            "justify_items": null,
            "left": null,
            "margin": null,
            "max_height": null,
            "max_width": null,
            "min_height": null,
            "min_width": null,
            "object_fit": null,
            "object_position": null,
            "order": null,
            "overflow": null,
            "overflow_x": null,
            "overflow_y": null,
            "padding": null,
            "right": null,
            "top": null,
            "visibility": null,
            "width": null
          }
        },
        "dbe6da3abdc0475cacbf92ff753cb5f8": {
          "model_module": "@jupyter-widgets/controls",
          "model_name": "DescriptionStyleModel",
          "model_module_version": "1.5.0",
          "state": {
            "_model_module": "@jupyter-widgets/controls",
            "_model_module_version": "1.5.0",
            "_model_name": "DescriptionStyleModel",
            "_view_count": null,
            "_view_module": "@jupyter-widgets/base",
            "_view_module_version": "1.2.0",
            "_view_name": "StyleView",
            "description_width": ""
          }
        },
        "2f4edf2c6b2343c6a4be959a3ecb4c2f": {
          "model_module": "@jupyter-widgets/controls",
          "model_name": "HBoxModel",
          "model_module_version": "1.5.0",
          "state": {
            "_dom_classes": [],
            "_model_module": "@jupyter-widgets/controls",
            "_model_module_version": "1.5.0",
            "_model_name": "HBoxModel",
            "_view_count": null,
            "_view_module": "@jupyter-widgets/controls",
            "_view_module_version": "1.5.0",
            "_view_name": "HBoxView",
            "box_style": "",
            "children": [
              "IPY_MODEL_4964a6e2b1e341bdbcbdb326d8b80720",
              "IPY_MODEL_00d041c082c14679b2d615fb232210ee",
              "IPY_MODEL_f48b0249a0694d93813b8de6834819d1"
            ],
            "layout": "IPY_MODEL_123901ce457d4eca8b0e554c62ac8c33"
          }
        },
        "4964a6e2b1e341bdbcbdb326d8b80720": {
          "model_module": "@jupyter-widgets/controls",
          "model_name": "HTMLModel",
          "model_module_version": "1.5.0",
          "state": {
            "_dom_classes": [],
            "_model_module": "@jupyter-widgets/controls",
            "_model_module_version": "1.5.0",
            "_model_name": "HTMLModel",
            "_view_count": null,
            "_view_module": "@jupyter-widgets/controls",
            "_view_module_version": "1.5.0",
            "_view_name": "HTMLView",
            "description": "",
            "description_tooltip": null,
            "layout": "IPY_MODEL_ea924bb5e21a495c98fd95209ead7fa0",
            "placeholder": "​",
            "style": "IPY_MODEL_f561f074ff17451b84b9d57df5a74c76",
            "value": "100%"
          }
        },
        "00d041c082c14679b2d615fb232210ee": {
          "model_module": "@jupyter-widgets/controls",
          "model_name": "FloatProgressModel",
          "model_module_version": "1.5.0",
          "state": {
            "_dom_classes": [],
            "_model_module": "@jupyter-widgets/controls",
            "_model_module_version": "1.5.0",
            "_model_name": "FloatProgressModel",
            "_view_count": null,
            "_view_module": "@jupyter-widgets/controls",
            "_view_module_version": "1.5.0",
            "_view_name": "ProgressView",
            "bar_style": "success",
            "description": "",
            "description_tooltip": null,
            "layout": "IPY_MODEL_7b26c2a7fc674e87a143a60a9a904b54",
            "max": 90,
            "min": 0,
            "orientation": "horizontal",
            "style": "IPY_MODEL_afaba14e54ef49828f24ca3e0e8a7d71",
            "value": 90
          }
        },
        "f48b0249a0694d93813b8de6834819d1": {
          "model_module": "@jupyter-widgets/controls",
          "model_name": "HTMLModel",
          "model_module_version": "1.5.0",
          "state": {
            "_dom_classes": [],
            "_model_module": "@jupyter-widgets/controls",
            "_model_module_version": "1.5.0",
            "_model_name": "HTMLModel",
            "_view_count": null,
            "_view_module": "@jupyter-widgets/controls",
            "_view_module_version": "1.5.0",
            "_view_name": "HTMLView",
            "description": "",
            "description_tooltip": null,
            "layout": "IPY_MODEL_54752ac3baf84160b9be20f4b4c3e24b",
            "placeholder": "​",
            "style": "IPY_MODEL_c9defd67ad6d460abf3d024c48e73a30",
            "value": " 90/90 [00:01&lt;00:00, 74.73it/s]"
          }
        },
        "123901ce457d4eca8b0e554c62ac8c33": {
          "model_module": "@jupyter-widgets/base",
          "model_name": "LayoutModel",
          "model_module_version": "1.2.0",
          "state": {
            "_model_module": "@jupyter-widgets/base",
            "_model_module_version": "1.2.0",
            "_model_name": "LayoutModel",
            "_view_count": null,
            "_view_module": "@jupyter-widgets/base",
            "_view_module_version": "1.2.0",
            "_view_name": "LayoutView",
            "align_content": null,
            "align_items": null,
            "align_self": null,
            "border": null,
            "bottom": null,
            "display": null,
            "flex": null,
            "flex_flow": null,
            "grid_area": null,
            "grid_auto_columns": null,
            "grid_auto_flow": null,
            "grid_auto_rows": null,
            "grid_column": null,
            "grid_gap": null,
            "grid_row": null,
            "grid_template_areas": null,
            "grid_template_columns": null,
            "grid_template_rows": null,
            "height": null,
            "justify_content": null,
            "justify_items": null,
            "left": null,
            "margin": null,
            "max_height": null,
            "max_width": null,
            "min_height": null,
            "min_width": null,
            "object_fit": null,
            "object_position": null,
            "order": null,
            "overflow": null,
            "overflow_x": null,
            "overflow_y": null,
            "padding": null,
            "right": null,
            "top": null,
            "visibility": null,
            "width": null
          }
        },
        "ea924bb5e21a495c98fd95209ead7fa0": {
          "model_module": "@jupyter-widgets/base",
          "model_name": "LayoutModel",
          "model_module_version": "1.2.0",
          "state": {
            "_model_module": "@jupyter-widgets/base",
            "_model_module_version": "1.2.0",
            "_model_name": "LayoutModel",
            "_view_count": null,
            "_view_module": "@jupyter-widgets/base",
            "_view_module_version": "1.2.0",
            "_view_name": "LayoutView",
            "align_content": null,
            "align_items": null,
            "align_self": null,
            "border": null,
            "bottom": null,
            "display": null,
            "flex": null,
            "flex_flow": null,
            "grid_area": null,
            "grid_auto_columns": null,
            "grid_auto_flow": null,
            "grid_auto_rows": null,
            "grid_column": null,
            "grid_gap": null,
            "grid_row": null,
            "grid_template_areas": null,
            "grid_template_columns": null,
            "grid_template_rows": null,
            "height": null,
            "justify_content": null,
            "justify_items": null,
            "left": null,
            "margin": null,
            "max_height": null,
            "max_width": null,
            "min_height": null,
            "min_width": null,
            "object_fit": null,
            "object_position": null,
            "order": null,
            "overflow": null,
            "overflow_x": null,
            "overflow_y": null,
            "padding": null,
            "right": null,
            "top": null,
            "visibility": null,
            "width": null
          }
        },
        "f561f074ff17451b84b9d57df5a74c76": {
          "model_module": "@jupyter-widgets/controls",
          "model_name": "DescriptionStyleModel",
          "model_module_version": "1.5.0",
          "state": {
            "_model_module": "@jupyter-widgets/controls",
            "_model_module_version": "1.5.0",
            "_model_name": "DescriptionStyleModel",
            "_view_count": null,
            "_view_module": "@jupyter-widgets/base",
            "_view_module_version": "1.2.0",
            "_view_name": "StyleView",
            "description_width": ""
          }
        },
        "7b26c2a7fc674e87a143a60a9a904b54": {
          "model_module": "@jupyter-widgets/base",
          "model_name": "LayoutModel",
          "model_module_version": "1.2.0",
          "state": {
            "_model_module": "@jupyter-widgets/base",
            "_model_module_version": "1.2.0",
            "_model_name": "LayoutModel",
            "_view_count": null,
            "_view_module": "@jupyter-widgets/base",
            "_view_module_version": "1.2.0",
            "_view_name": "LayoutView",
            "align_content": null,
            "align_items": null,
            "align_self": null,
            "border": null,
            "bottom": null,
            "display": null,
            "flex": null,
            "flex_flow": null,
            "grid_area": null,
            "grid_auto_columns": null,
            "grid_auto_flow": null,
            "grid_auto_rows": null,
            "grid_column": null,
            "grid_gap": null,
            "grid_row": null,
            "grid_template_areas": null,
            "grid_template_columns": null,
            "grid_template_rows": null,
            "height": null,
            "justify_content": null,
            "justify_items": null,
            "left": null,
            "margin": null,
            "max_height": null,
            "max_width": null,
            "min_height": null,
            "min_width": null,
            "object_fit": null,
            "object_position": null,
            "order": null,
            "overflow": null,
            "overflow_x": null,
            "overflow_y": null,
            "padding": null,
            "right": null,
            "top": null,
            "visibility": null,
            "width": null
          }
        },
        "afaba14e54ef49828f24ca3e0e8a7d71": {
          "model_module": "@jupyter-widgets/controls",
          "model_name": "ProgressStyleModel",
          "model_module_version": "1.5.0",
          "state": {
            "_model_module": "@jupyter-widgets/controls",
            "_model_module_version": "1.5.0",
            "_model_name": "ProgressStyleModel",
            "_view_count": null,
            "_view_module": "@jupyter-widgets/base",
            "_view_module_version": "1.2.0",
            "_view_name": "StyleView",
            "bar_color": null,
            "description_width": ""
          }
        },
        "54752ac3baf84160b9be20f4b4c3e24b": {
          "model_module": "@jupyter-widgets/base",
          "model_name": "LayoutModel",
          "model_module_version": "1.2.0",
          "state": {
            "_model_module": "@jupyter-widgets/base",
            "_model_module_version": "1.2.0",
            "_model_name": "LayoutModel",
            "_view_count": null,
            "_view_module": "@jupyter-widgets/base",
            "_view_module_version": "1.2.0",
            "_view_name": "LayoutView",
            "align_content": null,
            "align_items": null,
            "align_self": null,
            "border": null,
            "bottom": null,
            "display": null,
            "flex": null,
            "flex_flow": null,
            "grid_area": null,
            "grid_auto_columns": null,
            "grid_auto_flow": null,
            "grid_auto_rows": null,
            "grid_column": null,
            "grid_gap": null,
            "grid_row": null,
            "grid_template_areas": null,
            "grid_template_columns": null,
            "grid_template_rows": null,
            "height": null,
            "justify_content": null,
            "justify_items": null,
            "left": null,
            "margin": null,
            "max_height": null,
            "max_width": null,
            "min_height": null,
            "min_width": null,
            "object_fit": null,
            "object_position": null,
            "order": null,
            "overflow": null,
            "overflow_x": null,
            "overflow_y": null,
            "padding": null,
            "right": null,
            "top": null,
            "visibility": null,
            "width": null
          }
        },
        "c9defd67ad6d460abf3d024c48e73a30": {
          "model_module": "@jupyter-widgets/controls",
          "model_name": "DescriptionStyleModel",
          "model_module_version": "1.5.0",
          "state": {
            "_model_module": "@jupyter-widgets/controls",
            "_model_module_version": "1.5.0",
            "_model_name": "DescriptionStyleModel",
            "_view_count": null,
            "_view_module": "@jupyter-widgets/base",
            "_view_module_version": "1.2.0",
            "_view_name": "StyleView",
            "description_width": ""
          }
        }
      }
    }
  },
  "nbformat": 4,
  "nbformat_minor": 0
}